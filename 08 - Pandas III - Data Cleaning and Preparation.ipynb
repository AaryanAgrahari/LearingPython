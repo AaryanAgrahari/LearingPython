{
  "nbformat": 4,
  "nbformat_minor": 0,
  "metadata": {
    "language_info": {
      "codemirror_mode": {
        "name": "ipython",
        "version": 3
      },
      "file_extension": ".py",
      "mimetype": "text/x-python",
      "name": "python",
      "nbconvert_exporter": "python",
      "pygments_lexer": "ipython3",
      "version": "3.7.4"
    },
    "orig_nbformat": 4,
    "kernelspec": {
      "name": "python3",
      "display_name": "Python 3.7.4 64-bit ('base': conda)"
    },
    "interpreter": {
      "hash": "7dae6437c12b1d87f00e0e10a4bd22be66a3b8ec05fb1161d95372f28c39fa9e"
    },
    "colab": {
      "name": "08 - Pandas II - Data Cleaning and Preparation.ipynb",
      "provenance": [],
      "include_colab_link": true
    }
  },
  "cells": [
    {
      "cell_type": "markdown",
      "metadata": {
        "id": "view-in-github",
        "colab_type": "text"
      },
      "source": [
        "<a href=\"https://colab.research.google.com/github/recervictory/LearingPython/blob/Student/08%20-%20Pandas%20III%20-%20Data%20Cleaning%20and%20Preparation.ipynb\" target=\"_parent\"><img src=\"https://colab.research.google.com/assets/colab-badge.svg\" alt=\"Open In Colab\"/></a>"
      ]
    },
    {
      "cell_type": "markdown",
      "metadata": {
        "id": "EltOY5JGWFLk"
      },
      "source": [
        "# Data Cleaning and Preparation\n",
        "\n",
        "During the course of doing data analysis and modeling, a *significant amount of time* is spent on data preparation: loading, cleaning, transforming, and rearranging. Such tasks are often reported to take up *80% or more of an analyst’s time*.\n",
        "\n"
      ]
    },
    {
      "cell_type": "code",
      "metadata": {
        "id": "zOOw9XmiWFLn"
      },
      "source": [
        "import pandas as pd\n",
        "import numpy as np\n",
        "from numpy import nan as NA # represent NaN as NA"
      ],
      "execution_count": null,
      "outputs": []
    },
    {
      "cell_type": "markdown",
      "metadata": {
        "id": "lqlK9iiLWFLm"
      },
      "source": [
        "## A. Handling Missing Data\n",
        "Missing data occurs commonly in many data analysis applications. One of the goals\n",
        "of pandas is to make working with missing data as painless as possible. For example,\n",
        "all of the descriptive statistics on pandas objects exclude missing data by default.\n",
        "\n",
        "The way that missing data is represented in pandas objects is somewhat imperfect,\n",
        "but it is functional for a lot of users. For numeric data, pandas uses the floating-point\n",
        "value NaN (Not a Number) to represent missing data.\n",
        "\n",
        "The built-in Python **None** value is also treated as NA in object arrays:"
      ]
    },
    {
      "cell_type": "code",
      "metadata": {
        "id": "cCEJ3z8oWFLn",
        "outputId": "0703d23d-4613-4021-ede2-f6b4ea720659"
      },
      "source": [
        "string_data = pd.Series(['Kolkata', 'Delhi', np.nan, 'Bangalore'])\n",
        "string_data"
      ],
      "execution_count": null,
      "outputs": [
        {
          "output_type": "execute_result",
          "data": {
            "text/plain": [
              "0      Kolkata\n",
              "1        Delhi\n",
              "2          NaN\n",
              "3    Bangalore\n",
              "dtype: object"
            ]
          },
          "metadata": {
            "tags": []
          },
          "execution_count": 6
        }
      ]
    },
    {
      "cell_type": "code",
      "metadata": {
        "id": "Le97z5xwWFLo",
        "outputId": "13e35976-996e-4369-f9a2-92bd3d1d0329"
      },
      "source": [
        "string_data.isnull()"
      ],
      "execution_count": null,
      "outputs": [
        {
          "output_type": "execute_result",
          "data": {
            "text/plain": [
              "0    False\n",
              "1    False\n",
              "2     True\n",
              "3    False\n",
              "dtype: bool"
            ]
          },
          "metadata": {
            "tags": []
          },
          "execution_count": 7
        }
      ]
    },
    {
      "cell_type": "code",
      "metadata": {
        "id": "qvjlbbcrWFLo",
        "outputId": "cd377764-b959-4db5-975c-219b278b4149"
      },
      "source": [
        "# The built-in Python None value is also treated as NA in object arrays:\n",
        "string_data[0] = None\n",
        "string_data.isnull()"
      ],
      "execution_count": null,
      "outputs": [
        {
          "output_type": "execute_result",
          "data": {
            "text/plain": [
              "0     True\n",
              "1    False\n",
              "2     True\n",
              "3    False\n",
              "dtype: bool"
            ]
          },
          "metadata": {
            "tags": []
          },
          "execution_count": 8
        }
      ]
    },
    {
      "cell_type": "markdown",
      "metadata": {
        "id": "nZgbAWUpWFLp"
      },
      "source": [
        "### NA handling methods\n",
        "- `dropna` Filter axis labels based on whether values for each label have missing data, with varying thresholds for how much missing data to tolerate.\n",
        "- `fillna` Fill in missing data with some value or using an interpolation method such as 'ffill' or 'bfill'.\n",
        "- `isnull` Return boolean values indicating which values are missing/NA.\n",
        "- `notnull` Negation of isnull"
      ]
    },
    {
      "cell_type": "markdown",
      "metadata": {
        "id": "t2a3HFoJWFLp"
      },
      "source": [
        "### Filtering Out Missing Data\n",
        "While you always have the option to do it by hand using `pandas.isnull` and boolean indexing, the `dropna` can be helpful."
      ]
    },
    {
      "cell_type": "code",
      "metadata": {
        "id": "b4TszFS5WFLq",
        "outputId": "a4b88aff-c8c8-4af4-ba83-2406e0cca106"
      },
      "source": [
        "data = pd.Series([1, NA, 3.5, NA, 7])\n",
        "data"
      ],
      "execution_count": null,
      "outputs": [
        {
          "output_type": "execute_result",
          "data": {
            "text/plain": [
              "0    1.0\n",
              "1    NaN\n",
              "2    3.5\n",
              "3    NaN\n",
              "4    7.0\n",
              "dtype: float64"
            ]
          },
          "metadata": {
            "tags": []
          },
          "execution_count": 9
        }
      ]
    },
    {
      "cell_type": "code",
      "metadata": {
        "id": "c2PVOHc6WFLq",
        "outputId": "3da8caa0-9dea-4178-ce56-e39a46809c98"
      },
      "source": [
        "# Droping the Data\n",
        "data.dropna()"
      ],
      "execution_count": null,
      "outputs": [
        {
          "output_type": "execute_result",
          "data": {
            "text/plain": [
              "0    1.0\n",
              "2    3.5\n",
              "4    7.0\n",
              "dtype: float64"
            ]
          },
          "metadata": {
            "tags": []
          },
          "execution_count": 10
        }
      ]
    },
    {
      "cell_type": "code",
      "metadata": {
        "id": "zUSuEg69WFLq",
        "outputId": "6d812f4a-f114-4cb5-e565-1bee9ea75b3a"
      },
      "source": [
        "# This is equivalent to:\n",
        "data[data.notnull()]"
      ],
      "execution_count": null,
      "outputs": [
        {
          "output_type": "execute_result",
          "data": {
            "text/plain": [
              "0    1.0\n",
              "2    3.5\n",
              "4    7.0\n",
              "dtype: float64"
            ]
          },
          "metadata": {
            "tags": []
          },
          "execution_count": 11
        }
      ]
    },
    {
      "cell_type": "markdown",
      "metadata": {
        "id": "0BsuulWhWFLr"
      },
      "source": [
        "With DataFrame objects, things are a bit more complex. You may want to drop rows\n",
        "or columns that are all NA or only those containing any `NAs`. \n",
        "The `dropna` by default drops **any row containing a missing value**:"
      ]
    },
    {
      "cell_type": "code",
      "metadata": {
        "id": "WLfS4AUXWFLr",
        "colab": {
          "base_uri": "https://localhost:8080/",
          "height": 77
        },
        "outputId": "a709eef8-bfcf-4531-cea0-aecfbf2cfa48"
      },
      "source": [
        " \n",
        " data = pd.DataFrame([[1., 6.5, 3.], [1., NA, NA], [NA, NA, NA], [NA, 6.5, 3.]])\n",
        " cleaned = data.dropna()\n",
        " cleaned"
      ],
      "execution_count": null,
      "outputs": [
        {
          "output_type": "execute_result",
          "data": {
            "text/html": [
              "<div>\n",
              "<style scoped>\n",
              "    .dataframe tbody tr th:only-of-type {\n",
              "        vertical-align: middle;\n",
              "    }\n",
              "\n",
              "    .dataframe tbody tr th {\n",
              "        vertical-align: top;\n",
              "    }\n",
              "\n",
              "    .dataframe thead th {\n",
              "        text-align: right;\n",
              "    }\n",
              "</style>\n",
              "<table border=\"1\" class=\"dataframe\">\n",
              "  <thead>\n",
              "    <tr style=\"text-align: right;\">\n",
              "      <th></th>\n",
              "      <th>0</th>\n",
              "      <th>1</th>\n",
              "      <th>2</th>\n",
              "    </tr>\n",
              "  </thead>\n",
              "  <tbody>\n",
              "    <tr>\n",
              "      <th>0</th>\n",
              "      <td>1.0</td>\n",
              "      <td>6.5</td>\n",
              "      <td>3.0</td>\n",
              "    </tr>\n",
              "  </tbody>\n",
              "</table>\n",
              "</div>"
            ],
            "text/plain": [
              "     0    1    2\n",
              "0  1.0  6.5  3.0"
            ]
          },
          "metadata": {
            "tags": []
          },
          "execution_count": 18
        }
      ]
    },
    {
      "cell_type": "code",
      "metadata": {
        "id": "s2sxWtIwWFLs",
        "outputId": "b631a3e6-b368-46c3-bc99-d49fb0384dd5"
      },
      "source": [
        "# Passing how='all' will only drop rows that are all NA:\n",
        "data.dropna(how='all')"
      ],
      "execution_count": null,
      "outputs": [
        {
          "output_type": "execute_result",
          "data": {
            "text/plain": [
              "     0    1    2\n",
              "0  1.0  6.5  3.0\n",
              "1  1.0  NaN  NaN\n",
              "3  NaN  6.5  3.0"
            ],
            "text/html": [
              "<div>\n",
              "<style scoped>\n",
              "    .dataframe tbody tr th:only-of-type {\n",
              "        vertical-align: middle;\n",
              "    }\n",
              "\n",
              "    .dataframe tbody tr th {\n",
              "        vertical-align: top;\n",
              "    }\n",
              "\n",
              "    .dataframe thead th {\n",
              "        text-align: right;\n",
              "    }\n",
              "</style>\n",
              "<table border=\"1\" class=\"dataframe\">\n",
              "  <thead>\n",
              "    <tr style=\"text-align: right;\">\n",
              "      <th></th>\n",
              "      <th>0</th>\n",
              "      <th>1</th>\n",
              "      <th>2</th>\n",
              "    </tr>\n",
              "  </thead>\n",
              "  <tbody>\n",
              "    <tr>\n",
              "      <td>0</td>\n",
              "      <td>1.0</td>\n",
              "      <td>6.5</td>\n",
              "      <td>3.0</td>\n",
              "    </tr>\n",
              "    <tr>\n",
              "      <td>1</td>\n",
              "      <td>1.0</td>\n",
              "      <td>NaN</td>\n",
              "      <td>NaN</td>\n",
              "    </tr>\n",
              "    <tr>\n",
              "      <td>3</td>\n",
              "      <td>NaN</td>\n",
              "      <td>6.5</td>\n",
              "      <td>3.0</td>\n",
              "    </tr>\n",
              "  </tbody>\n",
              "</table>\n",
              "</div>"
            ]
          },
          "metadata": {
            "tags": []
          },
          "execution_count": 14
        }
      ]
    },
    {
      "cell_type": "code",
      "metadata": {
        "id": "nKySadvaWFLs",
        "outputId": "186f09e0-3110-4a89-e047-f04fab281dc6"
      },
      "source": [
        "# To drop columns in the same way, pass axis=1:\n",
        "data[4] = NA\n",
        "data"
      ],
      "execution_count": null,
      "outputs": [
        {
          "output_type": "execute_result",
          "data": {
            "text/plain": [
              "     0    1    2   4\n",
              "0  1.0  6.5  3.0 NaN\n",
              "1  1.0  NaN  NaN NaN\n",
              "2  NaN  NaN  NaN NaN\n",
              "3  NaN  6.5  3.0 NaN"
            ],
            "text/html": [
              "<div>\n",
              "<style scoped>\n",
              "    .dataframe tbody tr th:only-of-type {\n",
              "        vertical-align: middle;\n",
              "    }\n",
              "\n",
              "    .dataframe tbody tr th {\n",
              "        vertical-align: top;\n",
              "    }\n",
              "\n",
              "    .dataframe thead th {\n",
              "        text-align: right;\n",
              "    }\n",
              "</style>\n",
              "<table border=\"1\" class=\"dataframe\">\n",
              "  <thead>\n",
              "    <tr style=\"text-align: right;\">\n",
              "      <th></th>\n",
              "      <th>0</th>\n",
              "      <th>1</th>\n",
              "      <th>2</th>\n",
              "      <th>4</th>\n",
              "    </tr>\n",
              "  </thead>\n",
              "  <tbody>\n",
              "    <tr>\n",
              "      <td>0</td>\n",
              "      <td>1.0</td>\n",
              "      <td>6.5</td>\n",
              "      <td>3.0</td>\n",
              "      <td>NaN</td>\n",
              "    </tr>\n",
              "    <tr>\n",
              "      <td>1</td>\n",
              "      <td>1.0</td>\n",
              "      <td>NaN</td>\n",
              "      <td>NaN</td>\n",
              "      <td>NaN</td>\n",
              "    </tr>\n",
              "    <tr>\n",
              "      <td>2</td>\n",
              "      <td>NaN</td>\n",
              "      <td>NaN</td>\n",
              "      <td>NaN</td>\n",
              "      <td>NaN</td>\n",
              "    </tr>\n",
              "    <tr>\n",
              "      <td>3</td>\n",
              "      <td>NaN</td>\n",
              "      <td>6.5</td>\n",
              "      <td>3.0</td>\n",
              "      <td>NaN</td>\n",
              "    </tr>\n",
              "  </tbody>\n",
              "</table>\n",
              "</div>"
            ]
          },
          "metadata": {
            "tags": []
          },
          "execution_count": 15
        }
      ]
    },
    {
      "cell_type": "code",
      "metadata": {
        "id": "FlAIw98BWFLs",
        "outputId": "3dda3d0e-2c11-4739-c8d6-47d0d8389365"
      },
      "source": [
        "# Drop data column wise\n",
        "data.dropna(axis=1, how='all')"
      ],
      "execution_count": null,
      "outputs": [
        {
          "output_type": "execute_result",
          "data": {
            "text/plain": [
              "     0    1    2\n",
              "0  1.0  6.5  3.0\n",
              "1  1.0  NaN  NaN\n",
              "2  NaN  NaN  NaN\n",
              "3  NaN  6.5  3.0"
            ],
            "text/html": [
              "<div>\n",
              "<style scoped>\n",
              "    .dataframe tbody tr th:only-of-type {\n",
              "        vertical-align: middle;\n",
              "    }\n",
              "\n",
              "    .dataframe tbody tr th {\n",
              "        vertical-align: top;\n",
              "    }\n",
              "\n",
              "    .dataframe thead th {\n",
              "        text-align: right;\n",
              "    }\n",
              "</style>\n",
              "<table border=\"1\" class=\"dataframe\">\n",
              "  <thead>\n",
              "    <tr style=\"text-align: right;\">\n",
              "      <th></th>\n",
              "      <th>0</th>\n",
              "      <th>1</th>\n",
              "      <th>2</th>\n",
              "    </tr>\n",
              "  </thead>\n",
              "  <tbody>\n",
              "    <tr>\n",
              "      <td>0</td>\n",
              "      <td>1.0</td>\n",
              "      <td>6.5</td>\n",
              "      <td>3.0</td>\n",
              "    </tr>\n",
              "    <tr>\n",
              "      <td>1</td>\n",
              "      <td>1.0</td>\n",
              "      <td>NaN</td>\n",
              "      <td>NaN</td>\n",
              "    </tr>\n",
              "    <tr>\n",
              "      <td>2</td>\n",
              "      <td>NaN</td>\n",
              "      <td>NaN</td>\n",
              "      <td>NaN</td>\n",
              "    </tr>\n",
              "    <tr>\n",
              "      <td>3</td>\n",
              "      <td>NaN</td>\n",
              "      <td>6.5</td>\n",
              "      <td>3.0</td>\n",
              "    </tr>\n",
              "  </tbody>\n",
              "</table>\n",
              "</div>"
            ]
          },
          "metadata": {
            "tags": []
          },
          "execution_count": 17
        }
      ]
    },
    {
      "cell_type": "markdown",
      "metadata": {
        "id": "GhB7RiUSWFLs"
      },
      "source": [
        "### Filling In Missing Data\n",
        "For most purposes, the fillna method is the workhorse function to use. Calling fillna with a **constant** replaces **missing values** with that value:"
      ]
    },
    {
      "cell_type": "code",
      "metadata": {
        "id": "WkFsBVfWWlB2",
        "colab": {
          "base_uri": "https://localhost:8080/",
          "height": 254
        },
        "outputId": "42d0cb04-d2a8-4ea3-e8ec-068112c772c6"
      },
      "source": [
        "df = pd.DataFrame(np.random.randn(7, 3), columns=['gold', 'silver', 'copper'])\n",
        "df.iloc[:4, 1] = NA\n",
        "df.iloc[:2, 2] = NA\n",
        "df"
      ],
      "execution_count": null,
      "outputs": [
        {
          "output_type": "execute_result",
          "data": {
            "text/html": [
              "<div>\n",
              "<style scoped>\n",
              "    .dataframe tbody tr th:only-of-type {\n",
              "        vertical-align: middle;\n",
              "    }\n",
              "\n",
              "    .dataframe tbody tr th {\n",
              "        vertical-align: top;\n",
              "    }\n",
              "\n",
              "    .dataframe thead th {\n",
              "        text-align: right;\n",
              "    }\n",
              "</style>\n",
              "<table border=\"1\" class=\"dataframe\">\n",
              "  <thead>\n",
              "    <tr style=\"text-align: right;\">\n",
              "      <th></th>\n",
              "      <th>gold</th>\n",
              "      <th>silver</th>\n",
              "      <th>copper</th>\n",
              "    </tr>\n",
              "  </thead>\n",
              "  <tbody>\n",
              "    <tr>\n",
              "      <th>0</th>\n",
              "      <td>-0.226786</td>\n",
              "      <td>NaN</td>\n",
              "      <td>NaN</td>\n",
              "    </tr>\n",
              "    <tr>\n",
              "      <th>1</th>\n",
              "      <td>-0.373047</td>\n",
              "      <td>NaN</td>\n",
              "      <td>NaN</td>\n",
              "    </tr>\n",
              "    <tr>\n",
              "      <th>2</th>\n",
              "      <td>0.959284</td>\n",
              "      <td>NaN</td>\n",
              "      <td>-0.925050</td>\n",
              "    </tr>\n",
              "    <tr>\n",
              "      <th>3</th>\n",
              "      <td>-1.122867</td>\n",
              "      <td>NaN</td>\n",
              "      <td>0.993560</td>\n",
              "    </tr>\n",
              "    <tr>\n",
              "      <th>4</th>\n",
              "      <td>-0.266494</td>\n",
              "      <td>-0.067346</td>\n",
              "      <td>0.306744</td>\n",
              "    </tr>\n",
              "    <tr>\n",
              "      <th>5</th>\n",
              "      <td>0.473559</td>\n",
              "      <td>1.847703</td>\n",
              "      <td>0.290915</td>\n",
              "    </tr>\n",
              "    <tr>\n",
              "      <th>6</th>\n",
              "      <td>-2.891568</td>\n",
              "      <td>0.871508</td>\n",
              "      <td>1.095741</td>\n",
              "    </tr>\n",
              "  </tbody>\n",
              "</table>\n",
              "</div>"
            ],
            "text/plain": [
              "       gold    silver    copper\n",
              "0 -0.226786       NaN       NaN\n",
              "1 -0.373047       NaN       NaN\n",
              "2  0.959284       NaN -0.925050\n",
              "3 -1.122867       NaN  0.993560\n",
              "4 -0.266494 -0.067346  0.306744\n",
              "5  0.473559  1.847703  0.290915\n",
              "6 -2.891568  0.871508  1.095741"
            ]
          },
          "metadata": {
            "tags": []
          },
          "execution_count": 21
        }
      ]
    },
    {
      "cell_type": "code",
      "metadata": {
        "id": "ubh6cp0bW7o0",
        "colab": {
          "base_uri": "https://localhost:8080/",
          "height": 254
        },
        "outputId": "2c2126ca-5b23-46d2-9a29-248fc992e4d5"
      },
      "source": [
        "# Fill The missing values with Zero\n",
        "df.fillna(0)"
      ],
      "execution_count": null,
      "outputs": [
        {
          "output_type": "execute_result",
          "data": {
            "text/html": [
              "<div>\n",
              "<style scoped>\n",
              "    .dataframe tbody tr th:only-of-type {\n",
              "        vertical-align: middle;\n",
              "    }\n",
              "\n",
              "    .dataframe tbody tr th {\n",
              "        vertical-align: top;\n",
              "    }\n",
              "\n",
              "    .dataframe thead th {\n",
              "        text-align: right;\n",
              "    }\n",
              "</style>\n",
              "<table border=\"1\" class=\"dataframe\">\n",
              "  <thead>\n",
              "    <tr style=\"text-align: right;\">\n",
              "      <th></th>\n",
              "      <th>gold</th>\n",
              "      <th>silver</th>\n",
              "      <th>copper</th>\n",
              "    </tr>\n",
              "  </thead>\n",
              "  <tbody>\n",
              "    <tr>\n",
              "      <th>0</th>\n",
              "      <td>-0.268859</td>\n",
              "      <td>0.000000</td>\n",
              "      <td>0.000000</td>\n",
              "    </tr>\n",
              "    <tr>\n",
              "      <th>1</th>\n",
              "      <td>-0.075585</td>\n",
              "      <td>0.000000</td>\n",
              "      <td>0.000000</td>\n",
              "    </tr>\n",
              "    <tr>\n",
              "      <th>2</th>\n",
              "      <td>-0.857520</td>\n",
              "      <td>0.000000</td>\n",
              "      <td>-0.330685</td>\n",
              "    </tr>\n",
              "    <tr>\n",
              "      <th>3</th>\n",
              "      <td>0.030748</td>\n",
              "      <td>0.000000</td>\n",
              "      <td>0.160671</td>\n",
              "    </tr>\n",
              "    <tr>\n",
              "      <th>4</th>\n",
              "      <td>1.595329</td>\n",
              "      <td>-0.989645</td>\n",
              "      <td>-1.623879</td>\n",
              "    </tr>\n",
              "    <tr>\n",
              "      <th>5</th>\n",
              "      <td>0.458323</td>\n",
              "      <td>-1.080568</td>\n",
              "      <td>-0.737870</td>\n",
              "    </tr>\n",
              "    <tr>\n",
              "      <th>6</th>\n",
              "      <td>-0.747513</td>\n",
              "      <td>-1.474070</td>\n",
              "      <td>0.224658</td>\n",
              "    </tr>\n",
              "  </tbody>\n",
              "</table>\n",
              "</div>"
            ],
            "text/plain": [
              "       gold    silver    copper\n",
              "0 -0.268859  0.000000  0.000000\n",
              "1 -0.075585  0.000000  0.000000\n",
              "2 -0.857520  0.000000 -0.330685\n",
              "3  0.030748  0.000000  0.160671\n",
              "4  1.595329 -0.989645 -1.623879\n",
              "5  0.458323 -1.080568 -0.737870\n",
              "6 -0.747513 -1.474070  0.224658"
            ]
          },
          "metadata": {
            "tags": []
          },
          "execution_count": 7
        }
      ]
    },
    {
      "cell_type": "code",
      "metadata": {
        "id": "XPWs7qYsXJRm",
        "colab": {
          "base_uri": "https://localhost:8080/",
          "height": 254
        },
        "outputId": "f52b5488-25bb-4244-94a8-91a3c2bcbea1"
      },
      "source": [
        "# Calling fillna with a dict, you can use a different fill value for each column:\n",
        "df.fillna({'silver': -1, 'copper': 1})"
      ],
      "execution_count": null,
      "outputs": [
        {
          "output_type": "execute_result",
          "data": {
            "text/html": [
              "<div>\n",
              "<style scoped>\n",
              "    .dataframe tbody tr th:only-of-type {\n",
              "        vertical-align: middle;\n",
              "    }\n",
              "\n",
              "    .dataframe tbody tr th {\n",
              "        vertical-align: top;\n",
              "    }\n",
              "\n",
              "    .dataframe thead th {\n",
              "        text-align: right;\n",
              "    }\n",
              "</style>\n",
              "<table border=\"1\" class=\"dataframe\">\n",
              "  <thead>\n",
              "    <tr style=\"text-align: right;\">\n",
              "      <th></th>\n",
              "      <th>gold</th>\n",
              "      <th>silver</th>\n",
              "      <th>copper</th>\n",
              "    </tr>\n",
              "  </thead>\n",
              "  <tbody>\n",
              "    <tr>\n",
              "      <th>0</th>\n",
              "      <td>-0.268859</td>\n",
              "      <td>-1.000000</td>\n",
              "      <td>1.000000</td>\n",
              "    </tr>\n",
              "    <tr>\n",
              "      <th>1</th>\n",
              "      <td>-0.075585</td>\n",
              "      <td>-1.000000</td>\n",
              "      <td>1.000000</td>\n",
              "    </tr>\n",
              "    <tr>\n",
              "      <th>2</th>\n",
              "      <td>-0.857520</td>\n",
              "      <td>-1.000000</td>\n",
              "      <td>-0.330685</td>\n",
              "    </tr>\n",
              "    <tr>\n",
              "      <th>3</th>\n",
              "      <td>0.030748</td>\n",
              "      <td>-1.000000</td>\n",
              "      <td>0.160671</td>\n",
              "    </tr>\n",
              "    <tr>\n",
              "      <th>4</th>\n",
              "      <td>1.595329</td>\n",
              "      <td>-0.989645</td>\n",
              "      <td>-1.623879</td>\n",
              "    </tr>\n",
              "    <tr>\n",
              "      <th>5</th>\n",
              "      <td>0.458323</td>\n",
              "      <td>-1.080568</td>\n",
              "      <td>-0.737870</td>\n",
              "    </tr>\n",
              "    <tr>\n",
              "      <th>6</th>\n",
              "      <td>-0.747513</td>\n",
              "      <td>-1.474070</td>\n",
              "      <td>0.224658</td>\n",
              "    </tr>\n",
              "  </tbody>\n",
              "</table>\n",
              "</div>"
            ],
            "text/plain": [
              "       gold    silver    copper\n",
              "0 -0.268859 -1.000000  1.000000\n",
              "1 -0.075585 -1.000000  1.000000\n",
              "2 -0.857520 -1.000000 -0.330685\n",
              "3  0.030748 -1.000000  0.160671\n",
              "4  1.595329 -0.989645 -1.623879\n",
              "5  0.458323 -1.080568 -0.737870\n",
              "6 -0.747513 -1.474070  0.224658"
            ]
          },
          "metadata": {
            "tags": []
          },
          "execution_count": 8
        }
      ]
    },
    {
      "cell_type": "code",
      "metadata": {
        "id": "peUw5O3tYN0I",
        "colab": {
          "base_uri": "https://localhost:8080/"
        },
        "outputId": "e9e1bdba-60dc-49d4-dd1c-b2a7575f25f8"
      },
      "source": [
        "# fillna returns a new object, but you can modify the existing object in-place:\n",
        "df.fillna(0)\n",
        "print(df)\n",
        "df.fillna(0, inplace=True) # Important\n",
        "print(df)"
      ],
      "execution_count": null,
      "outputs": [
        {
          "output_type": "stream",
          "text": [
            "       gold    silver    copper\n",
            "0 -0.226786       NaN       NaN\n",
            "1 -0.373047       NaN       NaN\n",
            "2  0.959284       NaN -0.925050\n",
            "3 -1.122867       NaN  0.993560\n",
            "4 -0.266494 -0.067346  0.306744\n",
            "5  0.473559  1.847703  0.290915\n",
            "6 -2.891568  0.871508  1.095741\n",
            "       gold    silver    copper\n",
            "0 -0.226786  0.000000  0.000000\n",
            "1 -0.373047  0.000000  0.000000\n",
            "2  0.959284  0.000000 -0.925050\n",
            "3 -1.122867  0.000000  0.993560\n",
            "4 -0.266494 -0.067346  0.306744\n",
            "5  0.473559  1.847703  0.290915\n",
            "6 -2.891568  0.871508  1.095741\n"
          ],
          "name": "stdout"
        }
      ]
    },
    {
      "cell_type": "markdown",
      "metadata": {
        "id": "xpiB4nzzZkrd"
      },
      "source": [
        "The same **interpolation** methods available for reindexing can be used with fillna:"
      ]
    },
    {
      "cell_type": "code",
      "metadata": {
        "id": "n3cLrs8kYsec",
        "colab": {
          "base_uri": "https://localhost:8080/",
          "height": 225
        },
        "outputId": "788b77cd-fa42-404c-be19-563644536fc5"
      },
      "source": [
        "# Creating Dataframe\n",
        "df = pd.DataFrame(np.random.randn(6, 3), columns=['gold', 'silver', 'copper'])\n",
        "df.iloc[2:, 1] = NA\n",
        "df.iloc[4:, 2] = NA\n",
        "df"
      ],
      "execution_count": null,
      "outputs": [
        {
          "output_type": "execute_result",
          "data": {
            "text/html": [
              "<div>\n",
              "<style scoped>\n",
              "    .dataframe tbody tr th:only-of-type {\n",
              "        vertical-align: middle;\n",
              "    }\n",
              "\n",
              "    .dataframe tbody tr th {\n",
              "        vertical-align: top;\n",
              "    }\n",
              "\n",
              "    .dataframe thead th {\n",
              "        text-align: right;\n",
              "    }\n",
              "</style>\n",
              "<table border=\"1\" class=\"dataframe\">\n",
              "  <thead>\n",
              "    <tr style=\"text-align: right;\">\n",
              "      <th></th>\n",
              "      <th>gold</th>\n",
              "      <th>silver</th>\n",
              "      <th>copper</th>\n",
              "    </tr>\n",
              "  </thead>\n",
              "  <tbody>\n",
              "    <tr>\n",
              "      <th>0</th>\n",
              "      <td>-1.210169</td>\n",
              "      <td>-1.370134</td>\n",
              "      <td>2.177798</td>\n",
              "    </tr>\n",
              "    <tr>\n",
              "      <th>1</th>\n",
              "      <td>1.305728</td>\n",
              "      <td>-1.432419</td>\n",
              "      <td>0.251580</td>\n",
              "    </tr>\n",
              "    <tr>\n",
              "      <th>2</th>\n",
              "      <td>-1.225027</td>\n",
              "      <td>NaN</td>\n",
              "      <td>0.181317</td>\n",
              "    </tr>\n",
              "    <tr>\n",
              "      <th>3</th>\n",
              "      <td>-0.228302</td>\n",
              "      <td>NaN</td>\n",
              "      <td>0.065387</td>\n",
              "    </tr>\n",
              "    <tr>\n",
              "      <th>4</th>\n",
              "      <td>-1.238665</td>\n",
              "      <td>NaN</td>\n",
              "      <td>NaN</td>\n",
              "    </tr>\n",
              "    <tr>\n",
              "      <th>5</th>\n",
              "      <td>-0.224400</td>\n",
              "      <td>NaN</td>\n",
              "      <td>NaN</td>\n",
              "    </tr>\n",
              "  </tbody>\n",
              "</table>\n",
              "</div>"
            ],
            "text/plain": [
              "       gold    silver    copper\n",
              "0 -1.210169 -1.370134  2.177798\n",
              "1  1.305728 -1.432419  0.251580\n",
              "2 -1.225027       NaN  0.181317\n",
              "3 -0.228302       NaN  0.065387\n",
              "4 -1.238665       NaN       NaN\n",
              "5 -0.224400       NaN       NaN"
            ]
          },
          "metadata": {
            "tags": []
          },
          "execution_count": 40
        }
      ]
    },
    {
      "cell_type": "code",
      "metadata": {
        "id": "wgCWjwirZ4SP",
        "colab": {
          "base_uri": "https://localhost:8080/",
          "height": 225
        },
        "outputId": "9b871a37-c256-45f1-8e34-a57df6052118"
      },
      "source": [
        "# Fill 'NA' with forword fill method\n",
        "df.fillna(method='ffill')"
      ],
      "execution_count": null,
      "outputs": [
        {
          "output_type": "execute_result",
          "data": {
            "text/html": [
              "<div>\n",
              "<style scoped>\n",
              "    .dataframe tbody tr th:only-of-type {\n",
              "        vertical-align: middle;\n",
              "    }\n",
              "\n",
              "    .dataframe tbody tr th {\n",
              "        vertical-align: top;\n",
              "    }\n",
              "\n",
              "    .dataframe thead th {\n",
              "        text-align: right;\n",
              "    }\n",
              "</style>\n",
              "<table border=\"1\" class=\"dataframe\">\n",
              "  <thead>\n",
              "    <tr style=\"text-align: right;\">\n",
              "      <th></th>\n",
              "      <th>gold</th>\n",
              "      <th>silver</th>\n",
              "      <th>copper</th>\n",
              "    </tr>\n",
              "  </thead>\n",
              "  <tbody>\n",
              "    <tr>\n",
              "      <th>0</th>\n",
              "      <td>-1.077324</td>\n",
              "      <td>-0.283236</td>\n",
              "      <td>-0.070706</td>\n",
              "    </tr>\n",
              "    <tr>\n",
              "      <th>1</th>\n",
              "      <td>0.509668</td>\n",
              "      <td>0.843724</td>\n",
              "      <td>-0.526803</td>\n",
              "    </tr>\n",
              "    <tr>\n",
              "      <th>2</th>\n",
              "      <td>2.224613</td>\n",
              "      <td>0.843724</td>\n",
              "      <td>0.645850</td>\n",
              "    </tr>\n",
              "    <tr>\n",
              "      <th>3</th>\n",
              "      <td>-0.306794</td>\n",
              "      <td>0.843724</td>\n",
              "      <td>0.887089</td>\n",
              "    </tr>\n",
              "    <tr>\n",
              "      <th>4</th>\n",
              "      <td>-0.316525</td>\n",
              "      <td>0.843724</td>\n",
              "      <td>0.887089</td>\n",
              "    </tr>\n",
              "    <tr>\n",
              "      <th>5</th>\n",
              "      <td>0.002380</td>\n",
              "      <td>0.843724</td>\n",
              "      <td>0.887089</td>\n",
              "    </tr>\n",
              "  </tbody>\n",
              "</table>\n",
              "</div>"
            ],
            "text/plain": [
              "       gold    silver    copper\n",
              "0 -1.077324 -0.283236 -0.070706\n",
              "1  0.509668  0.843724 -0.526803\n",
              "2  2.224613  0.843724  0.645850\n",
              "3 -0.306794  0.843724  0.887089\n",
              "4 -0.316525  0.843724  0.887089\n",
              "5  0.002380  0.843724  0.887089"
            ]
          },
          "metadata": {
            "tags": []
          },
          "execution_count": 36
        }
      ]
    },
    {
      "cell_type": "code",
      "metadata": {
        "id": "SpH3JahKaGwQ",
        "colab": {
          "base_uri": "https://localhost:8080/",
          "height": 225
        },
        "outputId": "217a89a7-01de-44ed-df6c-d92b8b1f5b79"
      },
      "source": [
        "# limit by row\n",
        "df.fillna(method='ffill', limit=2)"
      ],
      "execution_count": null,
      "outputs": [
        {
          "output_type": "execute_result",
          "data": {
            "text/html": [
              "<div>\n",
              "<style scoped>\n",
              "    .dataframe tbody tr th:only-of-type {\n",
              "        vertical-align: middle;\n",
              "    }\n",
              "\n",
              "    .dataframe tbody tr th {\n",
              "        vertical-align: top;\n",
              "    }\n",
              "\n",
              "    .dataframe thead th {\n",
              "        text-align: right;\n",
              "    }\n",
              "</style>\n",
              "<table border=\"1\" class=\"dataframe\">\n",
              "  <thead>\n",
              "    <tr style=\"text-align: right;\">\n",
              "      <th></th>\n",
              "      <th>gold</th>\n",
              "      <th>silver</th>\n",
              "      <th>copper</th>\n",
              "    </tr>\n",
              "  </thead>\n",
              "  <tbody>\n",
              "    <tr>\n",
              "      <th>0</th>\n",
              "      <td>-1.077324</td>\n",
              "      <td>-0.283236</td>\n",
              "      <td>-0.070706</td>\n",
              "    </tr>\n",
              "    <tr>\n",
              "      <th>1</th>\n",
              "      <td>0.509668</td>\n",
              "      <td>0.843724</td>\n",
              "      <td>-0.526803</td>\n",
              "    </tr>\n",
              "    <tr>\n",
              "      <th>2</th>\n",
              "      <td>2.224613</td>\n",
              "      <td>0.843724</td>\n",
              "      <td>0.645850</td>\n",
              "    </tr>\n",
              "    <tr>\n",
              "      <th>3</th>\n",
              "      <td>-0.306794</td>\n",
              "      <td>0.843724</td>\n",
              "      <td>0.887089</td>\n",
              "    </tr>\n",
              "    <tr>\n",
              "      <th>4</th>\n",
              "      <td>-0.316525</td>\n",
              "      <td>NaN</td>\n",
              "      <td>0.887089</td>\n",
              "    </tr>\n",
              "    <tr>\n",
              "      <th>5</th>\n",
              "      <td>0.002380</td>\n",
              "      <td>NaN</td>\n",
              "      <td>0.887089</td>\n",
              "    </tr>\n",
              "  </tbody>\n",
              "</table>\n",
              "</div>"
            ],
            "text/plain": [
              "       gold    silver    copper\n",
              "0 -1.077324 -0.283236 -0.070706\n",
              "1  0.509668  0.843724 -0.526803\n",
              "2  2.224613  0.843724  0.645850\n",
              "3 -0.306794  0.843724  0.887089\n",
              "4 -0.316525       NaN  0.887089\n",
              "5  0.002380       NaN  0.887089"
            ]
          },
          "metadata": {
            "tags": []
          },
          "execution_count": 37
        }
      ]
    },
    {
      "cell_type": "code",
      "metadata": {
        "id": "0-vjGuGOabYD",
        "colab": {
          "base_uri": "https://localhost:8080/",
          "height": 225
        },
        "outputId": "f8645308-c70f-494e-b589-40abe926469b"
      },
      "source": [
        "# you might pass the mean or median values\n",
        "df.fillna(df.mean())"
      ],
      "execution_count": null,
      "outputs": [
        {
          "output_type": "execute_result",
          "data": {
            "text/html": [
              "<div>\n",
              "<style scoped>\n",
              "    .dataframe tbody tr th:only-of-type {\n",
              "        vertical-align: middle;\n",
              "    }\n",
              "\n",
              "    .dataframe tbody tr th {\n",
              "        vertical-align: top;\n",
              "    }\n",
              "\n",
              "    .dataframe thead th {\n",
              "        text-align: right;\n",
              "    }\n",
              "</style>\n",
              "<table border=\"1\" class=\"dataframe\">\n",
              "  <thead>\n",
              "    <tr style=\"text-align: right;\">\n",
              "      <th></th>\n",
              "      <th>gold</th>\n",
              "      <th>silver</th>\n",
              "      <th>copper</th>\n",
              "    </tr>\n",
              "  </thead>\n",
              "  <tbody>\n",
              "    <tr>\n",
              "      <th>0</th>\n",
              "      <td>-1.210169</td>\n",
              "      <td>-1.370134</td>\n",
              "      <td>2.177798</td>\n",
              "    </tr>\n",
              "    <tr>\n",
              "      <th>1</th>\n",
              "      <td>1.305728</td>\n",
              "      <td>-1.432419</td>\n",
              "      <td>0.251580</td>\n",
              "    </tr>\n",
              "    <tr>\n",
              "      <th>2</th>\n",
              "      <td>-1.225027</td>\n",
              "      <td>-1.401277</td>\n",
              "      <td>0.181317</td>\n",
              "    </tr>\n",
              "    <tr>\n",
              "      <th>3</th>\n",
              "      <td>-0.228302</td>\n",
              "      <td>-1.401277</td>\n",
              "      <td>0.065387</td>\n",
              "    </tr>\n",
              "    <tr>\n",
              "      <th>4</th>\n",
              "      <td>-1.238665</td>\n",
              "      <td>-1.401277</td>\n",
              "      <td>0.669021</td>\n",
              "    </tr>\n",
              "    <tr>\n",
              "      <th>5</th>\n",
              "      <td>-0.224400</td>\n",
              "      <td>-1.401277</td>\n",
              "      <td>0.669021</td>\n",
              "    </tr>\n",
              "  </tbody>\n",
              "</table>\n",
              "</div>"
            ],
            "text/plain": [
              "       gold    silver    copper\n",
              "0 -1.210169 -1.370134  2.177798\n",
              "1  1.305728 -1.432419  0.251580\n",
              "2 -1.225027 -1.401277  0.181317\n",
              "3 -0.228302 -1.401277  0.065387\n",
              "4 -1.238665 -1.401277  0.669021\n",
              "5 -0.224400 -1.401277  0.669021"
            ]
          },
          "metadata": {
            "tags": []
          },
          "execution_count": 41
        }
      ]
    },
    {
      "cell_type": "markdown",
      "metadata": {
        "id": "UDP2Eg-rKiXl"
      },
      "source": [
        "## B. Data Transformation\n",
        "\n",
        "### Removing Duplicates\n",
        "Duplicate rows may be found in a DataFrame for any number of reasons. Here is an example:"
      ]
    },
    {
      "cell_type": "code",
      "metadata": {
        "colab": {
          "base_uri": "https://localhost:8080/",
          "height": 266
        },
        "id": "9W_8vri8KhB3",
        "outputId": "ffe3361b-ae7a-4945-c425-cfa335371a76"
      },
      "source": [
        "data = pd.DataFrame({'city': ['kolkata', 'delhi'] * 3 + ['delhi'],'count': [1, 1, 2, 3, 3, 4, 4]})\n",
        "data"
      ],
      "execution_count": null,
      "outputs": [
        {
          "output_type": "execute_result",
          "data": {
            "text/html": [
              "<div>\n",
              "<style scoped>\n",
              "    .dataframe tbody tr th:only-of-type {\n",
              "        vertical-align: middle;\n",
              "    }\n",
              "\n",
              "    .dataframe tbody tr th {\n",
              "        vertical-align: top;\n",
              "    }\n",
              "\n",
              "    .dataframe thead th {\n",
              "        text-align: right;\n",
              "    }\n",
              "</style>\n",
              "<table border=\"1\" class=\"dataframe\">\n",
              "  <thead>\n",
              "    <tr style=\"text-align: right;\">\n",
              "      <th></th>\n",
              "      <th>city</th>\n",
              "      <th>count</th>\n",
              "    </tr>\n",
              "  </thead>\n",
              "  <tbody>\n",
              "    <tr>\n",
              "      <th>0</th>\n",
              "      <td>kolkata</td>\n",
              "      <td>1</td>\n",
              "    </tr>\n",
              "    <tr>\n",
              "      <th>1</th>\n",
              "      <td>delhi</td>\n",
              "      <td>1</td>\n",
              "    </tr>\n",
              "    <tr>\n",
              "      <th>2</th>\n",
              "      <td>kolkata</td>\n",
              "      <td>2</td>\n",
              "    </tr>\n",
              "    <tr>\n",
              "      <th>3</th>\n",
              "      <td>delhi</td>\n",
              "      <td>3</td>\n",
              "    </tr>\n",
              "    <tr>\n",
              "      <th>4</th>\n",
              "      <td>kolkata</td>\n",
              "      <td>3</td>\n",
              "    </tr>\n",
              "    <tr>\n",
              "      <th>5</th>\n",
              "      <td>delhi</td>\n",
              "      <td>4</td>\n",
              "    </tr>\n",
              "    <tr>\n",
              "      <th>6</th>\n",
              "      <td>delhi</td>\n",
              "      <td>4</td>\n",
              "    </tr>\n",
              "  </tbody>\n",
              "</table>\n",
              "</div>"
            ],
            "text/plain": [
              "      city  count\n",
              "0  kolkata      1\n",
              "1    delhi      1\n",
              "2  kolkata      2\n",
              "3    delhi      3\n",
              "4  kolkata      3\n",
              "5    delhi      4\n",
              "6    delhi      4"
            ]
          },
          "metadata": {
            "tags": []
          },
          "execution_count": 9
        }
      ]
    },
    {
      "cell_type": "markdown",
      "metadata": {
        "id": "zIXiCffVMFV1"
      },
      "source": [
        "The DataFrame method `duplicated()` returns a **boolean Series** indicating whether each row is a duplicate (has been observed in a previous row) or not:"
      ]
    },
    {
      "cell_type": "code",
      "metadata": {
        "colab": {
          "base_uri": "https://localhost:8080/"
        },
        "id": "-gHG-m6KMC_H",
        "outputId": "54b6f7b6-a284-4d3e-aafe-7ea962b885c3"
      },
      "source": [
        "data.duplicated()"
      ],
      "execution_count": null,
      "outputs": [
        {
          "output_type": "execute_result",
          "data": {
            "text/plain": [
              "0    False\n",
              "1    False\n",
              "2    False\n",
              "3    False\n",
              "4    False\n",
              "5    False\n",
              "6     True\n",
              "dtype: bool"
            ]
          },
          "metadata": {
            "tags": []
          },
          "execution_count": 10
        }
      ]
    },
    {
      "cell_type": "markdown",
      "metadata": {
        "id": "F5AUcKrZMp86"
      },
      "source": [
        "The `drop_duplicates()` returns a DataFrame where the duplicated array is False:"
      ]
    },
    {
      "cell_type": "code",
      "metadata": {
        "colab": {
          "base_uri": "https://localhost:8080/",
          "height": 235
        },
        "id": "APi8MYEpLkUG",
        "outputId": "57097e1d-7554-4156-dbfe-1ff9ff3cf391"
      },
      "source": [
        "data.drop_duplicates()"
      ],
      "execution_count": null,
      "outputs": [
        {
          "output_type": "execute_result",
          "data": {
            "text/html": [
              "<div>\n",
              "<style scoped>\n",
              "    .dataframe tbody tr th:only-of-type {\n",
              "        vertical-align: middle;\n",
              "    }\n",
              "\n",
              "    .dataframe tbody tr th {\n",
              "        vertical-align: top;\n",
              "    }\n",
              "\n",
              "    .dataframe thead th {\n",
              "        text-align: right;\n",
              "    }\n",
              "</style>\n",
              "<table border=\"1\" class=\"dataframe\">\n",
              "  <thead>\n",
              "    <tr style=\"text-align: right;\">\n",
              "      <th></th>\n",
              "      <th>city</th>\n",
              "      <th>count</th>\n",
              "    </tr>\n",
              "  </thead>\n",
              "  <tbody>\n",
              "    <tr>\n",
              "      <th>0</th>\n",
              "      <td>kolkata</td>\n",
              "      <td>1</td>\n",
              "    </tr>\n",
              "    <tr>\n",
              "      <th>1</th>\n",
              "      <td>delhi</td>\n",
              "      <td>1</td>\n",
              "    </tr>\n",
              "    <tr>\n",
              "      <th>2</th>\n",
              "      <td>kolkata</td>\n",
              "      <td>2</td>\n",
              "    </tr>\n",
              "    <tr>\n",
              "      <th>3</th>\n",
              "      <td>delhi</td>\n",
              "      <td>3</td>\n",
              "    </tr>\n",
              "    <tr>\n",
              "      <th>4</th>\n",
              "      <td>kolkata</td>\n",
              "      <td>3</td>\n",
              "    </tr>\n",
              "    <tr>\n",
              "      <th>5</th>\n",
              "      <td>delhi</td>\n",
              "      <td>4</td>\n",
              "    </tr>\n",
              "  </tbody>\n",
              "</table>\n",
              "</div>"
            ],
            "text/plain": [
              "      city  count\n",
              "0  kolkata      1\n",
              "1    delhi      1\n",
              "2  kolkata      2\n",
              "3    delhi      3\n",
              "4  kolkata      3\n",
              "5    delhi      4"
            ]
          },
          "metadata": {
            "tags": []
          },
          "execution_count": 11
        }
      ]
    },
    {
      "cell_type": "code",
      "metadata": {
        "colab": {
          "base_uri": "https://localhost:8080/",
          "height": 266
        },
        "id": "PeNFgOzXLncS",
        "outputId": "18908001-f288-4725-9237-2165ac4af3d2"
      },
      "source": [
        "data['price'] = np.random.randint(10,100,size=7)\n",
        "data"
      ],
      "execution_count": null,
      "outputs": [
        {
          "output_type": "execute_result",
          "data": {
            "text/html": [
              "<div>\n",
              "<style scoped>\n",
              "    .dataframe tbody tr th:only-of-type {\n",
              "        vertical-align: middle;\n",
              "    }\n",
              "\n",
              "    .dataframe tbody tr th {\n",
              "        vertical-align: top;\n",
              "    }\n",
              "\n",
              "    .dataframe thead th {\n",
              "        text-align: right;\n",
              "    }\n",
              "</style>\n",
              "<table border=\"1\" class=\"dataframe\">\n",
              "  <thead>\n",
              "    <tr style=\"text-align: right;\">\n",
              "      <th></th>\n",
              "      <th>city</th>\n",
              "      <th>count</th>\n",
              "      <th>price</th>\n",
              "    </tr>\n",
              "  </thead>\n",
              "  <tbody>\n",
              "    <tr>\n",
              "      <th>0</th>\n",
              "      <td>kolkata</td>\n",
              "      <td>1</td>\n",
              "      <td>11</td>\n",
              "    </tr>\n",
              "    <tr>\n",
              "      <th>1</th>\n",
              "      <td>delhi</td>\n",
              "      <td>1</td>\n",
              "      <td>51</td>\n",
              "    </tr>\n",
              "    <tr>\n",
              "      <th>2</th>\n",
              "      <td>kolkata</td>\n",
              "      <td>2</td>\n",
              "      <td>78</td>\n",
              "    </tr>\n",
              "    <tr>\n",
              "      <th>3</th>\n",
              "      <td>delhi</td>\n",
              "      <td>3</td>\n",
              "      <td>99</td>\n",
              "    </tr>\n",
              "    <tr>\n",
              "      <th>4</th>\n",
              "      <td>kolkata</td>\n",
              "      <td>3</td>\n",
              "      <td>12</td>\n",
              "    </tr>\n",
              "    <tr>\n",
              "      <th>5</th>\n",
              "      <td>delhi</td>\n",
              "      <td>4</td>\n",
              "      <td>17</td>\n",
              "    </tr>\n",
              "    <tr>\n",
              "      <th>6</th>\n",
              "      <td>delhi</td>\n",
              "      <td>4</td>\n",
              "      <td>20</td>\n",
              "    </tr>\n",
              "  </tbody>\n",
              "</table>\n",
              "</div>"
            ],
            "text/plain": [
              "      city  count  price\n",
              "0  kolkata      1     11\n",
              "1    delhi      1     51\n",
              "2  kolkata      2     78\n",
              "3    delhi      3     99\n",
              "4  kolkata      3     12\n",
              "5    delhi      4     17\n",
              "6    delhi      4     20"
            ]
          },
          "metadata": {
            "tags": []
          },
          "execution_count": 14
        }
      ]
    },
    {
      "cell_type": "code",
      "metadata": {
        "colab": {
          "base_uri": "https://localhost:8080/",
          "height": 111
        },
        "id": "CUN_LZAvNrot",
        "outputId": "be1edee7-417f-4e51-ba45-f50126d35328"
      },
      "source": [
        " # Drop duplicate by column\n",
        " data.drop_duplicates(['city'])"
      ],
      "execution_count": null,
      "outputs": [
        {
          "output_type": "execute_result",
          "data": {
            "text/html": [
              "<div>\n",
              "<style scoped>\n",
              "    .dataframe tbody tr th:only-of-type {\n",
              "        vertical-align: middle;\n",
              "    }\n",
              "\n",
              "    .dataframe tbody tr th {\n",
              "        vertical-align: top;\n",
              "    }\n",
              "\n",
              "    .dataframe thead th {\n",
              "        text-align: right;\n",
              "    }\n",
              "</style>\n",
              "<table border=\"1\" class=\"dataframe\">\n",
              "  <thead>\n",
              "    <tr style=\"text-align: right;\">\n",
              "      <th></th>\n",
              "      <th>city</th>\n",
              "      <th>count</th>\n",
              "      <th>price</th>\n",
              "    </tr>\n",
              "  </thead>\n",
              "  <tbody>\n",
              "    <tr>\n",
              "      <th>0</th>\n",
              "      <td>kolkata</td>\n",
              "      <td>1</td>\n",
              "      <td>11</td>\n",
              "    </tr>\n",
              "    <tr>\n",
              "      <th>1</th>\n",
              "      <td>delhi</td>\n",
              "      <td>1</td>\n",
              "      <td>51</td>\n",
              "    </tr>\n",
              "  </tbody>\n",
              "</table>\n",
              "</div>"
            ],
            "text/plain": [
              "      city  count  price\n",
              "0  kolkata      1     11\n",
              "1    delhi      1     51"
            ]
          },
          "metadata": {
            "tags": []
          },
          "execution_count": 15
        }
      ]
    },
    {
      "cell_type": "markdown",
      "metadata": {
        "id": "tCBrFMF9OVij"
      },
      "source": [
        "### Transforming Data Using a Function or Mapping\n",
        "For many datasets, you may wish to perform some transformation based on the values in an array, Series, or column in a DataFrame. "
      ]
    },
    {
      "cell_type": "code",
      "metadata": {
        "colab": {
          "base_uri": "https://localhost:8080/",
          "height": 204
        },
        "id": "gWGXGsydN_57",
        "outputId": "ca7b7822-48e7-420f-85ce-6e687b846f46"
      },
      "source": [
        "data = pd.DataFrame({'city':['New York','Delhi','Kolkata','Chicago','Las Vegas'], \n",
        "                     'pupulation': np.random.randint(100000,1000000000,size=5)\n",
        "                     })\n",
        "data"
      ],
      "execution_count": null,
      "outputs": [
        {
          "output_type": "execute_result",
          "data": {
            "text/html": [
              "<div>\n",
              "<style scoped>\n",
              "    .dataframe tbody tr th:only-of-type {\n",
              "        vertical-align: middle;\n",
              "    }\n",
              "\n",
              "    .dataframe tbody tr th {\n",
              "        vertical-align: top;\n",
              "    }\n",
              "\n",
              "    .dataframe thead th {\n",
              "        text-align: right;\n",
              "    }\n",
              "</style>\n",
              "<table border=\"1\" class=\"dataframe\">\n",
              "  <thead>\n",
              "    <tr style=\"text-align: right;\">\n",
              "      <th></th>\n",
              "      <th>city</th>\n",
              "      <th>pupulation</th>\n",
              "    </tr>\n",
              "  </thead>\n",
              "  <tbody>\n",
              "    <tr>\n",
              "      <th>0</th>\n",
              "      <td>New York</td>\n",
              "      <td>843448647</td>\n",
              "    </tr>\n",
              "    <tr>\n",
              "      <th>1</th>\n",
              "      <td>Delhi</td>\n",
              "      <td>120493031</td>\n",
              "    </tr>\n",
              "    <tr>\n",
              "      <th>2</th>\n",
              "      <td>Kolkata</td>\n",
              "      <td>782483942</td>\n",
              "    </tr>\n",
              "    <tr>\n",
              "      <th>3</th>\n",
              "      <td>Chicago</td>\n",
              "      <td>127963973</td>\n",
              "    </tr>\n",
              "    <tr>\n",
              "      <th>4</th>\n",
              "      <td>Las Vegas</td>\n",
              "      <td>221313099</td>\n",
              "    </tr>\n",
              "  </tbody>\n",
              "</table>\n",
              "</div>"
            ],
            "text/plain": [
              "        city  pupulation\n",
              "0   New York   843448647\n",
              "1      Delhi   120493031\n",
              "2    Kolkata   782483942\n",
              "3    Chicago   127963973\n",
              "4  Las Vegas   221313099"
            ]
          },
          "metadata": {
            "tags": []
          },
          "execution_count": 16
        }
      ]
    },
    {
      "cell_type": "code",
      "metadata": {
        "colab": {
          "base_uri": "https://localhost:8080/"
        },
        "id": "r8d1fc-VP67O",
        "outputId": "6571cb1d-b558-43db-b1ef-35a90090e215"
      },
      "source": [
        "city_to_country = {'new york':'usa','delhi':'india','kolkata':'india','chicago':'usa','las vegas':'usa'}\n",
        "city_to_country"
      ],
      "execution_count": null,
      "outputs": [
        {
          "output_type": "execute_result",
          "data": {
            "text/plain": [
              "{'chicago': 'usa',\n",
              " 'delhi': 'india',\n",
              " 'kolkata': 'india',\n",
              " 'las vegas': 'usa',\n",
              " 'new york': 'usa'}"
            ]
          },
          "metadata": {
            "tags": []
          },
          "execution_count": 25
        }
      ]
    },
    {
      "cell_type": "code",
      "metadata": {
        "colab": {
          "base_uri": "https://localhost:8080/"
        },
        "id": "6bwP8Ou_QbKP",
        "outputId": "10177c58-02f7-4454-f0c0-458631bd0e9c"
      },
      "source": [
        "# We Need to cheack the data type\n",
        "data.dtypes"
      ],
      "execution_count": null,
      "outputs": [
        {
          "output_type": "execute_result",
          "data": {
            "text/plain": [
              "city          object\n",
              "pupulation     int64\n",
              "dtype: object"
            ]
          },
          "metadata": {
            "tags": []
          },
          "execution_count": 22
        }
      ]
    },
    {
      "cell_type": "code",
      "metadata": {
        "colab": {
          "base_uri": "https://localhost:8080/",
          "height": 204
        },
        "id": "MDbrjR_kQsMd",
        "outputId": "878d0970-c7be-4097-c4e4-04528f8abed6"
      },
      "source": [
        "data['city'] = data['city'].str.lower()\n",
        "data"
      ],
      "execution_count": null,
      "outputs": [
        {
          "output_type": "execute_result",
          "data": {
            "text/html": [
              "<div>\n",
              "<style scoped>\n",
              "    .dataframe tbody tr th:only-of-type {\n",
              "        vertical-align: middle;\n",
              "    }\n",
              "\n",
              "    .dataframe tbody tr th {\n",
              "        vertical-align: top;\n",
              "    }\n",
              "\n",
              "    .dataframe thead th {\n",
              "        text-align: right;\n",
              "    }\n",
              "</style>\n",
              "<table border=\"1\" class=\"dataframe\">\n",
              "  <thead>\n",
              "    <tr style=\"text-align: right;\">\n",
              "      <th></th>\n",
              "      <th>city</th>\n",
              "      <th>pupulation</th>\n",
              "    </tr>\n",
              "  </thead>\n",
              "  <tbody>\n",
              "    <tr>\n",
              "      <th>0</th>\n",
              "      <td>new york</td>\n",
              "      <td>843448647</td>\n",
              "    </tr>\n",
              "    <tr>\n",
              "      <th>1</th>\n",
              "      <td>delhi</td>\n",
              "      <td>120493031</td>\n",
              "    </tr>\n",
              "    <tr>\n",
              "      <th>2</th>\n",
              "      <td>kolkata</td>\n",
              "      <td>782483942</td>\n",
              "    </tr>\n",
              "    <tr>\n",
              "      <th>3</th>\n",
              "      <td>chicago</td>\n",
              "      <td>127963973</td>\n",
              "    </tr>\n",
              "    <tr>\n",
              "      <th>4</th>\n",
              "      <td>las vegas</td>\n",
              "      <td>221313099</td>\n",
              "    </tr>\n",
              "  </tbody>\n",
              "</table>\n",
              "</div>"
            ],
            "text/plain": [
              "        city  pupulation\n",
              "0   new york   843448647\n",
              "1      delhi   120493031\n",
              "2    kolkata   782483942\n",
              "3    chicago   127963973\n",
              "4  las vegas   221313099"
            ]
          },
          "metadata": {
            "tags": []
          },
          "execution_count": 23
        }
      ]
    },
    {
      "cell_type": "code",
      "metadata": {
        "colab": {
          "base_uri": "https://localhost:8080/",
          "height": 204
        },
        "id": "DlW5uW66Reyj",
        "outputId": "f0740418-ddd8-4f18-f822-036df3c76d2f"
      },
      "source": [
        "data['country'] = data['city'].map(city_to_country)\n",
        "data"
      ],
      "execution_count": null,
      "outputs": [
        {
          "output_type": "execute_result",
          "data": {
            "text/html": [
              "<div>\n",
              "<style scoped>\n",
              "    .dataframe tbody tr th:only-of-type {\n",
              "        vertical-align: middle;\n",
              "    }\n",
              "\n",
              "    .dataframe tbody tr th {\n",
              "        vertical-align: top;\n",
              "    }\n",
              "\n",
              "    .dataframe thead th {\n",
              "        text-align: right;\n",
              "    }\n",
              "</style>\n",
              "<table border=\"1\" class=\"dataframe\">\n",
              "  <thead>\n",
              "    <tr style=\"text-align: right;\">\n",
              "      <th></th>\n",
              "      <th>city</th>\n",
              "      <th>pupulation</th>\n",
              "      <th>country</th>\n",
              "    </tr>\n",
              "  </thead>\n",
              "  <tbody>\n",
              "    <tr>\n",
              "      <th>0</th>\n",
              "      <td>new york</td>\n",
              "      <td>843448647</td>\n",
              "      <td>usa</td>\n",
              "    </tr>\n",
              "    <tr>\n",
              "      <th>1</th>\n",
              "      <td>delhi</td>\n",
              "      <td>120493031</td>\n",
              "      <td>india</td>\n",
              "    </tr>\n",
              "    <tr>\n",
              "      <th>2</th>\n",
              "      <td>kolkata</td>\n",
              "      <td>782483942</td>\n",
              "      <td>india</td>\n",
              "    </tr>\n",
              "    <tr>\n",
              "      <th>3</th>\n",
              "      <td>chicago</td>\n",
              "      <td>127963973</td>\n",
              "      <td>usa</td>\n",
              "    </tr>\n",
              "    <tr>\n",
              "      <th>4</th>\n",
              "      <td>las vegas</td>\n",
              "      <td>221313099</td>\n",
              "      <td>usa</td>\n",
              "    </tr>\n",
              "  </tbody>\n",
              "</table>\n",
              "</div>"
            ],
            "text/plain": [
              "        city  pupulation country\n",
              "0   new york   843448647     usa\n",
              "1      delhi   120493031   india\n",
              "2    kolkata   782483942   india\n",
              "3    chicago   127963973     usa\n",
              "4  las vegas   221313099     usa"
            ]
          },
          "metadata": {
            "tags": []
          },
          "execution_count": 26
        }
      ]
    },
    {
      "cell_type": "markdown",
      "metadata": {
        "id": "oKeQs9gfSATd"
      },
      "source": [
        "### Replacing Values\n",
        "Filling in missing data with the `fillna()` method is a special case of more general value replacement. As you’ve already seen, `map()` can be used to modify a subset of values in an object but replace provides a simpler and more flexible way to do so. "
      ]
    },
    {
      "cell_type": "code",
      "metadata": {
        "colab": {
          "base_uri": "https://localhost:8080/",
          "height": 204
        },
        "id": "0oGRkLVwRubh",
        "outputId": "f4326a86-06de-485f-c70f-0b301302aded"
      },
      "source": [
        "data['pupulation'] = data['pupulation'].replace([843448647,127963973\t],np.nan)\n",
        "data"
      ],
      "execution_count": null,
      "outputs": [
        {
          "output_type": "execute_result",
          "data": {
            "text/html": [
              "<div>\n",
              "<style scoped>\n",
              "    .dataframe tbody tr th:only-of-type {\n",
              "        vertical-align: middle;\n",
              "    }\n",
              "\n",
              "    .dataframe tbody tr th {\n",
              "        vertical-align: top;\n",
              "    }\n",
              "\n",
              "    .dataframe thead th {\n",
              "        text-align: right;\n",
              "    }\n",
              "</style>\n",
              "<table border=\"1\" class=\"dataframe\">\n",
              "  <thead>\n",
              "    <tr style=\"text-align: right;\">\n",
              "      <th></th>\n",
              "      <th>city</th>\n",
              "      <th>pupulation</th>\n",
              "      <th>country</th>\n",
              "    </tr>\n",
              "  </thead>\n",
              "  <tbody>\n",
              "    <tr>\n",
              "      <th>0</th>\n",
              "      <td>new york</td>\n",
              "      <td>NaN</td>\n",
              "      <td>usa</td>\n",
              "    </tr>\n",
              "    <tr>\n",
              "      <th>1</th>\n",
              "      <td>delhi</td>\n",
              "      <td>120493031.0</td>\n",
              "      <td>india</td>\n",
              "    </tr>\n",
              "    <tr>\n",
              "      <th>2</th>\n",
              "      <td>kolkata</td>\n",
              "      <td>782483942.0</td>\n",
              "      <td>india</td>\n",
              "    </tr>\n",
              "    <tr>\n",
              "      <th>3</th>\n",
              "      <td>chicago</td>\n",
              "      <td>NaN</td>\n",
              "      <td>usa</td>\n",
              "    </tr>\n",
              "    <tr>\n",
              "      <th>4</th>\n",
              "      <td>las vegas</td>\n",
              "      <td>221313099.0</td>\n",
              "      <td>usa</td>\n",
              "    </tr>\n",
              "  </tbody>\n",
              "</table>\n",
              "</div>"
            ],
            "text/plain": [
              "        city   pupulation country\n",
              "0   new york          NaN     usa\n",
              "1      delhi  120493031.0   india\n",
              "2    kolkata  782483942.0   india\n",
              "3    chicago          NaN     usa\n",
              "4  las vegas  221313099.0     usa"
            ]
          },
          "metadata": {
            "tags": []
          },
          "execution_count": 30
        }
      ]
    },
    {
      "cell_type": "markdown",
      "metadata": {
        "id": "oK7UyJ6CTobP"
      },
      "source": [
        "### Detecting and Filtering Outliers\n",
        "Filtering or transforming **outliers** is largely a matter of applying array operations. Consider a DataFrame with some normally distributed data:"
      ]
    },
    {
      "cell_type": "code",
      "metadata": {
        "colab": {
          "base_uri": "https://localhost:8080/",
          "height": 297
        },
        "id": "DdGdrzDrSm0p",
        "outputId": "e0bbc443-e9e1-4464-dd47-4d27b221fceb"
      },
      "source": [
        "data = pd.DataFrame(np.random.randn(1000, 4),columns=['Aaba','Baba','Caca','Dada'])\n",
        "\n",
        "# Lets find out the outliers\n",
        "data.describe()"
      ],
      "execution_count": null,
      "outputs": [
        {
          "output_type": "execute_result",
          "data": {
            "text/html": [
              "<div>\n",
              "<style scoped>\n",
              "    .dataframe tbody tr th:only-of-type {\n",
              "        vertical-align: middle;\n",
              "    }\n",
              "\n",
              "    .dataframe tbody tr th {\n",
              "        vertical-align: top;\n",
              "    }\n",
              "\n",
              "    .dataframe thead th {\n",
              "        text-align: right;\n",
              "    }\n",
              "</style>\n",
              "<table border=\"1\" class=\"dataframe\">\n",
              "  <thead>\n",
              "    <tr style=\"text-align: right;\">\n",
              "      <th></th>\n",
              "      <th>Aaba</th>\n",
              "      <th>Baba</th>\n",
              "      <th>Caca</th>\n",
              "      <th>Dada</th>\n",
              "    </tr>\n",
              "  </thead>\n",
              "  <tbody>\n",
              "    <tr>\n",
              "      <th>count</th>\n",
              "      <td>1000.000000</td>\n",
              "      <td>1000.000000</td>\n",
              "      <td>1000.000000</td>\n",
              "      <td>1000.000000</td>\n",
              "    </tr>\n",
              "    <tr>\n",
              "      <th>mean</th>\n",
              "      <td>0.025758</td>\n",
              "      <td>-0.028117</td>\n",
              "      <td>-0.033900</td>\n",
              "      <td>0.022928</td>\n",
              "    </tr>\n",
              "    <tr>\n",
              "      <th>std</th>\n",
              "      <td>0.997367</td>\n",
              "      <td>1.009365</td>\n",
              "      <td>1.002591</td>\n",
              "      <td>1.019658</td>\n",
              "    </tr>\n",
              "    <tr>\n",
              "      <th>min</th>\n",
              "      <td>-3.416037</td>\n",
              "      <td>-3.604211</td>\n",
              "      <td>-3.923166</td>\n",
              "      <td>-3.431423</td>\n",
              "    </tr>\n",
              "    <tr>\n",
              "      <th>25%</th>\n",
              "      <td>-0.605312</td>\n",
              "      <td>-0.675626</td>\n",
              "      <td>-0.750218</td>\n",
              "      <td>-0.665727</td>\n",
              "    </tr>\n",
              "    <tr>\n",
              "      <th>50%</th>\n",
              "      <td>0.016001</td>\n",
              "      <td>-0.044608</td>\n",
              "      <td>-0.009559</td>\n",
              "      <td>-0.007187</td>\n",
              "    </tr>\n",
              "    <tr>\n",
              "      <th>75%</th>\n",
              "      <td>0.663454</td>\n",
              "      <td>0.674266</td>\n",
              "      <td>0.674553</td>\n",
              "      <td>0.709867</td>\n",
              "    </tr>\n",
              "    <tr>\n",
              "      <th>max</th>\n",
              "      <td>3.152044</td>\n",
              "      <td>3.349852</td>\n",
              "      <td>3.450299</td>\n",
              "      <td>3.078719</td>\n",
              "    </tr>\n",
              "  </tbody>\n",
              "</table>\n",
              "</div>"
            ],
            "text/plain": [
              "              Aaba         Baba         Caca         Dada\n",
              "count  1000.000000  1000.000000  1000.000000  1000.000000\n",
              "mean      0.025758    -0.028117    -0.033900     0.022928\n",
              "std       0.997367     1.009365     1.002591     1.019658\n",
              "min      -3.416037    -3.604211    -3.923166    -3.431423\n",
              "25%      -0.605312    -0.675626    -0.750218    -0.665727\n",
              "50%       0.016001    -0.044608    -0.009559    -0.007187\n",
              "75%       0.663454     0.674266     0.674553     0.709867\n",
              "max       3.152044     3.349852     3.450299     3.078719"
            ]
          },
          "metadata": {
            "tags": []
          },
          "execution_count": 65
        }
      ]
    },
    {
      "cell_type": "code",
      "metadata": {
        "colab": {
          "base_uri": "https://localhost:8080/",
          "height": 142
        },
        "id": "feDtvMgGUkqZ",
        "outputId": "8d1608e4-0a0a-4ec1-bbe2-8dc49bcaf712"
      },
      "source": [
        "data[np.abs(data['Caca']) > 3]"
      ],
      "execution_count": null,
      "outputs": [
        {
          "output_type": "execute_result",
          "data": {
            "text/html": [
              "<div>\n",
              "<style scoped>\n",
              "    .dataframe tbody tr th:only-of-type {\n",
              "        vertical-align: middle;\n",
              "    }\n",
              "\n",
              "    .dataframe tbody tr th {\n",
              "        vertical-align: top;\n",
              "    }\n",
              "\n",
              "    .dataframe thead th {\n",
              "        text-align: right;\n",
              "    }\n",
              "</style>\n",
              "<table border=\"1\" class=\"dataframe\">\n",
              "  <thead>\n",
              "    <tr style=\"text-align: right;\">\n",
              "      <th></th>\n",
              "      <th>Aaba</th>\n",
              "      <th>Baba</th>\n",
              "      <th>Caca</th>\n",
              "      <th>Dada</th>\n",
              "    </tr>\n",
              "  </thead>\n",
              "  <tbody>\n",
              "    <tr>\n",
              "      <th>221</th>\n",
              "      <td>-1.613693</td>\n",
              "      <td>1.034349</td>\n",
              "      <td>3.401343</td>\n",
              "      <td>-0.113541</td>\n",
              "    </tr>\n",
              "    <tr>\n",
              "      <th>400</th>\n",
              "      <td>-0.566499</td>\n",
              "      <td>0.316156</td>\n",
              "      <td>-3.923166</td>\n",
              "      <td>-0.657563</td>\n",
              "    </tr>\n",
              "    <tr>\n",
              "      <th>896</th>\n",
              "      <td>1.102362</td>\n",
              "      <td>0.610834</td>\n",
              "      <td>3.450299</td>\n",
              "      <td>-1.017217</td>\n",
              "    </tr>\n",
              "  </tbody>\n",
              "</table>\n",
              "</div>"
            ],
            "text/plain": [
              "         Aaba      Baba      Caca      Dada\n",
              "221 -1.613693  1.034349  3.401343 -0.113541\n",
              "400 -0.566499  0.316156 -3.923166 -0.657563\n",
              "896  1.102362  0.610834  3.450299 -1.017217"
            ]
          },
          "metadata": {
            "tags": []
          },
          "execution_count": 66
        }
      ]
    },
    {
      "cell_type": "code",
      "metadata": {
        "colab": {
          "base_uri": "https://localhost:8080/",
          "height": 514
        },
        "id": "Ga5Tr_5QVQqL",
        "outputId": "d12da6cc-44ba-4c98-a964-997fd92e00e5"
      },
      "source": [
        "# Detecting outleirs from any columns in the dataframe\n",
        "\n",
        "data[(np.abs(data) > 3).any(1)] # axis = 1 i.e column wise"
      ],
      "execution_count": null,
      "outputs": [
        {
          "output_type": "execute_result",
          "data": {
            "text/html": [
              "<div>\n",
              "<style scoped>\n",
              "    .dataframe tbody tr th:only-of-type {\n",
              "        vertical-align: middle;\n",
              "    }\n",
              "\n",
              "    .dataframe tbody tr th {\n",
              "        vertical-align: top;\n",
              "    }\n",
              "\n",
              "    .dataframe thead th {\n",
              "        text-align: right;\n",
              "    }\n",
              "</style>\n",
              "<table border=\"1\" class=\"dataframe\">\n",
              "  <thead>\n",
              "    <tr style=\"text-align: right;\">\n",
              "      <th></th>\n",
              "      <th>Aaba</th>\n",
              "      <th>Baba</th>\n",
              "      <th>Caca</th>\n",
              "      <th>Dada</th>\n",
              "    </tr>\n",
              "  </thead>\n",
              "  <tbody>\n",
              "    <tr>\n",
              "      <th>128</th>\n",
              "      <td>-3.416037</td>\n",
              "      <td>-0.265455</td>\n",
              "      <td>0.718571</td>\n",
              "      <td>0.016466</td>\n",
              "    </tr>\n",
              "    <tr>\n",
              "      <th>189</th>\n",
              "      <td>-0.558286</td>\n",
              "      <td>3.073667</td>\n",
              "      <td>-0.117057</td>\n",
              "      <td>0.669899</td>\n",
              "    </tr>\n",
              "    <tr>\n",
              "      <th>221</th>\n",
              "      <td>-1.613693</td>\n",
              "      <td>1.034349</td>\n",
              "      <td>3.401343</td>\n",
              "      <td>-0.113541</td>\n",
              "    </tr>\n",
              "    <tr>\n",
              "      <th>334</th>\n",
              "      <td>-1.232503</td>\n",
              "      <td>3.209663</td>\n",
              "      <td>-0.202893</td>\n",
              "      <td>0.039415</td>\n",
              "    </tr>\n",
              "    <tr>\n",
              "      <th>373</th>\n",
              "      <td>-1.798933</td>\n",
              "      <td>3.349852</td>\n",
              "      <td>-0.142262</td>\n",
              "      <td>-0.746482</td>\n",
              "    </tr>\n",
              "    <tr>\n",
              "      <th>400</th>\n",
              "      <td>-0.566499</td>\n",
              "      <td>0.316156</td>\n",
              "      <td>-3.923166</td>\n",
              "      <td>-0.657563</td>\n",
              "    </tr>\n",
              "    <tr>\n",
              "      <th>531</th>\n",
              "      <td>3.043147</td>\n",
              "      <td>-1.027101</td>\n",
              "      <td>0.059559</td>\n",
              "      <td>0.733911</td>\n",
              "    </tr>\n",
              "    <tr>\n",
              "      <th>600</th>\n",
              "      <td>-0.165575</td>\n",
              "      <td>-3.604211</td>\n",
              "      <td>0.284244</td>\n",
              "      <td>-1.515084</td>\n",
              "    </tr>\n",
              "    <tr>\n",
              "      <th>627</th>\n",
              "      <td>0.876050</td>\n",
              "      <td>-1.524627</td>\n",
              "      <td>0.935809</td>\n",
              "      <td>-3.431423</td>\n",
              "    </tr>\n",
              "    <tr>\n",
              "      <th>677</th>\n",
              "      <td>-0.551666</td>\n",
              "      <td>1.031106</td>\n",
              "      <td>0.317305</td>\n",
              "      <td>-3.262707</td>\n",
              "    </tr>\n",
              "    <tr>\n",
              "      <th>705</th>\n",
              "      <td>-0.565346</td>\n",
              "      <td>-0.065212</td>\n",
              "      <td>-1.032569</td>\n",
              "      <td>-3.094952</td>\n",
              "    </tr>\n",
              "    <tr>\n",
              "      <th>749</th>\n",
              "      <td>3.152044</td>\n",
              "      <td>0.492207</td>\n",
              "      <td>-1.107951</td>\n",
              "      <td>0.683853</td>\n",
              "    </tr>\n",
              "    <tr>\n",
              "      <th>828</th>\n",
              "      <td>-0.688169</td>\n",
              "      <td>0.594959</td>\n",
              "      <td>-0.204525</td>\n",
              "      <td>3.078719</td>\n",
              "    </tr>\n",
              "    <tr>\n",
              "      <th>853</th>\n",
              "      <td>0.505892</td>\n",
              "      <td>3.283388</td>\n",
              "      <td>1.346084</td>\n",
              "      <td>2.652722</td>\n",
              "    </tr>\n",
              "    <tr>\n",
              "      <th>896</th>\n",
              "      <td>1.102362</td>\n",
              "      <td>0.610834</td>\n",
              "      <td>3.450299</td>\n",
              "      <td>-1.017217</td>\n",
              "    </tr>\n",
              "  </tbody>\n",
              "</table>\n",
              "</div>"
            ],
            "text/plain": [
              "         Aaba      Baba      Caca      Dada\n",
              "128 -3.416037 -0.265455  0.718571  0.016466\n",
              "189 -0.558286  3.073667 -0.117057  0.669899\n",
              "221 -1.613693  1.034349  3.401343 -0.113541\n",
              "334 -1.232503  3.209663 -0.202893  0.039415\n",
              "373 -1.798933  3.349852 -0.142262 -0.746482\n",
              "400 -0.566499  0.316156 -3.923166 -0.657563\n",
              "531  3.043147 -1.027101  0.059559  0.733911\n",
              "600 -0.165575 -3.604211  0.284244 -1.515084\n",
              "627  0.876050 -1.524627  0.935809 -3.431423\n",
              "677 -0.551666  1.031106  0.317305 -3.262707\n",
              "705 -0.565346 -0.065212 -1.032569 -3.094952\n",
              "749  3.152044  0.492207 -1.107951  0.683853\n",
              "828 -0.688169  0.594959 -0.204525  3.078719\n",
              "853  0.505892  3.283388  1.346084  2.652722\n",
              "896  1.102362  0.610834  3.450299 -1.017217"
            ]
          },
          "metadata": {
            "tags": []
          },
          "execution_count": 67
        }
      ]
    },
    {
      "cell_type": "code",
      "metadata": {
        "colab": {
          "base_uri": "https://localhost:8080/",
          "height": 49
        },
        "id": "iXNrY9wbXTb3",
        "outputId": "4e9ff1ea-3a46-4089-8b0a-cc5fba4820ff"
      },
      "source": [
        "data[(np.abs(data) > 3).all(1)]"
      ],
      "execution_count": null,
      "outputs": [
        {
          "output_type": "execute_result",
          "data": {
            "text/html": [
              "<div>\n",
              "<style scoped>\n",
              "    .dataframe tbody tr th:only-of-type {\n",
              "        vertical-align: middle;\n",
              "    }\n",
              "\n",
              "    .dataframe tbody tr th {\n",
              "        vertical-align: top;\n",
              "    }\n",
              "\n",
              "    .dataframe thead th {\n",
              "        text-align: right;\n",
              "    }\n",
              "</style>\n",
              "<table border=\"1\" class=\"dataframe\">\n",
              "  <thead>\n",
              "    <tr style=\"text-align: right;\">\n",
              "      <th></th>\n",
              "      <th>Aaba</th>\n",
              "      <th>Baba</th>\n",
              "      <th>Caca</th>\n",
              "      <th>Dada</th>\n",
              "    </tr>\n",
              "  </thead>\n",
              "  <tbody>\n",
              "  </tbody>\n",
              "</table>\n",
              "</div>"
            ],
            "text/plain": [
              "Empty DataFrame\n",
              "Columns: [Aaba, Baba, Caca, Dada]\n",
              "Index: []"
            ]
          },
          "metadata": {
            "tags": []
          },
          "execution_count": 68
        }
      ]
    },
    {
      "cell_type": "code",
      "metadata": {
        "colab": {
          "base_uri": "https://localhost:8080/",
          "height": 80
        },
        "id": "IQqQYN9NXXnE",
        "outputId": "cef94d47-d583-4310-af65-ff6357debca8"
      },
      "source": [
        "new_row = {'Aaba' : 4,\t'Baba':4,\t'Caca': -4,\t'Dada': -4}\n",
        "data = data.append(new_row,ignore_index=True)\n",
        "data[(np.abs(data) > 3).all(1)]"
      ],
      "execution_count": null,
      "outputs": [
        {
          "output_type": "execute_result",
          "data": {
            "text/html": [
              "<div>\n",
              "<style scoped>\n",
              "    .dataframe tbody tr th:only-of-type {\n",
              "        vertical-align: middle;\n",
              "    }\n",
              "\n",
              "    .dataframe tbody tr th {\n",
              "        vertical-align: top;\n",
              "    }\n",
              "\n",
              "    .dataframe thead th {\n",
              "        text-align: right;\n",
              "    }\n",
              "</style>\n",
              "<table border=\"1\" class=\"dataframe\">\n",
              "  <thead>\n",
              "    <tr style=\"text-align: right;\">\n",
              "      <th></th>\n",
              "      <th>Aaba</th>\n",
              "      <th>Baba</th>\n",
              "      <th>Caca</th>\n",
              "      <th>Dada</th>\n",
              "    </tr>\n",
              "  </thead>\n",
              "  <tbody>\n",
              "    <tr>\n",
              "      <th>1000</th>\n",
              "      <td>4.0</td>\n",
              "      <td>4.0</td>\n",
              "      <td>-4.0</td>\n",
              "      <td>-4.0</td>\n",
              "    </tr>\n",
              "  </tbody>\n",
              "</table>\n",
              "</div>"
            ],
            "text/plain": [
              "      Aaba  Baba  Caca  Dada\n",
              "1000   4.0   4.0  -4.0  -4.0"
            ]
          },
          "metadata": {
            "tags": []
          },
          "execution_count": 69
        }
      ]
    },
    {
      "cell_type": "code",
      "metadata": {
        "id": "c9aFzIt6YnKP"
      },
      "source": [
        ""
      ],
      "execution_count": null,
      "outputs": []
    },
    {
      "cell_type": "markdown",
      "metadata": {
        "id": "BYT7FM56w49Y"
      },
      "source": [
        "# Project: Risk of being drawn into online sex work\n",
        "\n",
        "### Context\n",
        "This database was used in the paper: Covert online ethnography and machine learning for detecting individuals at risk of being drawn into online sex work. 2018 IEEE/ACM International Conference on Advances in Social Networks Analysis and Mining (ASONAM), Barcelona, Spain, 28-31 August.\n",
        "\n",
        "### Content\n",
        "The database includes data scraped from a European online adult forum. Using covert online ethnography we interviewed a small number of participants and determined their risk to either supply or demand sex services through that forum. This is a great dataset for semi-supervised learning.\n",
        "\n",
        "### Inspiration\n",
        "How can we identify individuals at risk of being drawn into online sex work? The spread of online social media enables a greater number of people to be involved into online sex trade; however, detecting deviant behaviors online is limited by the low available of data. To overcome this challenge, we combine covert online ethnography with semi-supervised learning using data from a popular European adult forum."
      ]
    },
    {
      "cell_type": "markdown",
      "metadata": {
        "id": "j7d7ldUQyWca"
      },
      "source": [
        "## Importing Data"
      ]
    },
    {
      "cell_type": "code",
      "metadata": {
        "id": "aaqtbgM-yK84"
      },
      "source": [
        "import pandas as pd\n",
        "import numpy as np\n",
        "\n",
        "import warnings; warnings.filterwarnings('ignore')"
      ],
      "execution_count": 58,
      "outputs": []
    },
    {
      "cell_type": "code",
      "metadata": {
        "colab": {
          "base_uri": "https://localhost:8080/",
          "height": 254
        },
        "id": "Cr55C83rya2a",
        "outputId": "b651a000-1d91-4377-95f7-5cea69cbcf55"
      },
      "source": [
        "df = pd.read_csv('/content/online_sex_work.csv', index_col=0)\n",
        "df = df.iloc[: 28831, :]\n",
        "\n",
        "df.head()"
      ],
      "execution_count": 59,
      "outputs": [
        {
          "output_type": "execute_result",
          "data": {
            "text/html": [
              "<div>\n",
              "<style scoped>\n",
              "    .dataframe tbody tr th:only-of-type {\n",
              "        vertical-align: middle;\n",
              "    }\n",
              "\n",
              "    .dataframe tbody tr th {\n",
              "        vertical-align: top;\n",
              "    }\n",
              "\n",
              "    .dataframe thead th {\n",
              "        text-align: right;\n",
              "    }\n",
              "</style>\n",
              "<table border=\"1\" class=\"dataframe\">\n",
              "  <thead>\n",
              "    <tr style=\"text-align: right;\">\n",
              "      <th></th>\n",
              "      <th>Gender</th>\n",
              "      <th>Age</th>\n",
              "      <th>Location</th>\n",
              "      <th>Verification</th>\n",
              "      <th>Sexual_orientation</th>\n",
              "      <th>Sexual_polarity</th>\n",
              "      <th>Looking_for</th>\n",
              "      <th>Points_Rank</th>\n",
              "      <th>Last_login</th>\n",
              "      <th>Member_since</th>\n",
              "      <th>Number_of_Comments_in_public_forum</th>\n",
              "      <th>Time_spent_chating_H:M</th>\n",
              "      <th>Number_of_advertisments_posted</th>\n",
              "      <th>Number_of_offline_meetings_attended</th>\n",
              "      <th>Profile_pictures</th>\n",
              "      <th>Friends_ID_list</th>\n",
              "      <th>Risk</th>\n",
              "    </tr>\n",
              "    <tr>\n",
              "      <th>User_ID</th>\n",
              "      <th></th>\n",
              "      <th></th>\n",
              "      <th></th>\n",
              "      <th></th>\n",
              "      <th></th>\n",
              "      <th></th>\n",
              "      <th></th>\n",
              "      <th></th>\n",
              "      <th></th>\n",
              "      <th></th>\n",
              "      <th></th>\n",
              "      <th></th>\n",
              "      <th></th>\n",
              "      <th></th>\n",
              "      <th></th>\n",
              "      <th></th>\n",
              "      <th></th>\n",
              "    </tr>\n",
              "  </thead>\n",
              "  <tbody>\n",
              "    <tr>\n",
              "      <th>10386.0</th>\n",
              "      <td>male</td>\n",
              "      <td>34,6</td>\n",
              "      <td>A</td>\n",
              "      <td>Non_Verified</td>\n",
              "      <td>Homosexual</td>\n",
              "      <td>Switch</td>\n",
              "      <td>Men</td>\n",
              "      <td>50</td>\n",
              "      <td>before_10_days</td>\n",
              "      <td>17.9.2012</td>\n",
              "      <td>32</td>\n",
              "      <td>0:2</td>\n",
              "      <td>0.0</td>\n",
              "      <td>0.0</td>\n",
              "      <td>0.0</td>\n",
              "      <td>18260</td>\n",
              "      <td>No_risk</td>\n",
              "    </tr>\n",
              "    <tr>\n",
              "      <th>14.0</th>\n",
              "      <td>male</td>\n",
              "      <td>32,2</td>\n",
              "      <td>J</td>\n",
              "      <td>Non_Verified</td>\n",
              "      <td>Heterosexual</td>\n",
              "      <td>Dominant</td>\n",
              "      <td>Women</td>\n",
              "      <td>518</td>\n",
              "      <td>before_1_days</td>\n",
              "      <td>1.11.2009</td>\n",
              "      <td>710</td>\n",
              "      <td>3:45</td>\n",
              "      <td>9.0</td>\n",
              "      <td>0.0</td>\n",
              "      <td>0.0</td>\n",
              "      <td>11778,32024,43768,23969,27318,45884,31277</td>\n",
              "      <td>No_risk</td>\n",
              "    </tr>\n",
              "    <tr>\n",
              "      <th>16721.0</th>\n",
              "      <td>male</td>\n",
              "      <td>33,6</td>\n",
              "      <td>K</td>\n",
              "      <td>Non_Verified</td>\n",
              "      <td>Heterosexual</td>\n",
              "      <td>Dominant</td>\n",
              "      <td>Women</td>\n",
              "      <td>150</td>\n",
              "      <td>before_3_days</td>\n",
              "      <td>1.4.2013</td>\n",
              "      <td>25</td>\n",
              "      <td>2:15</td>\n",
              "      <td>1.0</td>\n",
              "      <td>1.0</td>\n",
              "      <td>45.0</td>\n",
              "      <td>19805,21721,19802</td>\n",
              "      <td>No_risk</td>\n",
              "    </tr>\n",
              "    <tr>\n",
              "      <th>16957.0</th>\n",
              "      <td>male</td>\n",
              "      <td>34</td>\n",
              "      <td>H</td>\n",
              "      <td>Non_Verified</td>\n",
              "      <td>Heterosexual</td>\n",
              "      <td>Dominant</td>\n",
              "      <td>Women</td>\n",
              "      <td>114</td>\n",
              "      <td>before_4_days</td>\n",
              "      <td>8.4.2013</td>\n",
              "      <td>107</td>\n",
              "      <td>359:22</td>\n",
              "      <td>1.0</td>\n",
              "      <td>0.0</td>\n",
              "      <td>1.0</td>\n",
              "      <td>40847,38183,9507,42259,5807,28118,24848,37170,...</td>\n",
              "      <td>No_risk</td>\n",
              "    </tr>\n",
              "    <tr>\n",
              "      <th>17125.0</th>\n",
              "      <td>male</td>\n",
              "      <td>39,5</td>\n",
              "      <td>B</td>\n",
              "      <td>Non_Verified</td>\n",
              "      <td>Heterosexual</td>\n",
              "      <td>Dominant</td>\n",
              "      <td>Women</td>\n",
              "      <td>497</td>\n",
              "      <td>before_5_days</td>\n",
              "      <td>14.4.2013</td>\n",
              "      <td>600</td>\n",
              "      <td>0:21</td>\n",
              "      <td>0.0</td>\n",
              "      <td>6.0</td>\n",
              "      <td>8.0</td>\n",
              "      <td>1320,35739,34231,19097,20197,18069,12330,43342...</td>\n",
              "      <td>No_risk</td>\n",
              "    </tr>\n",
              "  </tbody>\n",
              "</table>\n",
              "</div>"
            ],
            "text/plain": [
              "        Gender  ...     Risk\n",
              "User_ID         ...         \n",
              "10386.0   male  ...  No_risk\n",
              "14.0      male  ...  No_risk\n",
              "16721.0   male  ...  No_risk\n",
              "16957.0   male  ...  No_risk\n",
              "17125.0   male  ...  No_risk\n",
              "\n",
              "[5 rows x 17 columns]"
            ]
          },
          "metadata": {
            "tags": []
          },
          "execution_count": 59
        }
      ]
    },
    {
      "cell_type": "code",
      "metadata": {
        "colab": {
          "base_uri": "https://localhost:8080/"
        },
        "id": "y_wXTIB-ymwW",
        "outputId": "696c1e11-c5b1-4d7d-f9cd-6751575463b6"
      },
      "source": [
        "# Understand the Data Types\n",
        "df.dtypes"
      ],
      "execution_count": 60,
      "outputs": [
        {
          "output_type": "execute_result",
          "data": {
            "text/plain": [
              "Gender                                  object\n",
              "Age                                     object\n",
              "Location                                object\n",
              "Verification                            object\n",
              "Sexual_orientation                      object\n",
              "Sexual_polarity                         object\n",
              "Looking_for                             object\n",
              "Points_Rank                             object\n",
              "Last_login                              object\n",
              "Member_since                            object\n",
              "Number_of_Comments_in_public_forum      object\n",
              "Time_spent_chating_H:M                  object\n",
              "Number_of_advertisments_posted         float64\n",
              "Number_of_offline_meetings_attended    float64\n",
              "Profile_pictures                       float64\n",
              "Friends_ID_list                         object\n",
              "Risk                                    object\n",
              "dtype: object"
            ]
          },
          "metadata": {
            "tags": []
          },
          "execution_count": 60
        }
      ]
    },
    {
      "cell_type": "markdown",
      "metadata": {
        "id": "16hSyAZyzLs8"
      },
      "source": [
        "## Data Cleaning\n"
      ]
    },
    {
      "cell_type": "markdown",
      "metadata": {
        "id": "XKt4YaS9zQrQ"
      },
      "source": [
        "### Change datatype for some features\n",
        "\n",
        "Data in a number of features that contain numerical data could be converted into pure numbers (integers), which would take less memory and could be interpreted more easily by machine learning models."
      ]
    },
    {
      "cell_type": "code",
      "metadata": {
        "colab": {
          "base_uri": "https://localhost:8080/",
          "height": 254
        },
        "id": "oympJlMjy3Ym",
        "outputId": "cb40fc1f-cb39-4300-bd64-1832fff69d11"
      },
      "source": [
        "df.index = df.index.astype(int)\n",
        "df['Number_of_advertisments_posted'] = df['Number_of_advertisments_posted'].astype(int)\n",
        "df['Number_of_offline_meetings_attended'] = df['Number_of_offline_meetings_attended'].astype(int)\n",
        "df['Profile_pictures'] = df['Profile_pictures'].astype(int)\n",
        "df['Friends_ID_list'] = df['Friends_ID_list'].astype(str)\n",
        "df['Risk'] = df['Risk'].astype(str)\n",
        "\n",
        "df.head()"
      ],
      "execution_count": 61,
      "outputs": [
        {
          "output_type": "execute_result",
          "data": {
            "text/html": [
              "<div>\n",
              "<style scoped>\n",
              "    .dataframe tbody tr th:only-of-type {\n",
              "        vertical-align: middle;\n",
              "    }\n",
              "\n",
              "    .dataframe tbody tr th {\n",
              "        vertical-align: top;\n",
              "    }\n",
              "\n",
              "    .dataframe thead th {\n",
              "        text-align: right;\n",
              "    }\n",
              "</style>\n",
              "<table border=\"1\" class=\"dataframe\">\n",
              "  <thead>\n",
              "    <tr style=\"text-align: right;\">\n",
              "      <th></th>\n",
              "      <th>Gender</th>\n",
              "      <th>Age</th>\n",
              "      <th>Location</th>\n",
              "      <th>Verification</th>\n",
              "      <th>Sexual_orientation</th>\n",
              "      <th>Sexual_polarity</th>\n",
              "      <th>Looking_for</th>\n",
              "      <th>Points_Rank</th>\n",
              "      <th>Last_login</th>\n",
              "      <th>Member_since</th>\n",
              "      <th>Number_of_Comments_in_public_forum</th>\n",
              "      <th>Time_spent_chating_H:M</th>\n",
              "      <th>Number_of_advertisments_posted</th>\n",
              "      <th>Number_of_offline_meetings_attended</th>\n",
              "      <th>Profile_pictures</th>\n",
              "      <th>Friends_ID_list</th>\n",
              "      <th>Risk</th>\n",
              "    </tr>\n",
              "    <tr>\n",
              "      <th>User_ID</th>\n",
              "      <th></th>\n",
              "      <th></th>\n",
              "      <th></th>\n",
              "      <th></th>\n",
              "      <th></th>\n",
              "      <th></th>\n",
              "      <th></th>\n",
              "      <th></th>\n",
              "      <th></th>\n",
              "      <th></th>\n",
              "      <th></th>\n",
              "      <th></th>\n",
              "      <th></th>\n",
              "      <th></th>\n",
              "      <th></th>\n",
              "      <th></th>\n",
              "      <th></th>\n",
              "    </tr>\n",
              "  </thead>\n",
              "  <tbody>\n",
              "    <tr>\n",
              "      <th>10386</th>\n",
              "      <td>male</td>\n",
              "      <td>34,6</td>\n",
              "      <td>A</td>\n",
              "      <td>Non_Verified</td>\n",
              "      <td>Homosexual</td>\n",
              "      <td>Switch</td>\n",
              "      <td>Men</td>\n",
              "      <td>50</td>\n",
              "      <td>before_10_days</td>\n",
              "      <td>17.9.2012</td>\n",
              "      <td>32</td>\n",
              "      <td>0:2</td>\n",
              "      <td>0</td>\n",
              "      <td>0</td>\n",
              "      <td>0</td>\n",
              "      <td>18260</td>\n",
              "      <td>No_risk</td>\n",
              "    </tr>\n",
              "    <tr>\n",
              "      <th>14</th>\n",
              "      <td>male</td>\n",
              "      <td>32,2</td>\n",
              "      <td>J</td>\n",
              "      <td>Non_Verified</td>\n",
              "      <td>Heterosexual</td>\n",
              "      <td>Dominant</td>\n",
              "      <td>Women</td>\n",
              "      <td>518</td>\n",
              "      <td>before_1_days</td>\n",
              "      <td>1.11.2009</td>\n",
              "      <td>710</td>\n",
              "      <td>3:45</td>\n",
              "      <td>9</td>\n",
              "      <td>0</td>\n",
              "      <td>0</td>\n",
              "      <td>11778,32024,43768,23969,27318,45884,31277</td>\n",
              "      <td>No_risk</td>\n",
              "    </tr>\n",
              "    <tr>\n",
              "      <th>16721</th>\n",
              "      <td>male</td>\n",
              "      <td>33,6</td>\n",
              "      <td>K</td>\n",
              "      <td>Non_Verified</td>\n",
              "      <td>Heterosexual</td>\n",
              "      <td>Dominant</td>\n",
              "      <td>Women</td>\n",
              "      <td>150</td>\n",
              "      <td>before_3_days</td>\n",
              "      <td>1.4.2013</td>\n",
              "      <td>25</td>\n",
              "      <td>2:15</td>\n",
              "      <td>1</td>\n",
              "      <td>1</td>\n",
              "      <td>45</td>\n",
              "      <td>19805,21721,19802</td>\n",
              "      <td>No_risk</td>\n",
              "    </tr>\n",
              "    <tr>\n",
              "      <th>16957</th>\n",
              "      <td>male</td>\n",
              "      <td>34</td>\n",
              "      <td>H</td>\n",
              "      <td>Non_Verified</td>\n",
              "      <td>Heterosexual</td>\n",
              "      <td>Dominant</td>\n",
              "      <td>Women</td>\n",
              "      <td>114</td>\n",
              "      <td>before_4_days</td>\n",
              "      <td>8.4.2013</td>\n",
              "      <td>107</td>\n",
              "      <td>359:22</td>\n",
              "      <td>1</td>\n",
              "      <td>0</td>\n",
              "      <td>1</td>\n",
              "      <td>40847,38183,9507,42259,5807,28118,24848,37170,...</td>\n",
              "      <td>No_risk</td>\n",
              "    </tr>\n",
              "    <tr>\n",
              "      <th>17125</th>\n",
              "      <td>male</td>\n",
              "      <td>39,5</td>\n",
              "      <td>B</td>\n",
              "      <td>Non_Verified</td>\n",
              "      <td>Heterosexual</td>\n",
              "      <td>Dominant</td>\n",
              "      <td>Women</td>\n",
              "      <td>497</td>\n",
              "      <td>before_5_days</td>\n",
              "      <td>14.4.2013</td>\n",
              "      <td>600</td>\n",
              "      <td>0:21</td>\n",
              "      <td>0</td>\n",
              "      <td>6</td>\n",
              "      <td>8</td>\n",
              "      <td>1320,35739,34231,19097,20197,18069,12330,43342...</td>\n",
              "      <td>No_risk</td>\n",
              "    </tr>\n",
              "  </tbody>\n",
              "</table>\n",
              "</div>"
            ],
            "text/plain": [
              "        Gender  ...     Risk\n",
              "User_ID         ...         \n",
              "10386     male  ...  No_risk\n",
              "14        male  ...  No_risk\n",
              "16721     male  ...  No_risk\n",
              "16957     male  ...  No_risk\n",
              "17125     male  ...  No_risk\n",
              "\n",
              "[5 rows x 17 columns]"
            ]
          },
          "metadata": {
            "tags": []
          },
          "execution_count": 61
        }
      ]
    },
    {
      "cell_type": "code",
      "metadata": {
        "colab": {
          "base_uri": "https://localhost:8080/"
        },
        "id": "kqj1TlUpzgfT",
        "outputId": "01d1173c-fa12-4348-ad2f-17476a5bc4f3"
      },
      "source": [
        "df.dtypes"
      ],
      "execution_count": 62,
      "outputs": [
        {
          "output_type": "execute_result",
          "data": {
            "text/plain": [
              "Gender                                 object\n",
              "Age                                    object\n",
              "Location                               object\n",
              "Verification                           object\n",
              "Sexual_orientation                     object\n",
              "Sexual_polarity                        object\n",
              "Looking_for                            object\n",
              "Points_Rank                            object\n",
              "Last_login                             object\n",
              "Member_since                           object\n",
              "Number_of_Comments_in_public_forum     object\n",
              "Time_spent_chating_H:M                 object\n",
              "Number_of_advertisments_posted          int64\n",
              "Number_of_offline_meetings_attended     int64\n",
              "Profile_pictures                        int64\n",
              "Friends_ID_list                        object\n",
              "Risk                                   object\n",
              "dtype: object"
            ]
          },
          "metadata": {
            "tags": []
          },
          "execution_count": 62
        }
      ]
    },
    {
      "cell_type": "code",
      "metadata": {
        "id": "5jB7rEZ0z2sH"
      },
      "source": [
        "# cheack the Error\n",
        "# df['Number_of_Comments_in_public_forum'] = df['Number_of_Comments_in_public_forum'].astype(int)"
      ],
      "execution_count": 63,
      "outputs": []
    },
    {
      "cell_type": "code",
      "metadata": {
        "id": "bJUltVdez-5w"
      },
      "source": [
        "df['Number_of_Comments_in_public_forum'] = df['Number_of_Comments_in_public_forum'].str.replace(' ', '').astype(int)"
      ],
      "execution_count": 64,
      "outputs": []
    },
    {
      "cell_type": "markdown",
      "metadata": {
        "id": "yYvNIdpTgWt1"
      },
      "source": [
        "### Counting the Missing Values"
      ]
    },
    {
      "cell_type": "code",
      "metadata": {
        "id": "ugRatz1adCYF",
        "outputId": "37e975f4-5ed2-4176-ad28-5db3a1162472",
        "colab": {
          "base_uri": "https://localhost:8080/"
        }
      },
      "source": [
        "# Count of missing values column wise\n",
        "df.isnull().sum()"
      ],
      "execution_count": 65,
      "outputs": [
        {
          "output_type": "execute_result",
          "data": {
            "text/plain": [
              "Gender                                   4\n",
              "Age                                      0\n",
              "Location                                 1\n",
              "Verification                             0\n",
              "Sexual_orientation                       1\n",
              "Sexual_polarity                          1\n",
              "Looking_for                            425\n",
              "Points_Rank                              0\n",
              "Last_login                               0\n",
              "Member_since                             0\n",
              "Number_of_Comments_in_public_forum       0\n",
              "Time_spent_chating_H:M                   0\n",
              "Number_of_advertisments_posted           0\n",
              "Number_of_offline_meetings_attended      0\n",
              "Profile_pictures                         0\n",
              "Friends_ID_list                          0\n",
              "Risk                                     0\n",
              "dtype: int64"
            ]
          },
          "metadata": {
            "tags": []
          },
          "execution_count": 65
        }
      ]
    },
    {
      "cell_type": "markdown",
      "metadata": {
        "id": "eZbL1-ijfVJE"
      },
      "source": [
        "### Convert `Gender` to binary data\n",
        "\n",
        "In the `Gender` column, We fill some missing values using some simple conditions (if the entry is, for example, homosexual, and looking for men, we fill that entry with `male`), using the `fill_gender_na` function below. Then in every entry, we change the data to whether it specifies `female` or not."
      ]
    },
    {
      "cell_type": "code",
      "metadata": {
        "id": "YeE2N25bgIGz"
      },
      "source": [
        "def fill_gender_na(row):\n",
        "    if row['Sexual_orientation'] == 'Homosexual':\n",
        "        if row['Looking_for'] == 'Men':\n",
        "            return 'male'\n",
        "        elif row['Looking_for'] == 'Women':\n",
        "            return 'female'\n",
        "    elif row['Sexual_orientation'] == 'Heterosexual':\n",
        "        if row['Looking_for'] == 'Men':\n",
        "            return 'female'\n",
        "        elif row['Looking_for'] == 'Women':\n",
        "            return 'male'\n",
        "    return np.nan"
      ],
      "execution_count": 66,
      "outputs": []
    },
    {
      "cell_type": "code",
      "metadata": {
        "id": "OVSCic_pghp7"
      },
      "source": [
        "## Fill the missing data\n",
        "fill_values = df.apply(fill_gender_na, axis=1)\n",
        "df['Gender'].fillna(fill_values, inplace=True)"
      ],
      "execution_count": 67,
      "outputs": []
    },
    {
      "cell_type": "code",
      "metadata": {
        "id": "s-4lcqsxhHlN",
        "outputId": "909d598f-4377-42a1-c908-a5ad8352d7b9",
        "colab": {
          "base_uri": "https://localhost:8080/"
        }
      },
      "source": [
        "# Lets check the missing values\n",
        "df.isnull().sum()"
      ],
      "execution_count": 68,
      "outputs": [
        {
          "output_type": "execute_result",
          "data": {
            "text/plain": [
              "Gender                                   4\n",
              "Age                                      0\n",
              "Location                                 1\n",
              "Verification                             0\n",
              "Sexual_orientation                       1\n",
              "Sexual_polarity                          1\n",
              "Looking_for                            425\n",
              "Points_Rank                              0\n",
              "Last_login                               0\n",
              "Member_since                             0\n",
              "Number_of_Comments_in_public_forum       0\n",
              "Time_spent_chating_H:M                   0\n",
              "Number_of_advertisments_posted           0\n",
              "Number_of_offline_meetings_attended      0\n",
              "Profile_pictures                         0\n",
              "Friends_ID_list                          0\n",
              "Risk                                     0\n",
              "dtype: int64"
            ]
          },
          "metadata": {
            "tags": []
          },
          "execution_count": 68
        }
      ]
    },
    {
      "cell_type": "code",
      "metadata": {
        "id": "bvkkJxjShKCy",
        "outputId": "2aac0e27-03ae-4f0e-d59d-1fc0b8834788",
        "colab": {
          "base_uri": "https://localhost:8080/",
          "height": 254
        }
      },
      "source": [
        "# Add missing value with summary statistics \n",
        "df['Gender'].fillna(df['Gender'].mode()[0], inplace=True)\n",
        "df.head()"
      ],
      "execution_count": 69,
      "outputs": [
        {
          "output_type": "execute_result",
          "data": {
            "text/html": [
              "<div>\n",
              "<style scoped>\n",
              "    .dataframe tbody tr th:only-of-type {\n",
              "        vertical-align: middle;\n",
              "    }\n",
              "\n",
              "    .dataframe tbody tr th {\n",
              "        vertical-align: top;\n",
              "    }\n",
              "\n",
              "    .dataframe thead th {\n",
              "        text-align: right;\n",
              "    }\n",
              "</style>\n",
              "<table border=\"1\" class=\"dataframe\">\n",
              "  <thead>\n",
              "    <tr style=\"text-align: right;\">\n",
              "      <th></th>\n",
              "      <th>Gender</th>\n",
              "      <th>Age</th>\n",
              "      <th>Location</th>\n",
              "      <th>Verification</th>\n",
              "      <th>Sexual_orientation</th>\n",
              "      <th>Sexual_polarity</th>\n",
              "      <th>Looking_for</th>\n",
              "      <th>Points_Rank</th>\n",
              "      <th>Last_login</th>\n",
              "      <th>Member_since</th>\n",
              "      <th>Number_of_Comments_in_public_forum</th>\n",
              "      <th>Time_spent_chating_H:M</th>\n",
              "      <th>Number_of_advertisments_posted</th>\n",
              "      <th>Number_of_offline_meetings_attended</th>\n",
              "      <th>Profile_pictures</th>\n",
              "      <th>Friends_ID_list</th>\n",
              "      <th>Risk</th>\n",
              "    </tr>\n",
              "    <tr>\n",
              "      <th>User_ID</th>\n",
              "      <th></th>\n",
              "      <th></th>\n",
              "      <th></th>\n",
              "      <th></th>\n",
              "      <th></th>\n",
              "      <th></th>\n",
              "      <th></th>\n",
              "      <th></th>\n",
              "      <th></th>\n",
              "      <th></th>\n",
              "      <th></th>\n",
              "      <th></th>\n",
              "      <th></th>\n",
              "      <th></th>\n",
              "      <th></th>\n",
              "      <th></th>\n",
              "      <th></th>\n",
              "    </tr>\n",
              "  </thead>\n",
              "  <tbody>\n",
              "    <tr>\n",
              "      <th>10386</th>\n",
              "      <td>male</td>\n",
              "      <td>34,6</td>\n",
              "      <td>A</td>\n",
              "      <td>Non_Verified</td>\n",
              "      <td>Homosexual</td>\n",
              "      <td>Switch</td>\n",
              "      <td>Men</td>\n",
              "      <td>50</td>\n",
              "      <td>before_10_days</td>\n",
              "      <td>17.9.2012</td>\n",
              "      <td>32</td>\n",
              "      <td>0:2</td>\n",
              "      <td>0</td>\n",
              "      <td>0</td>\n",
              "      <td>0</td>\n",
              "      <td>18260</td>\n",
              "      <td>No_risk</td>\n",
              "    </tr>\n",
              "    <tr>\n",
              "      <th>14</th>\n",
              "      <td>male</td>\n",
              "      <td>32,2</td>\n",
              "      <td>J</td>\n",
              "      <td>Non_Verified</td>\n",
              "      <td>Heterosexual</td>\n",
              "      <td>Dominant</td>\n",
              "      <td>Women</td>\n",
              "      <td>518</td>\n",
              "      <td>before_1_days</td>\n",
              "      <td>1.11.2009</td>\n",
              "      <td>710</td>\n",
              "      <td>3:45</td>\n",
              "      <td>9</td>\n",
              "      <td>0</td>\n",
              "      <td>0</td>\n",
              "      <td>11778,32024,43768,23969,27318,45884,31277</td>\n",
              "      <td>No_risk</td>\n",
              "    </tr>\n",
              "    <tr>\n",
              "      <th>16721</th>\n",
              "      <td>male</td>\n",
              "      <td>33,6</td>\n",
              "      <td>K</td>\n",
              "      <td>Non_Verified</td>\n",
              "      <td>Heterosexual</td>\n",
              "      <td>Dominant</td>\n",
              "      <td>Women</td>\n",
              "      <td>150</td>\n",
              "      <td>before_3_days</td>\n",
              "      <td>1.4.2013</td>\n",
              "      <td>25</td>\n",
              "      <td>2:15</td>\n",
              "      <td>1</td>\n",
              "      <td>1</td>\n",
              "      <td>45</td>\n",
              "      <td>19805,21721,19802</td>\n",
              "      <td>No_risk</td>\n",
              "    </tr>\n",
              "    <tr>\n",
              "      <th>16957</th>\n",
              "      <td>male</td>\n",
              "      <td>34</td>\n",
              "      <td>H</td>\n",
              "      <td>Non_Verified</td>\n",
              "      <td>Heterosexual</td>\n",
              "      <td>Dominant</td>\n",
              "      <td>Women</td>\n",
              "      <td>114</td>\n",
              "      <td>before_4_days</td>\n",
              "      <td>8.4.2013</td>\n",
              "      <td>107</td>\n",
              "      <td>359:22</td>\n",
              "      <td>1</td>\n",
              "      <td>0</td>\n",
              "      <td>1</td>\n",
              "      <td>40847,38183,9507,42259,5807,28118,24848,37170,...</td>\n",
              "      <td>No_risk</td>\n",
              "    </tr>\n",
              "    <tr>\n",
              "      <th>17125</th>\n",
              "      <td>male</td>\n",
              "      <td>39,5</td>\n",
              "      <td>B</td>\n",
              "      <td>Non_Verified</td>\n",
              "      <td>Heterosexual</td>\n",
              "      <td>Dominant</td>\n",
              "      <td>Women</td>\n",
              "      <td>497</td>\n",
              "      <td>before_5_days</td>\n",
              "      <td>14.4.2013</td>\n",
              "      <td>600</td>\n",
              "      <td>0:21</td>\n",
              "      <td>0</td>\n",
              "      <td>6</td>\n",
              "      <td>8</td>\n",
              "      <td>1320,35739,34231,19097,20197,18069,12330,43342...</td>\n",
              "      <td>No_risk</td>\n",
              "    </tr>\n",
              "  </tbody>\n",
              "</table>\n",
              "</div>"
            ],
            "text/plain": [
              "        Gender  ...     Risk\n",
              "User_ID         ...         \n",
              "10386     male  ...  No_risk\n",
              "14        male  ...  No_risk\n",
              "16721     male  ...  No_risk\n",
              "16957     male  ...  No_risk\n",
              "17125     male  ...  No_risk\n",
              "\n",
              "[5 rows x 17 columns]"
            ]
          },
          "metadata": {
            "tags": []
          },
          "execution_count": 69
        }
      ]
    },
    {
      "cell_type": "code",
      "metadata": {
        "id": "VLSsYnIOheq9",
        "outputId": "58a93157-35fb-4469-b652-6e1b51949c28",
        "colab": {
          "base_uri": "https://localhost:8080/"
        }
      },
      "source": [
        "# Lets check the missing values\n",
        "df.isnull().sum()"
      ],
      "execution_count": 70,
      "outputs": [
        {
          "output_type": "execute_result",
          "data": {
            "text/plain": [
              "Gender                                   0\n",
              "Age                                      0\n",
              "Location                                 1\n",
              "Verification                             0\n",
              "Sexual_orientation                       1\n",
              "Sexual_polarity                          1\n",
              "Looking_for                            425\n",
              "Points_Rank                              0\n",
              "Last_login                               0\n",
              "Member_since                             0\n",
              "Number_of_Comments_in_public_forum       0\n",
              "Time_spent_chating_H:M                   0\n",
              "Number_of_advertisments_posted           0\n",
              "Number_of_offline_meetings_attended      0\n",
              "Profile_pictures                         0\n",
              "Friends_ID_list                          0\n",
              "Risk                                     0\n",
              "dtype: int64"
            ]
          },
          "metadata": {
            "tags": []
          },
          "execution_count": 70
        }
      ]
    },
    {
      "cell_type": "markdown",
      "metadata": {
        "id": "a708xJHmjND3"
      },
      "source": [
        "### Insert new Binary column named 'Female'"
      ]
    },
    {
      "cell_type": "code",
      "metadata": {
        "id": "r0wmwLVtjMBT",
        "outputId": "47a28973-58a2-4b38-95b5-ea74af4e6631",
        "colab": {
          "base_uri": "https://localhost:8080/",
          "height": 254
        }
      },
      "source": [
        "df.insert(0, 'Female', df['Gender'] == 'female')\n",
        "df.head()"
      ],
      "execution_count": 71,
      "outputs": [
        {
          "output_type": "execute_result",
          "data": {
            "text/html": [
              "<div>\n",
              "<style scoped>\n",
              "    .dataframe tbody tr th:only-of-type {\n",
              "        vertical-align: middle;\n",
              "    }\n",
              "\n",
              "    .dataframe tbody tr th {\n",
              "        vertical-align: top;\n",
              "    }\n",
              "\n",
              "    .dataframe thead th {\n",
              "        text-align: right;\n",
              "    }\n",
              "</style>\n",
              "<table border=\"1\" class=\"dataframe\">\n",
              "  <thead>\n",
              "    <tr style=\"text-align: right;\">\n",
              "      <th></th>\n",
              "      <th>Female</th>\n",
              "      <th>Gender</th>\n",
              "      <th>Age</th>\n",
              "      <th>Location</th>\n",
              "      <th>Verification</th>\n",
              "      <th>Sexual_orientation</th>\n",
              "      <th>Sexual_polarity</th>\n",
              "      <th>Looking_for</th>\n",
              "      <th>Points_Rank</th>\n",
              "      <th>Last_login</th>\n",
              "      <th>Member_since</th>\n",
              "      <th>Number_of_Comments_in_public_forum</th>\n",
              "      <th>Time_spent_chating_H:M</th>\n",
              "      <th>Number_of_advertisments_posted</th>\n",
              "      <th>Number_of_offline_meetings_attended</th>\n",
              "      <th>Profile_pictures</th>\n",
              "      <th>Friends_ID_list</th>\n",
              "      <th>Risk</th>\n",
              "    </tr>\n",
              "    <tr>\n",
              "      <th>User_ID</th>\n",
              "      <th></th>\n",
              "      <th></th>\n",
              "      <th></th>\n",
              "      <th></th>\n",
              "      <th></th>\n",
              "      <th></th>\n",
              "      <th></th>\n",
              "      <th></th>\n",
              "      <th></th>\n",
              "      <th></th>\n",
              "      <th></th>\n",
              "      <th></th>\n",
              "      <th></th>\n",
              "      <th></th>\n",
              "      <th></th>\n",
              "      <th></th>\n",
              "      <th></th>\n",
              "      <th></th>\n",
              "    </tr>\n",
              "  </thead>\n",
              "  <tbody>\n",
              "    <tr>\n",
              "      <th>10386</th>\n",
              "      <td>False</td>\n",
              "      <td>male</td>\n",
              "      <td>34,6</td>\n",
              "      <td>A</td>\n",
              "      <td>Non_Verified</td>\n",
              "      <td>Homosexual</td>\n",
              "      <td>Switch</td>\n",
              "      <td>Men</td>\n",
              "      <td>50</td>\n",
              "      <td>before_10_days</td>\n",
              "      <td>17.9.2012</td>\n",
              "      <td>32</td>\n",
              "      <td>0:2</td>\n",
              "      <td>0</td>\n",
              "      <td>0</td>\n",
              "      <td>0</td>\n",
              "      <td>18260</td>\n",
              "      <td>No_risk</td>\n",
              "    </tr>\n",
              "    <tr>\n",
              "      <th>14</th>\n",
              "      <td>False</td>\n",
              "      <td>male</td>\n",
              "      <td>32,2</td>\n",
              "      <td>J</td>\n",
              "      <td>Non_Verified</td>\n",
              "      <td>Heterosexual</td>\n",
              "      <td>Dominant</td>\n",
              "      <td>Women</td>\n",
              "      <td>518</td>\n",
              "      <td>before_1_days</td>\n",
              "      <td>1.11.2009</td>\n",
              "      <td>710</td>\n",
              "      <td>3:45</td>\n",
              "      <td>9</td>\n",
              "      <td>0</td>\n",
              "      <td>0</td>\n",
              "      <td>11778,32024,43768,23969,27318,45884,31277</td>\n",
              "      <td>No_risk</td>\n",
              "    </tr>\n",
              "    <tr>\n",
              "      <th>16721</th>\n",
              "      <td>False</td>\n",
              "      <td>male</td>\n",
              "      <td>33,6</td>\n",
              "      <td>K</td>\n",
              "      <td>Non_Verified</td>\n",
              "      <td>Heterosexual</td>\n",
              "      <td>Dominant</td>\n",
              "      <td>Women</td>\n",
              "      <td>150</td>\n",
              "      <td>before_3_days</td>\n",
              "      <td>1.4.2013</td>\n",
              "      <td>25</td>\n",
              "      <td>2:15</td>\n",
              "      <td>1</td>\n",
              "      <td>1</td>\n",
              "      <td>45</td>\n",
              "      <td>19805,21721,19802</td>\n",
              "      <td>No_risk</td>\n",
              "    </tr>\n",
              "    <tr>\n",
              "      <th>16957</th>\n",
              "      <td>False</td>\n",
              "      <td>male</td>\n",
              "      <td>34</td>\n",
              "      <td>H</td>\n",
              "      <td>Non_Verified</td>\n",
              "      <td>Heterosexual</td>\n",
              "      <td>Dominant</td>\n",
              "      <td>Women</td>\n",
              "      <td>114</td>\n",
              "      <td>before_4_days</td>\n",
              "      <td>8.4.2013</td>\n",
              "      <td>107</td>\n",
              "      <td>359:22</td>\n",
              "      <td>1</td>\n",
              "      <td>0</td>\n",
              "      <td>1</td>\n",
              "      <td>40847,38183,9507,42259,5807,28118,24848,37170,...</td>\n",
              "      <td>No_risk</td>\n",
              "    </tr>\n",
              "    <tr>\n",
              "      <th>17125</th>\n",
              "      <td>False</td>\n",
              "      <td>male</td>\n",
              "      <td>39,5</td>\n",
              "      <td>B</td>\n",
              "      <td>Non_Verified</td>\n",
              "      <td>Heterosexual</td>\n",
              "      <td>Dominant</td>\n",
              "      <td>Women</td>\n",
              "      <td>497</td>\n",
              "      <td>before_5_days</td>\n",
              "      <td>14.4.2013</td>\n",
              "      <td>600</td>\n",
              "      <td>0:21</td>\n",
              "      <td>0</td>\n",
              "      <td>6</td>\n",
              "      <td>8</td>\n",
              "      <td>1320,35739,34231,19097,20197,18069,12330,43342...</td>\n",
              "      <td>No_risk</td>\n",
              "    </tr>\n",
              "  </tbody>\n",
              "</table>\n",
              "</div>"
            ],
            "text/plain": [
              "         Female  ...     Risk\n",
              "User_ID          ...         \n",
              "10386     False  ...  No_risk\n",
              "14        False  ...  No_risk\n",
              "16721     False  ...  No_risk\n",
              "16957     False  ...  No_risk\n",
              "17125     False  ...  No_risk\n",
              "\n",
              "[5 rows x 18 columns]"
            ]
          },
          "metadata": {
            "tags": []
          },
          "execution_count": 71
        }
      ]
    },
    {
      "cell_type": "markdown",
      "metadata": {
        "id": "VrCEe6OCj9Ye"
      },
      "source": [
        "### Decimal points in `Age`\n",
        "\n",
        "We replace all commas (European decimal separator) with periods, while handling some unformatted values."
      ]
    },
    {
      "cell_type": "code",
      "metadata": {
        "id": "WRyFqmK-kQe6",
        "outputId": "b4bbdc12-be8a-4044-9291-a099772ace0f",
        "colab": {
          "base_uri": "https://localhost:8080/"
        }
      },
      "source": [
        "def comma_replace(obj):\n",
        "  return obj.replace(\",\",\".\")\n",
        "\n",
        "df['Age'].head().apply(comma_replace)"
      ],
      "execution_count": 76,
      "outputs": [
        {
          "output_type": "execute_result",
          "data": {
            "text/plain": [
              "User_ID\n",
              "10386    34.6\n",
              "14       32.2\n",
              "16721    33.6\n",
              "16957      34\n",
              "17125    39.5\n",
              "Name: Age, dtype: object"
            ]
          },
          "metadata": {
            "tags": []
          },
          "execution_count": 76
        }
      ]
    },
    {
      "cell_type": "code",
      "metadata": {
        "id": "J2MQK_OkiI7o",
        "outputId": "cacf1450-ea95-4250-e16f-93f9748a6aa8",
        "colab": {
          "base_uri": "https://localhost:8080/",
          "height": 254
        }
      },
      "source": [
        "# Lets do with single line with lambda\n",
        "df['Age'] = df['Age'].apply(lambda obj: obj.replace(',', '.'))\n",
        "df.head()"
      ],
      "execution_count": 77,
      "outputs": [
        {
          "output_type": "execute_result",
          "data": {
            "text/html": [
              "<div>\n",
              "<style scoped>\n",
              "    .dataframe tbody tr th:only-of-type {\n",
              "        vertical-align: middle;\n",
              "    }\n",
              "\n",
              "    .dataframe tbody tr th {\n",
              "        vertical-align: top;\n",
              "    }\n",
              "\n",
              "    .dataframe thead th {\n",
              "        text-align: right;\n",
              "    }\n",
              "</style>\n",
              "<table border=\"1\" class=\"dataframe\">\n",
              "  <thead>\n",
              "    <tr style=\"text-align: right;\">\n",
              "      <th></th>\n",
              "      <th>Female</th>\n",
              "      <th>Gender</th>\n",
              "      <th>Age</th>\n",
              "      <th>Location</th>\n",
              "      <th>Verification</th>\n",
              "      <th>Sexual_orientation</th>\n",
              "      <th>Sexual_polarity</th>\n",
              "      <th>Looking_for</th>\n",
              "      <th>Points_Rank</th>\n",
              "      <th>Last_login</th>\n",
              "      <th>Member_since</th>\n",
              "      <th>Number_of_Comments_in_public_forum</th>\n",
              "      <th>Time_spent_chating_H:M</th>\n",
              "      <th>Number_of_advertisments_posted</th>\n",
              "      <th>Number_of_offline_meetings_attended</th>\n",
              "      <th>Profile_pictures</th>\n",
              "      <th>Friends_ID_list</th>\n",
              "      <th>Risk</th>\n",
              "    </tr>\n",
              "    <tr>\n",
              "      <th>User_ID</th>\n",
              "      <th></th>\n",
              "      <th></th>\n",
              "      <th></th>\n",
              "      <th></th>\n",
              "      <th></th>\n",
              "      <th></th>\n",
              "      <th></th>\n",
              "      <th></th>\n",
              "      <th></th>\n",
              "      <th></th>\n",
              "      <th></th>\n",
              "      <th></th>\n",
              "      <th></th>\n",
              "      <th></th>\n",
              "      <th></th>\n",
              "      <th></th>\n",
              "      <th></th>\n",
              "      <th></th>\n",
              "    </tr>\n",
              "  </thead>\n",
              "  <tbody>\n",
              "    <tr>\n",
              "      <th>10386</th>\n",
              "      <td>False</td>\n",
              "      <td>male</td>\n",
              "      <td>34.6</td>\n",
              "      <td>A</td>\n",
              "      <td>Non_Verified</td>\n",
              "      <td>Homosexual</td>\n",
              "      <td>Switch</td>\n",
              "      <td>Men</td>\n",
              "      <td>50</td>\n",
              "      <td>before_10_days</td>\n",
              "      <td>17.9.2012</td>\n",
              "      <td>32</td>\n",
              "      <td>0:2</td>\n",
              "      <td>0</td>\n",
              "      <td>0</td>\n",
              "      <td>0</td>\n",
              "      <td>18260</td>\n",
              "      <td>No_risk</td>\n",
              "    </tr>\n",
              "    <tr>\n",
              "      <th>14</th>\n",
              "      <td>False</td>\n",
              "      <td>male</td>\n",
              "      <td>32.2</td>\n",
              "      <td>J</td>\n",
              "      <td>Non_Verified</td>\n",
              "      <td>Heterosexual</td>\n",
              "      <td>Dominant</td>\n",
              "      <td>Women</td>\n",
              "      <td>518</td>\n",
              "      <td>before_1_days</td>\n",
              "      <td>1.11.2009</td>\n",
              "      <td>710</td>\n",
              "      <td>3:45</td>\n",
              "      <td>9</td>\n",
              "      <td>0</td>\n",
              "      <td>0</td>\n",
              "      <td>11778,32024,43768,23969,27318,45884,31277</td>\n",
              "      <td>No_risk</td>\n",
              "    </tr>\n",
              "    <tr>\n",
              "      <th>16721</th>\n",
              "      <td>False</td>\n",
              "      <td>male</td>\n",
              "      <td>33.6</td>\n",
              "      <td>K</td>\n",
              "      <td>Non_Verified</td>\n",
              "      <td>Heterosexual</td>\n",
              "      <td>Dominant</td>\n",
              "      <td>Women</td>\n",
              "      <td>150</td>\n",
              "      <td>before_3_days</td>\n",
              "      <td>1.4.2013</td>\n",
              "      <td>25</td>\n",
              "      <td>2:15</td>\n",
              "      <td>1</td>\n",
              "      <td>1</td>\n",
              "      <td>45</td>\n",
              "      <td>19805,21721,19802</td>\n",
              "      <td>No_risk</td>\n",
              "    </tr>\n",
              "    <tr>\n",
              "      <th>16957</th>\n",
              "      <td>False</td>\n",
              "      <td>male</td>\n",
              "      <td>34</td>\n",
              "      <td>H</td>\n",
              "      <td>Non_Verified</td>\n",
              "      <td>Heterosexual</td>\n",
              "      <td>Dominant</td>\n",
              "      <td>Women</td>\n",
              "      <td>114</td>\n",
              "      <td>before_4_days</td>\n",
              "      <td>8.4.2013</td>\n",
              "      <td>107</td>\n",
              "      <td>359:22</td>\n",
              "      <td>1</td>\n",
              "      <td>0</td>\n",
              "      <td>1</td>\n",
              "      <td>40847,38183,9507,42259,5807,28118,24848,37170,...</td>\n",
              "      <td>No_risk</td>\n",
              "    </tr>\n",
              "    <tr>\n",
              "      <th>17125</th>\n",
              "      <td>False</td>\n",
              "      <td>male</td>\n",
              "      <td>39.5</td>\n",
              "      <td>B</td>\n",
              "      <td>Non_Verified</td>\n",
              "      <td>Heterosexual</td>\n",
              "      <td>Dominant</td>\n",
              "      <td>Women</td>\n",
              "      <td>497</td>\n",
              "      <td>before_5_days</td>\n",
              "      <td>14.4.2013</td>\n",
              "      <td>600</td>\n",
              "      <td>0:21</td>\n",
              "      <td>0</td>\n",
              "      <td>6</td>\n",
              "      <td>8</td>\n",
              "      <td>1320,35739,34231,19097,20197,18069,12330,43342...</td>\n",
              "      <td>No_risk</td>\n",
              "    </tr>\n",
              "  </tbody>\n",
              "</table>\n",
              "</div>"
            ],
            "text/plain": [
              "         Female  ...     Risk\n",
              "User_ID          ...         \n",
              "10386     False  ...  No_risk\n",
              "14        False  ...  No_risk\n",
              "16721     False  ...  No_risk\n",
              "16957     False  ...  No_risk\n",
              "17125     False  ...  No_risk\n",
              "\n",
              "[5 rows x 18 columns]"
            ]
          },
          "metadata": {
            "tags": []
          },
          "execution_count": 77
        }
      ]
    },
    {
      "cell_type": "code",
      "metadata": {
        "id": "_hOfH4E6kOfS"
      },
      "source": [
        ""
      ],
      "execution_count": null,
      "outputs": []
    }
  ]
}