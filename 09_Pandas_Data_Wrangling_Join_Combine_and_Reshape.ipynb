{
  "nbformat": 4,
  "nbformat_minor": 0,
  "metadata": {
    "colab": {
      "name": "09 - Pandas - Data Wrangling Join Combine and Reshape.ipynb",
      "provenance": [],
      "collapsed_sections": [],
      "authorship_tag": "ABX9TyMyuvlt5kFzzWwC+QKopRuX",
      "include_colab_link": true
    },
    "kernelspec": {
      "name": "python3",
      "display_name": "Python 3"
    },
    "language_info": {
      "name": "python"
    }
  },
  "cells": [
    {
      "cell_type": "markdown",
      "metadata": {
        "id": "view-in-github",
        "colab_type": "text"
      },
      "source": [
        "<a href=\"https://colab.research.google.com/github/recervictory/LearingPython/blob/master/09_Pandas_Data_Wrangling_Join_Combine_and_Reshape.ipynb\" target=\"_parent\"><img src=\"https://colab.research.google.com/assets/colab-badge.svg\" alt=\"Open In Colab\"/></a>"
      ]
    },
    {
      "cell_type": "markdown",
      "metadata": {
        "id": "vAhRTD-YQGQI"
      },
      "source": [
        "# Data Wrangling: Join, Combine, and Reshape"
      ]
    },
    {
      "cell_type": "code",
      "metadata": {
        "id": "FJdoSMKvQqcB"
      },
      "source": [
        "# Importing\n",
        "import pandas as pd\n",
        "import numpy as np"
      ],
      "execution_count": null,
      "outputs": []
    },
    {
      "cell_type": "markdown",
      "metadata": {
        "id": "_f2-Fky4XuF1"
      },
      "source": [
        "## 0. Indexing with a DataFrame’s columns"
      ]
    },
    {
      "cell_type": "code",
      "metadata": {
        "id": "ZK85nM1QX-pP"
      },
      "source": [
        "frame = pd.DataFrame({'roll': range(7), \n",
        "                      'marks': range(7, 0, -1), \n",
        "                      'group': ['one', 'one', 'one', 'two', 'two', 'two', 'two'], \n",
        "                      'id': [0, 1, 2, 0, 1, 2, 3]})\n",
        "\n",
        "frame"
      ],
      "execution_count": null,
      "outputs": []
    },
    {
      "cell_type": "code",
      "metadata": {
        "id": "pZr9S6UeYXwG"
      },
      "source": [
        "# seting new index\n",
        "frameNew = frame.set_index(['group', 'id'])\n",
        "frameNew"
      ],
      "execution_count": null,
      "outputs": []
    },
    {
      "cell_type": "code",
      "metadata": {
        "id": "ro5EzamtYskw"
      },
      "source": [
        "# Not removing the original column\n",
        "frame.set_index(['group', 'id'], drop=False)"
      ],
      "execution_count": null,
      "outputs": []
    },
    {
      "cell_type": "markdown",
      "metadata": {
        "id": "fyVn-abYXx8s"
      },
      "source": [
        ""
      ]
    },
    {
      "cell_type": "markdown",
      "metadata": {
        "id": "Me-SQoS7QRKD"
      },
      "source": [
        "## 1. Hierarchical Indexing\n",
        "Hierarchical indexing is an important feature of pandas that enables you to have multiple (two or more) index levels on an axis. Somewhat abstractly, it provides a way for you to work with higher dimensional data in a lower dimensional form.\n",
        "\n",
        "Hierarchical indexing plays an important role in reshaping data and **group-based** operations like forming a **pivot table**. For example, you could rearrange the data into a DataFrame using its unstack method:"
      ]
    },
    {
      "cell_type": "code",
      "metadata": {
        "id": "SMhv9H0tP5Kb"
      },
      "source": [
        "# Hierarchical Indexing\n",
        "data =  pd.Series(np.random.randn(9), \\\n",
        "        index=[['a', 'a', 'a', 'b', 'b', 'c', 'c', 'd', 'd'], \\\n",
        "        [1, 2, 3, 1, 3, 1, 2, 2, 3]])\n",
        "data"
      ],
      "execution_count": null,
      "outputs": []
    },
    {
      "cell_type": "code",
      "metadata": {
        "id": "p7wnPK97QFjj"
      },
      "source": [
        "# Find Out Index\n",
        "data.index"
      ],
      "execution_count": null,
      "outputs": []
    },
    {
      "cell_type": "code",
      "metadata": {
        "id": "ctK3d6wJQ-8y"
      },
      "source": [
        "data['b']"
      ],
      "execution_count": null,
      "outputs": []
    },
    {
      "cell_type": "code",
      "metadata": {
        "id": "TuoZ6xfeRGla"
      },
      "source": [
        "data['b':'c']"
      ],
      "execution_count": null,
      "outputs": []
    },
    {
      "cell_type": "code",
      "metadata": {
        "id": "jqrf1NZLRJMW"
      },
      "source": [
        "data.loc[['b', 'd']]"
      ],
      "execution_count": null,
      "outputs": []
    },
    {
      "cell_type": "markdown",
      "metadata": {
        "id": "LRoCj3dDRm7g"
      },
      "source": [
        "Hierarchical indexing plays an important role in reshaping data and group-based\n",
        "operations like forming a `pivot table`. For example, you could rearrange the data into a DataFrame using its `unstack method`:"
      ]
    },
    {
      "cell_type": "code",
      "metadata": {
        "id": "_hFoogMnRM0L"
      },
      "source": [
        "data.unstack()"
      ],
      "execution_count": null,
      "outputs": []
    },
    {
      "cell_type": "code",
      "metadata": {
        "id": "KMBxcATJRwH8"
      },
      "source": [
        "# The inverse operation of unstack is stack\n",
        "data.unstack().stack()"
      ],
      "execution_count": null,
      "outputs": []
    },
    {
      "cell_type": "code",
      "metadata": {
        "id": "IATYeZJsR7Mw"
      },
      "source": [
        "frame = pd.DataFrame(np.arange(12).reshape((4, 3)), \n",
        "                     index=[['jan', 'jan', 'feb', 'feb'], [2011, 2012, 2011, 2012]],\n",
        "                     columns=[['Kolkata', 'Kolkata', 'Delhi'],\n",
        "                              ['Green', 'Red', 'Green']])\n",
        "\n",
        "frame"
      ],
      "execution_count": null,
      "outputs": []
    },
    {
      "cell_type": "code",
      "metadata": {
        "id": "vKfAwPsPSHvT"
      },
      "source": [
        "# Show index key\n",
        "frame.index.names = ['month', 'year']"
      ],
      "execution_count": null,
      "outputs": []
    },
    {
      "cell_type": "code",
      "metadata": {
        "id": "D3KkUwRkTG8S"
      },
      "source": [
        "# Show column names\n",
        "frame.columns.names = ['city', 'color']"
      ],
      "execution_count": null,
      "outputs": []
    },
    {
      "cell_type": "code",
      "metadata": {
        "id": "wpP98ESOTMeo"
      },
      "source": [
        "frame"
      ],
      "execution_count": null,
      "outputs": []
    },
    {
      "cell_type": "code",
      "metadata": {
        "id": "WwXG2xHEZBbd"
      },
      "source": [
        "# Reseting the index\n",
        "frameNew.reset_index()"
      ],
      "execution_count": null,
      "outputs": []
    },
    {
      "cell_type": "markdown",
      "metadata": {
        "id": "TGiNvcmgTykF"
      },
      "source": [
        "## 2. Reordering and Sorting Levels"
      ]
    },
    {
      "cell_type": "code",
      "metadata": {
        "id": "quAbWURFTeae"
      },
      "source": [
        "frame.swaplevel('year', 'month')"
      ],
      "execution_count": null,
      "outputs": []
    },
    {
      "cell_type": "markdown",
      "metadata": {
        "id": "uHNMCAKJUUpw"
      },
      "source": [
        "`sort_index`, on the other hand, sorts the data using only the values in a single level. When swapping levels, it’s not uncommon to also use sort_index so that the result is lexicographically sorted by the indicated level"
      ]
    },
    {
      "cell_type": "code",
      "metadata": {
        "id": "0fTBPMO-T7R_"
      },
      "source": [
        "frame.sort_index(level=1)"
      ],
      "execution_count": null,
      "outputs": []
    },
    {
      "cell_type": "code",
      "metadata": {
        "id": "QQ1dkus4Uby2"
      },
      "source": [
        "frame.swaplevel(0, 1).sort_index(level=0)"
      ],
      "execution_count": null,
      "outputs": []
    },
    {
      "cell_type": "code",
      "metadata": {
        "id": "y6h8JPnBUp21"
      },
      "source": [
        ""
      ],
      "execution_count": null,
      "outputs": []
    },
    {
      "cell_type": "markdown",
      "metadata": {
        "id": "w73aiHNkWAhn"
      },
      "source": [
        "## 3. Summary Statistics by Level\n",
        "\n",
        "Many descriptive and summary statistics on DataFrame and `Series` have a level\n",
        "option in which you can specify the level you want to `aggregate` by on a particular axis. "
      ]
    },
    {
      "cell_type": "code",
      "metadata": {
        "id": "oUeHSemcWSxr"
      },
      "source": [
        "frame.sum(level='month')"
      ],
      "execution_count": null,
      "outputs": []
    },
    {
      "cell_type": "code",
      "metadata": {
        "id": "ZMSJQ5fAWb_p"
      },
      "source": [
        "frame.mean(level='color', axis=1) # column wise"
      ],
      "execution_count": null,
      "outputs": []
    },
    {
      "cell_type": "markdown",
      "metadata": {
        "id": "KSqoM_80ZeeV"
      },
      "source": [
        "## 4. Combining and Merging Datasets\n",
        "\n",
        "Data contained in pandas objects can be combined together in a number of ways:\n",
        "- `pandas.merge` connects rows in DataFrames based on one or more keys. This\n",
        "will be familiar to users of SQL or other relational databases, as it implements\n",
        "database join operations.\n",
        "-  `pandas.concat` concatenates or “stacks” together objects along an axis.\n",
        "-  The `combine_first` instance method enables splicing together overlapping data to fill in missing values in one object with values from another.\n",
        "\n"
      ]
    },
    {
      "cell_type": "markdown",
      "metadata": {
        "id": "8SIvi_UmaAZA"
      },
      "source": [
        "### Database-Style DataFrame Joins\n",
        "Merge or join operations combine datasets by linking rows using one or more keys. These operations are central to relational databases (e.g., SQL-based). The merge function in pandas is the main entry point for using these algorithms on your data."
      ]
    },
    {
      "cell_type": "code",
      "metadata": {
        "colab": {
          "base_uri": "https://localhost:8080/",
          "height": 266
        },
        "id": "lLM7hqtAZ6Y4",
        "outputId": "a3191510-d68d-40e6-fd09-a0a6e0ebd1df"
      },
      "source": [
        "# 1st Dataframe\n",
        "df1 = pd.DataFrame({'key': ['b', 'b', 'a', 'c', 'a', 'a', 'b'], 'data1': range(7)})\n",
        "df1"
      ],
      "execution_count": 54,
      "outputs": [
        {
          "output_type": "execute_result",
          "data": {
            "text/html": [
              "<div>\n",
              "<style scoped>\n",
              "    .dataframe tbody tr th:only-of-type {\n",
              "        vertical-align: middle;\n",
              "    }\n",
              "\n",
              "    .dataframe tbody tr th {\n",
              "        vertical-align: top;\n",
              "    }\n",
              "\n",
              "    .dataframe thead th {\n",
              "        text-align: right;\n",
              "    }\n",
              "</style>\n",
              "<table border=\"1\" class=\"dataframe\">\n",
              "  <thead>\n",
              "    <tr style=\"text-align: right;\">\n",
              "      <th></th>\n",
              "      <th>key</th>\n",
              "      <th>data1</th>\n",
              "    </tr>\n",
              "  </thead>\n",
              "  <tbody>\n",
              "    <tr>\n",
              "      <th>0</th>\n",
              "      <td>b</td>\n",
              "      <td>0</td>\n",
              "    </tr>\n",
              "    <tr>\n",
              "      <th>1</th>\n",
              "      <td>b</td>\n",
              "      <td>1</td>\n",
              "    </tr>\n",
              "    <tr>\n",
              "      <th>2</th>\n",
              "      <td>a</td>\n",
              "      <td>2</td>\n",
              "    </tr>\n",
              "    <tr>\n",
              "      <th>3</th>\n",
              "      <td>c</td>\n",
              "      <td>3</td>\n",
              "    </tr>\n",
              "    <tr>\n",
              "      <th>4</th>\n",
              "      <td>a</td>\n",
              "      <td>4</td>\n",
              "    </tr>\n",
              "    <tr>\n",
              "      <th>5</th>\n",
              "      <td>a</td>\n",
              "      <td>5</td>\n",
              "    </tr>\n",
              "    <tr>\n",
              "      <th>6</th>\n",
              "      <td>b</td>\n",
              "      <td>6</td>\n",
              "    </tr>\n",
              "  </tbody>\n",
              "</table>\n",
              "</div>"
            ],
            "text/plain": [
              "  key  data1\n",
              "0   b      0\n",
              "1   b      1\n",
              "2   a      2\n",
              "3   c      3\n",
              "4   a      4\n",
              "5   a      5\n",
              "6   b      6"
            ]
          },
          "metadata": {
            "tags": []
          },
          "execution_count": 54
        }
      ]
    },
    {
      "cell_type": "code",
      "metadata": {
        "id": "SLzEtVIAaNqp"
      },
      "source": [
        "# 2nd Dataframe\n",
        "df2 = pd.DataFrame({'key': ['a', 'b', 'd'], 'data2': range(3)})"
      ],
      "execution_count": 55,
      "outputs": []
    },
    {
      "cell_type": "code",
      "metadata": {
        "id": "Xb-1vQ5FaXwB"
      },
      "source": [
        ""
      ],
      "execution_count": null,
      "outputs": []
    }
  ]
}