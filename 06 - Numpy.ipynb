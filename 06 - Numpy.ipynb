{
 "metadata": {
  "language_info": {
   "codemirror_mode": {
    "name": "ipython",
    "version": 3
   },
   "file_extension": ".py",
   "mimetype": "text/x-python",
   "name": "python",
   "nbconvert_exporter": "python",
   "pygments_lexer": "ipython3",
   "version": "3.7.4-final"
  },
  "orig_nbformat": 2,
  "kernelspec": {
   "name": "python3",
   "display_name": "Python 3",
   "language": "python"
  }
 },
 "nbformat": 4,
 "nbformat_minor": 2,
 "cells": [
  {
   "source": [
    "# Understanding `Numpy` : Arrays and Vectorized Computation\n",
    "NumPy, short for Numerical Python, is one of the most important foundational pack‐ ages for numerical computing in Python.NumPy is a Python library that provides a simple yet powerful data structure: the n-dimensional array.  Most computational packages providing scientific functionality use NumPy’s array objects as the *`lingua franca`* for data exchange.\n",
    "\n",
    "### `Here are the top four benefits that NumPy can bring to your code:`\n",
    "\n",
    "- More speed: NumPy uses algorithms written in C that complete in nanoseconds rather than seconds.\n",
    "- Fewer loops: NumPy helps you to reduce loops and keep from getting tangled up in iteration indices.\n",
    "- Clearer code: Without loops, your code will look more like the equations you’re trying to calculate.\n",
    "- Better quality: There are thousands of contributors working to keep NumPy fast, friendly, and bug free.\n",
    "\n",
    "### `Here are some of the things you’ll find in NumPy:`\n",
    "- ndarray, an efficient multidimensional array providing fast array-oriented arith‐ metic operations and flexible broadcasting capabilities.\n",
    "- Mathematical functions for fast operations on entire arrays of data without hav‐\n",
    "ing to write loops.\n",
    "- Tools for reading/writing array data to disk and working with memory-mapped files.\n",
    "- Linear algebra, random number generation, and Fourier transform capabilities.\n",
    "- A C API for connecting NumPy with libraries written in C, C++, or FORTRAN\n",
    "\n",
    "### `One of the reasons NumPy is so important for numerical computations in Python is because it is designed for efficiency on large arrays of data. There are a number of reasons for this:`\n",
    "- NumPy internally stores data in a contiguous block of memory, independent of other built-in Python objects. NumPy’s library of algorithms written in the C language can operate on this memory without any type checking or other overhead. NumPy arrays also use much less memory than built-in Python sequences.\n",
    "- NumPy operations perform complex computations on entire arrays without the need for Python for loops.\n"
   ],
   "cell_type": "markdown",
   "metadata": {}
  },
  {
   "source": [
    "## Importing numpy\n",
    "`import numpy as np`"
   ],
   "cell_type": "markdown",
   "metadata": {}
  },
  {
   "cell_type": "code",
   "execution_count": null,
   "metadata": {},
   "outputs": [],
   "source": [
    "import numpy as np\n",
    "my_arr = np.arange(1000000)\n",
    "my_list = list(range(1000000))\n"
   ]
  },
  {
   "cell_type": "code",
   "execution_count": null,
   "metadata": {},
   "outputs": [],
   "source": [
    "# Numpy array multiplication time\n",
    "%time for _ in range(10): my_arr2 = my_arr * 2"
   ]
  },
  {
   "cell_type": "code",
   "execution_count": null,
   "metadata": {},
   "outputs": [],
   "source": [
    "# Python list multiplication time\n",
    "%time for _ in range(10): my_list2 = [x * 2 for x in my_list]"
   ]
  },
  {
   "source": [
    "### NumPy-based algorithms are generally 10 to 100 times faster (or more) than their pure Python counterparts and use significantly less memory."
   ],
   "cell_type": "markdown",
   "metadata": {}
  },
  {
   "source": [
    "## 6.1 The NumPy ndarray: A Multidimensional Array Object\n",
    "One of the key features of NumPy is its **N-dimensional array object**, or **`ndarray`**, which is a fast, flexible container for large datasets in Python. Arrays enable you to `perform mathematical operations on whole blocks of data using similar syntax` to the equivalent operations between scalar elements."
   ],
   "cell_type": "markdown",
   "metadata": {}
  },
  {
   "cell_type": "code",
   "execution_count": null,
   "metadata": {},
   "outputs": [],
   "source": [
    "# Generate some random data\n",
    "data = np.random.randn(2, 3)\n",
    "data"
   ]
  },
  {
   "cell_type": "code",
   "execution_count": null,
   "metadata": {},
   "outputs": [],
   "source": [
    "# Simple mathematical operations with data\n",
    "data * 2"
   ]
  },
  {
   "cell_type": "code",
   "execution_count": null,
   "metadata": {},
   "outputs": [],
   "source": [
    "# Simple mathematical operations with data\n",
    "data + data"
   ]
  },
  {
   "source": [
    "### `ndarray:` An ndarray is a generic multidimensional container for `homogeneous data`; that is, `all of the elements must be the same type`. Every array has a `shape`, a tuple indicating the size of each dimension, and a `dtype`, an object describing the data type of the array:"
   ],
   "cell_type": "markdown",
   "metadata": {}
  },
  {
   "cell_type": "code",
   "execution_count": null,
   "metadata": {},
   "outputs": [],
   "source": [
    "# Data dimension\n",
    "data.shape"
   ]
  },
  {
   "cell_type": "code",
   "execution_count": null,
   "metadata": {},
   "outputs": [],
   "source": [
    "# Data type\n",
    "data.dtype"
   ]
  },
  {
   "source": [
    "## A. Creating ndarrays\n",
    "The easiest way to create an array is to use the array function. This accepts any sequence-like object (including other arrays) and produces a new NumPy array con‐ taining the passed data. "
   ],
   "cell_type": "markdown",
   "metadata": {}
  },
  {
   "cell_type": "code",
   "execution_count": null,
   "metadata": {},
   "outputs": [],
   "source": [
    "data1 = [6, 7.5, 8, 0, 1]\n",
    "arr1 = np.array(data1)\n",
    "arr1"
   ]
  },
  {
   "source": [
    "`Nested sequences`, like a list of equal-length lists, will be converted into a multidimensional array"
   ],
   "cell_type": "markdown",
   "metadata": {}
  },
  {
   "cell_type": "code",
   "execution_count": null,
   "metadata": {},
   "outputs": [],
   "source": [
    "data2 = [[1, 2, 3, 4], [5, 6, 7, 8]]\n",
    "arr2 = np.array(data2)\n",
    "arr2.shape"
   ]
  },
  {
   "source": [
    "Since data2 was a list of lists, the NumPy array arr2 has two dimensions with shape inferred from the data. We can confirm this by inspecting the `ndim` and `shape` attributes:"
   ],
   "cell_type": "markdown",
   "metadata": {}
  },
  {
   "cell_type": "code",
   "execution_count": null,
   "metadata": {},
   "outputs": [],
   "source": [
    "arr2.ndim"
   ]
  },
  {
   "cell_type": "code",
   "execution_count": null,
   "metadata": {},
   "outputs": [],
   "source": [
    "arr2.shape"
   ]
  },
  {
   "source": [
    "#### Unless explicitly specified (more on this later), np.array tries to infer a good data type for the array that it creates. The data type is stored in a special dtype metadata object; for example, in the previous two examples we have"
   ],
   "cell_type": "markdown",
   "metadata": {}
  },
  {
   "cell_type": "code",
   "execution_count": null,
   "metadata": {},
   "outputs": [],
   "source": [
    "arr1.dtype"
   ]
  },
  {
   "cell_type": "code",
   "execution_count": null,
   "metadata": {},
   "outputs": [],
   "source": [
    "arr2.dtype"
   ]
  },
  {
   "source": [
    "### Creating ndArray with a perticular value\n",
    "In addition to np.array, there are a number of other functions for creating new\n",
    "arrays. As examples, `zeros` and `ones` create arrays of 0s or 1s, respectively, with a\n",
    "given length or shape. `empty` creates an array without initializing its values to any par‐\n",
    "ticular value.\n",
    "\n",
    "To create a higher dimensional array with these methods, pass a `tuple` for the shape"
   ],
   "cell_type": "markdown",
   "metadata": {}
  },
  {
   "cell_type": "code",
   "execution_count": null,
   "metadata": {},
   "outputs": [],
   "source": [
    "np.zeros(10)"
   ]
  },
  {
   "cell_type": "code",
   "execution_count": null,
   "metadata": {},
   "outputs": [],
   "source": [
    "z= np.zeros((3, 6))\n",
    "z.ndim"
   ]
  },
  {
   "cell_type": "code",
   "execution_count": null,
   "metadata": {},
   "outputs": [],
   "source": [
    "arr3 = np.empty((2, 3, 2))\n",
    "np.zeros_like(arr3)"
   ]
  },
  {
   "source": [
    "### Important:\n",
    "> `It’s not safe to assume that np.empty will return an array of all zeros. In some cases, it may return uninitialized “garbage” values`"
   ],
   "cell_type": "markdown",
   "metadata": {}
  },
  {
   "source": [
    "### Creating array with `np.arange`: \n",
    "arange is an array-valued version of the built-in Python range function."
   ],
   "cell_type": "markdown",
   "metadata": {}
  },
  {
   "cell_type": "code",
   "execution_count": null,
   "metadata": {},
   "outputs": [],
   "source": [
    "np.arange(15)"
   ]
  },
  {
   "source": [
    "## Table A: Array creation functions:\n",
    "![Array functions](img\\Array_creation_functions.png)"
   ],
   "cell_type": "markdown",
   "metadata": {}
  },
  {
   "source": [
    "## B. Data Types for ndarrays\n",
    "The data type or dtype is a special object containing the information (or metadata,\n",
    "data about data) the ndarray needs to interpret a chunk of memory as a particular\n",
    "type of data:"
   ],
   "cell_type": "markdown",
   "metadata": {}
  },
  {
   "cell_type": "code",
   "execution_count": 36,
   "metadata": {},
   "outputs": [],
   "source": [
    "arr1 = np.array([1, 2, 3], dtype=np.float64)\n",
    "arr2 = np.array([1, 2, 3], dtype=np.int32)"
   ]
  },
  {
   "cell_type": "code",
   "execution_count": null,
   "metadata": {},
   "outputs": [],
   "source": [
    "arr1.dtype"
   ]
  },
  {
   "cell_type": "code",
   "execution_count": null,
   "metadata": {},
   "outputs": [],
   "source": [
    "arr2.dtype"
   ]
  },
  {
   "source": [
    "### Table B: NumPy data types :\n",
    "![NumPy data types](img\\NumPy_dat_types.png)\n",
    "\n",
    "`The numerical dtypes are named the same way: a type name, like float or int, followed by a number indicating the number of bits per element. A standard doubleprecision floating-point value (what’s used under the hood in Python’s float object) takes up 8 bytes or 64 bits. Thus, this type is known in NumPy as float64.`\n",
    "\n",
    "### You can explicitly convert or cast an array from one dtype to another using ndarray’s `astype` method"
   ],
   "cell_type": "markdown",
   "metadata": {}
  },
  {
   "cell_type": "code",
   "execution_count": 37,
   "metadata": {},
   "outputs": [
    {
     "output_type": "execute_result",
     "data": {
      "text/plain": [
       "dtype('int32')"
      ]
     },
     "metadata": {},
     "execution_count": 37
    }
   ],
   "source": [
    "arr = np.array([1, 2, 3, 4, 5])\n",
    "arr.dtype"
   ]
  },
  {
   "cell_type": "code",
   "execution_count": 38,
   "metadata": {},
   "outputs": [
    {
     "output_type": "execute_result",
     "data": {
      "text/plain": [
       "dtype('float64')"
      ]
     },
     "metadata": {},
     "execution_count": 38
    }
   ],
   "source": [
    "float_arr = arr.astype(np.float64) # To change the data type\n",
    "float_arr.dtype"
   ]
  },
  {
   "cell_type": "code",
   "execution_count": 39,
   "metadata": {},
   "outputs": [
    {
     "output_type": "stream",
     "name": "stdout",
     "text": [
      "[ 3.7 -1.2 -2.6  0.5 12.9 10.1]\n"
     ]
    }
   ],
   "source": [
    "# If I cast some floating-point numbers to be of integer dtype, the decimal part will be **truncated**\n",
    "arr = np.array([3.7, -1.2, -2.6, 0.5, 12.9, 10.1])\n",
    "print(arr)"
   ]
  },
  {
   "cell_type": "code",
   "execution_count": 40,
   "metadata": {},
   "outputs": [
    {
     "output_type": "execute_result",
     "data": {
      "text/plain": [
       "array([ 3, -1, -2,  0, 12, 10])"
      ]
     },
     "metadata": {},
     "execution_count": 40
    }
   ],
   "source": [
    "arr.astype(np.int32)"
   ]
  },
  {
   "cell_type": "code",
   "execution_count": 41,
   "metadata": {},
   "outputs": [
    {
     "output_type": "execute_result",
     "data": {
      "text/plain": [
       "array([ 1.25, -9.6 , 42.  ])"
      ]
     },
     "metadata": {},
     "execution_count": 41
    }
   ],
   "source": [
    "# If you have an array of strings representing numbers, you can use astype to convert them to numeric form\n",
    "numeric_strings = np.array(['1.25', '-9.6', '42'], dtype=np.string_)\n",
    "numeric_strings.astype(float)"
   ]
  },
  {
   "source": [
    "`It’s important to be cautious when using the numpy.string_ type, as string data in NumPy is fixed size and may truncate input without warning. pandas has more intuitive out-of-the-box behav‐ ior on non-numeric data.`"
   ],
   "cell_type": "markdown",
   "metadata": {}
  },
  {
   "source": [
    "### B. Arithmetic with NumPy Arrays\n",
    "Arrays are important because they enable you to express batch operations on data\n",
    "without writing any for loops. NumPy users call this **`vectorization`**. Any arithmetic\n",
    "operations between equal-size arrays applies the operation element-wise:"
   ],
   "cell_type": "markdown",
   "metadata": {}
  },
  {
   "cell_type": "code",
   "execution_count": 42,
   "metadata": {},
   "outputs": [
    {
     "output_type": "execute_result",
     "data": {
      "text/plain": [
       "array([[1., 2., 3.],\n",
       "       [4., 5., 6.]])"
      ]
     },
     "metadata": {},
     "execution_count": 42
    }
   ],
   "source": [
    "arr = np.array([[1., 2., 3.], [4., 5., 6.]])\n",
    "arr"
   ]
  },
  {
   "cell_type": "code",
   "execution_count": 43,
   "metadata": {},
   "outputs": [
    {
     "output_type": "execute_result",
     "data": {
      "text/plain": [
       "array([[ 1.,  4.,  9.],\n",
       "       [16., 25., 36.]])"
      ]
     },
     "metadata": {},
     "execution_count": 43
    }
   ],
   "source": [
    "arr * arr"
   ]
  },
  {
   "cell_type": "code",
   "execution_count": 44,
   "metadata": {},
   "outputs": [
    {
     "output_type": "execute_result",
     "data": {
      "text/plain": [
       "array([[0., 0., 0.],\n",
       "       [0., 0., 0.]])"
      ]
     },
     "metadata": {},
     "execution_count": 44
    }
   ],
   "source": [
    "arr - arr"
   ]
  },
  {
   "cell_type": "code",
   "execution_count": 45,
   "metadata": {},
   "outputs": [
    {
     "output_type": "execute_result",
     "data": {
      "text/plain": [
       "array([[1.        , 0.5       , 0.33333333],\n",
       "       [0.25      , 0.2       , 0.16666667]])"
      ]
     },
     "metadata": {},
     "execution_count": 45
    }
   ],
   "source": [
    "## Arithmetic operations with scalars propagate the scalar argument to each element in the array\n",
    "1 / arr"
   ]
  },
  {
   "cell_type": "code",
   "execution_count": 46,
   "metadata": {},
   "outputs": [
    {
     "output_type": "execute_result",
     "data": {
      "text/plain": [
       "array([[1.        , 1.41421356, 1.73205081],\n",
       "       [2.        , 2.23606798, 2.44948974]])"
      ]
     },
     "metadata": {},
     "execution_count": 46
    }
   ],
   "source": [
    "arr ** 0.5"
   ]
  },
  {
   "cell_type": "code",
   "execution_count": 47,
   "metadata": {},
   "outputs": [
    {
     "output_type": "execute_result",
     "data": {
      "text/plain": [
       "array([[ 0.,  4.,  1.],\n",
       "       [ 7.,  2., 12.]])"
      ]
     },
     "metadata": {},
     "execution_count": 47
    }
   ],
   "source": [
    "## Comparisons between arrays of the same size yield **boolean arrays**:\n",
    "arr2 = np.array([[0., 4., 1.], [7., 2., 12.]])\n",
    "arr2"
   ]
  },
  {
   "cell_type": "code",
   "execution_count": 48,
   "metadata": {},
   "outputs": [
    {
     "output_type": "execute_result",
     "data": {
      "text/plain": [
       "array([[False,  True, False],\n",
       "       [ True, False,  True]])"
      ]
     },
     "metadata": {},
     "execution_count": 48
    }
   ],
   "source": [
    "# Element wise array comparisons\n",
    "arr2 > arr"
   ]
  },
  {
   "source": [
    "## C. Basic Indexing and Slicing\n",
    "NumPy array indexing is a rich topic, as there are many ways you may want to select\n",
    "a subset of your data or individual elements. One-dimensional arrays are simple; on\n",
    "the surface they act similarly to Python lists:"
   ],
   "cell_type": "markdown",
   "metadata": {}
  },
  {
   "cell_type": "code",
   "execution_count": 49,
   "metadata": {},
   "outputs": [
    {
     "output_type": "execute_result",
     "data": {
      "text/plain": [
       "array([0, 1, 2, 3, 4, 5, 6, 7, 8, 9])"
      ]
     },
     "metadata": {},
     "execution_count": 49
    }
   ],
   "source": [
    "arr = np.arange(10)\n",
    "arr"
   ]
  },
  {
   "cell_type": "code",
   "execution_count": 50,
   "metadata": {},
   "outputs": [
    {
     "output_type": "execute_result",
     "data": {
      "text/plain": [
       "5"
      ]
     },
     "metadata": {},
     "execution_count": 50
    }
   ],
   "source": [
    "arr[5]"
   ]
  },
  {
   "cell_type": "code",
   "execution_count": 51,
   "metadata": {},
   "outputs": [
    {
     "output_type": "execute_result",
     "data": {
      "text/plain": [
       "array([5, 6, 7])"
      ]
     },
     "metadata": {},
     "execution_count": 51
    }
   ],
   "source": [
    "arr[5:8]"
   ]
  },
  {
   "cell_type": "code",
   "execution_count": 59,
   "metadata": {},
   "outputs": [
    {
     "output_type": "execute_result",
     "data": {
      "text/plain": [
       "array([0, 1, 2, 3, 4, 0, 0, 0, 8, 9])"
      ]
     },
     "metadata": {},
     "execution_count": 59
    }
   ],
   "source": [
    "arr[5:8] = 0\n",
    "arr"
   ]
  },
  {
   "source": [
    "### Important:\n",
    "> `An important first distinction from Python’s built-in lists is that array slices are views on the original array. This means that the data is not copied, and any modifications to the view will be reflected in the source array`"
   ],
   "cell_type": "markdown",
   "metadata": {}
  },
  {
   "cell_type": "code",
   "execution_count": 57,
   "metadata": {},
   "outputs": [
    {
     "output_type": "execute_result",
     "data": {
      "text/plain": [
       "array([1, 1, 1])"
      ]
     },
     "metadata": {},
     "execution_count": 57
    }
   ],
   "source": [
    "arr_slice = arr[5:8].copy()\n",
    "arr_slice"
   ]
  },
  {
   "cell_type": "code",
   "execution_count": 60,
   "metadata": {},
   "outputs": [
    {
     "output_type": "execute_result",
     "data": {
      "text/plain": [
       "array([0, 1, 2, 3, 4, 0, 0, 0, 8, 9])"
      ]
     },
     "metadata": {},
     "execution_count": 60
    }
   ],
   "source": [
    "arr_slice[1] = 1\n",
    "arr"
   ]
  },
  {
   "cell_type": "code",
   "execution_count": 56,
   "metadata": {},
   "outputs": [
    {
     "output_type": "execute_result",
     "data": {
      "text/plain": [
       "array([0, 1, 2, 3, 4, 1, 1, 1, 8, 9])"
      ]
     },
     "metadata": {},
     "execution_count": 56
    }
   ],
   "source": [
    "# The “bare” slice [:] will assign to all values in an array:\n",
    "arr_slice[:] = 1\n",
    "arr"
   ]
  },
  {
   "source": [
    "### Important:\n",
    "> `If you want a copy of a slice of an ndarray instead of a view, you will need to explicitly copy the array—for example, arr[5:8].copy().`\n",
    "\n",
    "With higher dimensional arrays, you have many more options. In a two-dimensional array, the elements at each index are no longer scalars but rather one-dimensional arrays:"
   ],
   "cell_type": "markdown",
   "metadata": {}
  },
  {
   "source": [
    "arr2d = np.array([[1, 2, 3], [4, 5, 6], [7, 8, 9]])\n",
    "arr2d[2]"
   ],
   "cell_type": "code",
   "metadata": {},
   "execution_count": 63,
   "outputs": [
    {
     "output_type": "execute_result",
     "data": {
      "text/plain": [
       "array([7, 8, 9])"
      ]
     },
     "metadata": {},
     "execution_count": 63
    }
   ]
  },
  {
   "source": [
    "Thus, individual elements can be accessed recursively. But that is a bit too much work, so you can pass a comma-separated list of indices to select individual elements. So these are equivalent:"
   ],
   "cell_type": "markdown",
   "metadata": {}
  },
  {
   "cell_type": "code",
   "execution_count": 64,
   "metadata": {},
   "outputs": [
    {
     "output_type": "execute_result",
     "data": {
      "text/plain": [
       "3"
      ]
     },
     "metadata": {},
     "execution_count": 64
    }
   ],
   "source": [
    "arr2d[0][2]"
   ]
  },
  {
   "cell_type": "code",
   "execution_count": 65,
   "metadata": {},
   "outputs": [
    {
     "output_type": "execute_result",
     "data": {
      "text/plain": [
       "3"
      ]
     },
     "metadata": {},
     "execution_count": 65
    }
   ],
   "source": [
    "arr2d[0, 2]"
   ]
  },
  {
   "source": [
    "In multidimensional arrays, if you omit later indices, the returned object will be a lower dimensional ndarray consisting of all the data along the higher dimensions. \n",
    "\n",
    "So in the 2 × 2 × 3 array arr3d:"
   ],
   "cell_type": "markdown",
   "metadata": {}
  },
  {
   "cell_type": "code",
   "execution_count": 66,
   "metadata": {},
   "outputs": [
    {
     "output_type": "execute_result",
     "data": {
      "text/plain": [
       "array([[[ 1,  2,  3],\n",
       "        [ 4,  5,  6]],\n",
       "\n",
       "       [[ 7,  8,  9],\n",
       "        [10, 11, 12]]])"
      ]
     },
     "metadata": {},
     "execution_count": 66
    }
   ],
   "source": [
    "arr3d = np.array([[[1, 2, 3], [4, 5, 6]], [[7, 8, 9], [10, 11, 12]]])\n",
    "arr3d"
   ]
  },
  {
   "cell_type": "code",
   "execution_count": 67,
   "metadata": {},
   "outputs": [
    {
     "output_type": "execute_result",
     "data": {
      "text/plain": [
       "(2, 2, 3)"
      ]
     },
     "metadata": {},
     "execution_count": 67
    }
   ],
   "source": [
    "arr3d.shape"
   ]
  },
  {
   "cell_type": "code",
   "execution_count": 68,
   "metadata": {},
   "outputs": [
    {
     "output_type": "execute_result",
     "data": {
      "text/plain": [
       "3"
      ]
     },
     "metadata": {},
     "execution_count": 68
    }
   ],
   "source": [
    "arr3d.ndim"
   ]
  },
  {
   "cell_type": "code",
   "execution_count": 69,
   "metadata": {},
   "outputs": [
    {
     "output_type": "execute_result",
     "data": {
      "text/plain": [
       "array([[1, 2, 3],\n",
       "       [4, 5, 6]])"
      ]
     },
     "metadata": {},
     "execution_count": 69
    }
   ],
   "source": [
    "arr3d[0]"
   ]
  },
  {
   "cell_type": "code",
   "execution_count": null,
   "metadata": {},
   "outputs": [],
   "source": [
    "## Both scalar values and arrays can be assigned to arr3d[0]:\n",
    "old_values = arr3d[0].copy()\n",
    "arr3d[0] = 42\n",
    "arr3d"
   ]
  },
  {
   "cell_type": "code",
   "execution_count": null,
   "metadata": {},
   "outputs": [],
   "source": [
    "arr3d[0] = old_values\n",
    "arr3d"
   ]
  },
  {
   "cell_type": "code",
   "execution_count": null,
   "metadata": {},
   "outputs": [],
   "source": [
    "## Similarly, arr3d[1, 0] gives you all of the values whose indices start with (0, 0), forming a 1-dimensional array:\n",
    "arr3d[0, 0]"
   ]
  },
  {
   "source": [
    "### C. Indexing with slices\n",
    "Like one-dimensional objects such as Python lists, ndarrays can be sliced with the familiar syntax:"
   ],
   "cell_type": "markdown",
   "metadata": {}
  },
  {
   "cell_type": "code",
   "execution_count": null,
   "metadata": {},
   "outputs": [],
   "source": [
    "arr"
   ]
  },
  {
   "cell_type": "code",
   "execution_count": null,
   "metadata": {},
   "outputs": [],
   "source": [
    "arr[1:6]"
   ]
  },
  {
   "source": [
    "### In case arragy 2D `arr2d`. Slicing this array is a bit different"
   ],
   "cell_type": "markdown",
   "metadata": {}
  },
  {
   "cell_type": "code",
   "execution_count": 70,
   "metadata": {},
   "outputs": [
    {
     "output_type": "execute_result",
     "data": {
      "text/plain": [
       "array([[1, 2, 3],\n",
       "       [4, 5, 6],\n",
       "       [7, 8, 9]])"
      ]
     },
     "metadata": {},
     "execution_count": 70
    }
   ],
   "source": [
    "arr2d = np.array([[1, 2, 3], [4, 5, 6], [7, 8, 9]])\n",
    "arr2d"
   ]
  },
  {
   "cell_type": "code",
   "execution_count": 71,
   "metadata": {},
   "outputs": [
    {
     "output_type": "execute_result",
     "data": {
      "text/plain": [
       "array([7, 8, 9])"
      ]
     },
     "metadata": {},
     "execution_count": 71
    }
   ],
   "source": [
    "arr2d[2]"
   ]
  },
  {
   "source": [
    "### Thus, individual elements can be accessed recursively. But that is a bit too much work, so you can pass a comma-separated list of indices to select individual elements."
   ],
   "cell_type": "markdown",
   "metadata": {}
  },
  {
   "cell_type": "code",
   "execution_count": 72,
   "metadata": {},
   "outputs": [
    {
     "output_type": "execute_result",
     "data": {
      "text/plain": [
       "3"
      ]
     },
     "metadata": {},
     "execution_count": 72
    }
   ],
   "source": [
    "arr2d[0][2]"
   ]
  },
  {
   "cell_type": "code",
   "execution_count": 73,
   "metadata": {},
   "outputs": [
    {
     "output_type": "execute_result",
     "data": {
      "text/plain": [
       "3"
      ]
     },
     "metadata": {},
     "execution_count": 73
    }
   ],
   "source": [
    "arr2d[0, 2]"
   ]
  },
  {
   "cell_type": "code",
   "execution_count": 74,
   "metadata": {},
   "outputs": [
    {
     "output_type": "execute_result",
     "data": {
      "text/plain": [
       "array([[1, 2, 3],\n",
       "       [4, 5, 6]])"
      ]
     },
     "metadata": {},
     "execution_count": 74
    }
   ],
   "source": [
    "#  the expression arr2d[:2] as “select the first two rows of arr2d.\n",
    "arr2d[:2]"
   ]
  },
  {
   "cell_type": "code",
   "execution_count": 75,
   "metadata": {},
   "outputs": [
    {
     "output_type": "execute_result",
     "data": {
      "text/plain": [
       "array([[2, 3],\n",
       "       [5, 6]])"
      ]
     },
     "metadata": {},
     "execution_count": 75
    }
   ],
   "source": [
    "## You can pass multiple slices just like you can pass multiple indexes:\n",
    "arr2d[:2, 1:]"
   ]
  },
  {
   "source": [
    "### Two-dimensional array slicing\n",
    "![Two-dimensional array slicing](img\\slicing.png)"
   ],
   "cell_type": "markdown",
   "metadata": {}
  },
  {
   "source": [
    "### You can pass multiple slices just like you can pass multiple indexes\n",
    "arr2d[:2, 1:]"
   ],
   "cell_type": "code",
   "metadata": {},
   "execution_count": null,
   "outputs": []
  },
  {
   "cell_type": "code",
   "execution_count": 80,
   "metadata": {},
   "outputs": [
    {
     "output_type": "execute_result",
     "data": {
      "text/plain": [
       "2"
      ]
     },
     "metadata": {},
     "execution_count": 80
    }
   ],
   "source": [
    "arr2d[2:, :]"
   ]
  },
  {
   "cell_type": "code",
   "execution_count": null,
   "metadata": {},
   "outputs": [],
   "source": [
    "## can select the second row but only the first two columns like so:\n",
    "arr2d[1, :2]"
   ]
  },
  {
   "cell_type": "code",
   "execution_count": null,
   "metadata": {},
   "outputs": [],
   "source": [
    "## can select the third column but only the first two rows like so:\n",
    "arr2d[:2, 2]"
   ]
  },
  {
   "cell_type": "code",
   "execution_count": null,
   "metadata": {},
   "outputs": [],
   "source": [
    "# All row and till first column\n",
    "arr2d[:, :1]"
   ]
  },
  {
   "source": [
    "### D. Boolean Indexing"
   ],
   "cell_type": "markdown",
   "metadata": {}
  },
  {
   "cell_type": "code",
   "execution_count": 98,
   "metadata": {},
   "outputs": [
    {
     "output_type": "execute_result",
     "data": {
      "text/plain": [
       "array([[-0.52250224,  2.02612225,  1.33917971,  0.06221982],\n",
       "       [ 1.32159442, -1.80410269, -0.42752242,  1.54575455],\n",
       "       [ 0.54468307, -1.81199686, -2.07047164,  0.25770249],\n",
       "       [-0.36080634,  0.16772436, -2.23584758, -0.40934875],\n",
       "       [ 1.31675653, -0.36993294, -0.45072482,  1.32964592],\n",
       "       [ 0.81315608,  0.92356659,  1.91420158, -1.02972851],\n",
       "       [-1.15517958,  1.98469944,  0.76636015,  0.98505491]])"
      ]
     },
     "metadata": {},
     "execution_count": 98
    }
   ],
   "source": [
    "data = np.random.randn(7, 4)\n",
    "data"
   ]
  },
  {
   "cell_type": "code",
   "execution_count": 99,
   "metadata": {},
   "outputs": [
    {
     "output_type": "execute_result",
     "data": {
      "text/plain": [
       "array([[ True, False, False,  True],\n",
       "       [False,  True,  True, False],\n",
       "       [False,  True,  True,  True],\n",
       "       [ True,  True,  True,  True],\n",
       "       [False,  True,  True, False],\n",
       "       [False, False, False,  True],\n",
       "       [ True, False, False, False]])"
      ]
     },
     "metadata": {},
     "execution_count": 99
    }
   ],
   "source": [
    "data < 0.5"
   ]
  },
  {
   "cell_type": "code",
   "execution_count": 91,
   "metadata": {},
   "outputs": [
    {
     "output_type": "execute_result",
     "data": {
      "text/plain": [
       "array([-1.53518339, -0.72275746, -0.85708806, -0.09307197, -1.78113091,\n",
       "       -1.82584032,  0.13277839,  0.14457016,  0.0087274 , -0.5670219 ,\n",
       "       -1.11418592,  0.07761955, -0.15240662, -0.05569652,  0.07844158,\n",
       "       -0.57008918, -2.30313159, -1.01643946])"
      ]
     },
     "metadata": {},
     "execution_count": 91
    }
   ],
   "source": [
    "data[data < 0.5]"
   ]
  },
  {
   "cell_type": "code",
   "execution_count": 93,
   "metadata": {},
   "outputs": [
    {
     "output_type": "execute_result",
     "data": {
      "text/plain": [
       "array([[1., 1., 0., 0.],\n",
       "       [0., 1., 1., 0.],\n",
       "       [0., 0., 1., 1.],\n",
       "       [1., 0., 1., 0.],\n",
       "       [0., 0., 1., 0.],\n",
       "       [0., 1., 0., 0.],\n",
       "       [0., 0., 0., 0.]])"
      ]
     },
     "metadata": {},
     "execution_count": 93
    }
   ],
   "source": [
    "data[data < 0.5] = 0\n",
    "data"
   ]
  },
  {
   "cell_type": "code",
   "execution_count": 94,
   "metadata": {},
   "outputs": [
    {
     "output_type": "execute_result",
     "data": {
      "text/plain": [
       "array(['Bob', 'Joe', 'Will', 'Bob', 'Will', 'Joe', 'Joe'], dtype='<U4')"
      ]
     },
     "metadata": {},
     "execution_count": 94
    }
   ],
   "source": [
    " names = np.array(['Bob', 'Joe', 'Will', 'Bob', 'Will', 'Joe', 'Joe'])\n",
    " names"
   ]
  },
  {
   "cell_type": "code",
   "execution_count": 95,
   "metadata": {},
   "outputs": [
    {
     "output_type": "execute_result",
     "data": {
      "text/plain": [
       "array([ True, False, False,  True, False, False, False])"
      ]
     },
     "metadata": {},
     "execution_count": 95
    }
   ],
   "source": [
    " names == 'Bob'\n",
    " "
   ]
  },
  {
   "cell_type": "code",
   "execution_count": 100,
   "metadata": {},
   "outputs": [
    {
     "output_type": "execute_result",
     "data": {
      "text/plain": [
       "array([[-0.52250224,  2.02612225,  1.33917971,  0.06221982],\n",
       "       [-0.36080634,  0.16772436, -2.23584758, -0.40934875]])"
      ]
     },
     "metadata": {},
     "execution_count": 100
    }
   ],
   "source": [
    "data[names == 'Bob']"
   ]
  },
  {
   "cell_type": "code",
   "execution_count": null,
   "metadata": {},
   "outputs": [],
   "source": [
    "data[~(names == 'Bob')]"
   ]
  },
  {
   "cell_type": "code",
   "execution_count": 101,
   "metadata": {},
   "outputs": [
    {
     "output_type": "execute_result",
     "data": {
      "text/plain": [
       "array([ 0,  1,  2,  3,  4,  5,  6,  7,  8,  9, 10, 11, 12, 13, 14, 15, 16,\n",
       "       17, 18, 19, 20, 21, 22, 23, 24, 25, 26, 27, 28, 29, 30, 31])"
      ]
     },
     "metadata": {},
     "execution_count": 101
    }
   ],
   "source": [
    "# Passing multiple index arrays does something slightly different; it selects a onedimensional array of elements corresponding to each tuple of indices:\n",
    "arr = np.arange(32)\n",
    "arr"
   ]
  },
  {
   "cell_type": "code",
   "execution_count": 102,
   "metadata": {},
   "outputs": [
    {
     "output_type": "execute_result",
     "data": {
      "text/plain": [
       "array([[ 0,  1,  2,  3],\n",
       "       [ 4,  5,  6,  7],\n",
       "       [ 8,  9, 10, 11],\n",
       "       [12, 13, 14, 15],\n",
       "       [16, 17, 18, 19],\n",
       "       [20, 21, 22, 23],\n",
       "       [24, 25, 26, 27],\n",
       "       [28, 29, 30, 31]])"
      ]
     },
     "metadata": {},
     "execution_count": 102
    }
   ],
   "source": [
    "arr.reshape((8,4))"
   ]
  },
  {
   "cell_type": "code",
   "execution_count": 105,
   "metadata": {},
   "outputs": [
    {
     "output_type": "execute_result",
     "data": {
      "text/plain": [
       "array([[ 0,  1,  2,  3,  4,  5,  6,  7],\n",
       "       [ 8,  9, 10, 11, 12, 13, 14, 15],\n",
       "       [16, 17, 18, 19, 20, 21, 22, 23],\n",
       "       [24, 25, 26, 27, 28, 29, 30, 31]])"
      ]
     },
     "metadata": {},
     "execution_count": 105
    }
   ],
   "source": [
    "arr.reshape((4,8))"
   ]
  },
  {
   "source": [
    "### Transposing Arrays and Swapping Axes :\n",
    "Transposing is a special form of reshaping that similarly returns a view on the underlying data without copying anything. Arrays have the `transpose` method and also the special `T` attribute:\n",
    "\n"
   ],
   "cell_type": "markdown",
   "metadata": {}
  },
  {
   "cell_type": "code",
   "execution_count": 106,
   "metadata": {},
   "outputs": [
    {
     "output_type": "execute_result",
     "data": {
      "text/plain": [
       "array([[ 0,  1,  2,  3,  4],\n",
       "       [ 5,  6,  7,  8,  9],\n",
       "       [10, 11, 12, 13, 14]])"
      ]
     },
     "metadata": {},
     "execution_count": 106
    }
   ],
   "source": [
    "arr = np.arange(15).reshape((3, 5))\n",
    "arr"
   ]
  },
  {
   "cell_type": "code",
   "execution_count": 107,
   "metadata": {},
   "outputs": [
    {
     "output_type": "execute_result",
     "data": {
      "text/plain": [
       "array([[ 0,  5, 10],\n",
       "       [ 1,  6, 11],\n",
       "       [ 2,  7, 12],\n",
       "       [ 3,  8, 13],\n",
       "       [ 4,  9, 14]])"
      ]
     },
     "metadata": {},
     "execution_count": 107
    }
   ],
   "source": [
    "arr.T"
   ]
  },
  {
   "source": [
    "##  Matrix Dot products\n",
    "arr = np.random.randn(6, 3)\n",
    "arr"
   ],
   "cell_type": "code",
   "metadata": {},
   "execution_count": 108,
   "outputs": [
    {
     "output_type": "execute_result",
     "data": {
      "text/plain": [
       "array([[ 1.070279  ,  0.27306163,  0.52972108],\n",
       "       [ 0.49463957,  0.75162526,  0.82535796],\n",
       "       [-0.43198446, -0.41743158, -1.23495381],\n",
       "       [ 1.99259537, -0.0231743 , -0.98845644],\n",
       "       [ 0.42525934,  1.19251163, -0.26260918],\n",
       "       [-1.55059693, -0.31161353,  1.38846659]])"
      ]
     },
     "metadata": {},
     "execution_count": 108
    }
   ]
  },
  {
   "cell_type": "code",
   "execution_count": null,
   "metadata": {},
   "outputs": [],
   "source": [
    " np.dot(arr.T, arr)"
   ]
  },
  {
   "source": [
    "### For higher dimensional arrays, transpose will accept a tuple of axis numbers to permute the axes :\n"
   ],
   "cell_type": "markdown",
   "metadata": {}
  },
  {
   "cell_type": "code",
   "execution_count": 121,
   "metadata": {},
   "outputs": [
    {
     "output_type": "execute_result",
     "data": {
      "text/plain": [
       "array([[[ 0,  1,  2,  3],\n",
       "        [ 4,  5,  6,  7]],\n",
       "\n",
       "       [[ 8,  9, 10, 11],\n",
       "        [12, 13, 14, 15]]])"
      ]
     },
     "metadata": {},
     "execution_count": 121
    }
   ],
   "source": [
    "arr = np.arange(16).reshape((2, 2, 4))\n",
    "arr"
   ]
  },
  {
   "cell_type": "code",
   "execution_count": 122,
   "metadata": {},
   "outputs": [
    {
     "output_type": "execute_result",
     "data": {
      "text/plain": [
       "(2, 2, 4)"
      ]
     },
     "metadata": {},
     "execution_count": 122
    }
   ],
   "source": [
    "arr.shape"
   ]
  },
  {
   "cell_type": "code",
   "execution_count": 115,
   "metadata": {},
   "outputs": [
    {
     "output_type": "execute_result",
     "data": {
      "text/plain": [
       "(2, 2, 4)"
      ]
     },
     "metadata": {},
     "execution_count": 115
    }
   ],
   "source": [
    "## the axes have been reordered with the second axis first, the first axis second, and the last axis unchanged.\n",
    "arrT = arr.transpose((1, 0, 2))\n",
    "arrT.shape"
   ]
  },
  {
   "cell_type": "code",
   "execution_count": 124,
   "metadata": {},
   "outputs": [
    {
     "output_type": "execute_result",
     "data": {
      "text/plain": [
       "array([[[ 0,  8],\n",
       "        [ 4, 12]],\n",
       "\n",
       "       [[ 1,  9],\n",
       "        [ 5, 13]],\n",
       "\n",
       "       [[ 2, 10],\n",
       "        [ 6, 14]],\n",
       "\n",
       "       [[ 3, 11],\n",
       "        [ 7, 15]]])"
      ]
     },
     "metadata": {},
     "execution_count": 124
    }
   ],
   "source": [
    "# \n",
    "arr4 = arr.transpose((2, 1, 0))\n",
    "arr4"
   ]
  },
  {
   "cell_type": "code",
   "execution_count": 125,
   "metadata": {},
   "outputs": [
    {
     "output_type": "execute_result",
     "data": {
      "text/plain": [
       "(4, 2, 2)"
      ]
     },
     "metadata": {},
     "execution_count": 125
    }
   ],
   "source": [
    "arr4.shape"
   ]
  },
  {
   "source": [
    "### Simple transposing with .T is a special case of swapping axes. ndarray has the method `swapaxes`, which takes a pair of axis numbers and switches the indicated axes to re-arrange the data:"
   ],
   "cell_type": "markdown",
   "metadata": {}
  },
  {
   "cell_type": "code",
   "execution_count": null,
   "metadata": {},
   "outputs": [],
   "source": [
    "arr"
   ]
  },
  {
   "cell_type": "code",
   "execution_count": null,
   "metadata": {},
   "outputs": [],
   "source": [
    "arr.swapaxes(1, 2)"
   ]
  },
  {
   "source": [
    "## Universal Functions: Fast Element-Wise Array Functions\n",
    "\n",
    "A universal function, or `ufunc`, is a function that performs `element-wise` operations on data in ndarrays. You can think of them as fast vectorized wrappers for simple functions that take one or more scalar values and produce one or more scalar results.\n",
    "\n",
    "![Two-dimensional array slicing](img\\unnfunc.png)\n"
   ],
   "cell_type": "markdown",
   "metadata": {}
  },
  {
   "cell_type": "code",
   "execution_count": 126,
   "metadata": {},
   "outputs": [
    {
     "output_type": "execute_result",
     "data": {
      "text/plain": [
       "array([0, 1, 2, 3, 4, 5, 6, 7, 8, 9])"
      ]
     },
     "metadata": {},
     "execution_count": 126
    }
   ],
   "source": [
    "arr = np.arange(10)\n",
    "arr"
   ]
  },
  {
   "cell_type": "code",
   "execution_count": 127,
   "metadata": {},
   "outputs": [
    {
     "output_type": "execute_result",
     "data": {
      "text/plain": [
       "array([0.        , 1.        , 1.41421356, 1.73205081, 2.        ,\n",
       "       2.23606798, 2.44948974, 2.64575131, 2.82842712, 3.        ])"
      ]
     },
     "metadata": {},
     "execution_count": 127
    }
   ],
   "source": [
    "np.sqrt(arr)"
   ]
  },
  {
   "cell_type": "code",
   "execution_count": 128,
   "metadata": {},
   "outputs": [
    {
     "output_type": "execute_result",
     "data": {
      "text/plain": [
       "array([1.00000000e+00, 2.71828183e+00, 7.38905610e+00, 2.00855369e+01,\n",
       "       5.45981500e+01, 1.48413159e+02, 4.03428793e+02, 1.09663316e+03,\n",
       "       2.98095799e+03, 8.10308393e+03])"
      ]
     },
     "metadata": {},
     "execution_count": 128
    }
   ],
   "source": [
    "np.exp(arr)"
   ]
  },
  {
   "cell_type": "code",
   "execution_count": 129,
   "metadata": {},
   "outputs": [
    {
     "output_type": "execute_result",
     "data": {
      "text/plain": [
       "(array([ 0.16779492,  0.38903705,  0.25309446, -0.24311377, -0.68686705,\n",
       "        -0.40792887,  0.78654971, -0.05330076]),\n",
       " array([ 1.09202028,  1.69229697,  0.97089382, -1.40900654,  0.26449656,\n",
       "        -0.44950479,  1.17775316, -0.10359029]))"
      ]
     },
     "metadata": {},
     "execution_count": 129
    }
   ],
   "source": [
    "## These are referred to as unary ufuncs. Others, such as add or maximum, take two arrays (thus, binary ufuncs) and return a single array as the result:\n",
    "x = np.random.randn(8)\n",
    "y = np.random.randn(8)\n",
    "x,y"
   ]
  },
  {
   "source": [
    "###  numpy.maximum computed the element-wise maximum of the elements in x and y."
   ],
   "cell_type": "markdown",
   "metadata": {}
  },
  {
   "cell_type": "code",
   "execution_count": 130,
   "metadata": {},
   "outputs": [
    {
     "output_type": "execute_result",
     "data": {
      "text/plain": [
       "array([ 1.09202028,  1.69229697,  0.97089382, -0.24311377,  0.26449656,\n",
       "       -0.40792887,  1.17775316, -0.05330076])"
      ]
     },
     "metadata": {},
     "execution_count": 130
    }
   ],
   "source": [
    "np.maximum(x, y)"
   ]
  },
  {
   "cell_type": "code",
   "execution_count": 131,
   "metadata": {},
   "outputs": [
    {
     "output_type": "execute_result",
     "data": {
      "text/plain": [
       "array([ 9.52802005, -1.35055842, -0.14716408, 14.02657754,  6.84922104,\n",
       "       -0.86553428, -2.0285648 ])"
      ]
     },
     "metadata": {},
     "execution_count": 131
    }
   ],
   "source": [
    "arr = np.random.randn(7) * 5\n",
    "arr"
   ]
  },
  {
   "cell_type": "code",
   "execution_count": null,
   "metadata": {},
   "outputs": [],
   "source": [
    "remainder, whole_part = np.modf(arr)"
   ]
  },
  {
   "cell_type": "code",
   "execution_count": null,
   "metadata": {},
   "outputs": [],
   "source": [
    "remainder"
   ]
  },
  {
   "cell_type": "code",
   "execution_count": null,
   "metadata": {},
   "outputs": [],
   "source": [
    "whole_part"
   ]
  },
  {
   "source": [
    "## Mathematical and Statistical Methods :\n",
    "![Basic array statistical methods](img\\statfunc.png)\n",
    "\n",
    "A set of mathematical functions that compute statistics about an entire array or about the data along an axis are accessible as methods of the array class. You can use aggregations (often called reductions) like sum, mean, and std (standard deviation)either by calling the array instance method or using the top-level NumPy function."
   ],
   "cell_type": "markdown",
   "metadata": {}
  },
  {
   "cell_type": "code",
   "execution_count": 138,
   "metadata": {},
   "outputs": [
    {
     "output_type": "execute_result",
     "data": {
      "text/plain": [
       "array([[-1.91750449, -0.68601022,  1.35560685,  0.09973039],\n",
       "       [ 0.07989697, -0.07364694, -0.92810786,  0.26342459],\n",
       "       [-0.21975253, -0.68476447, -0.70003013,  1.14450432],\n",
       "       [ 0.73120879,  0.38638969,  1.15716199,  0.35461761],\n",
       "       [-1.71616212, -0.34206217,  0.26844598, -0.49721407]])"
      ]
     },
     "metadata": {},
     "execution_count": 138
    }
   ],
   "source": [
    "arr = np.random.randn(5, 4)\n",
    "arr"
   ]
  },
  {
   "cell_type": "code",
   "execution_count": 139,
   "metadata": {},
   "outputs": [
    {
     "output_type": "execute_result",
     "data": {
      "text/plain": [
       "-0.09621338978925474"
      ]
     },
     "metadata": {},
     "execution_count": 139
    }
   ],
   "source": [
    "arr.mean()"
   ]
  },
  {
   "cell_type": "code",
   "execution_count": 140,
   "metadata": {},
   "outputs": [
    {
     "output_type": "execute_result",
     "data": {
      "text/plain": [
       "-0.09621338978925474"
      ]
     },
     "metadata": {},
     "execution_count": 140
    }
   ],
   "source": [
    "np.mean(arr)"
   ]
  },
  {
   "cell_type": "code",
   "execution_count": 141,
   "metadata": {},
   "outputs": [
    {
     "output_type": "execute_result",
     "data": {
      "text/plain": [
       "-1.9242677957850949"
      ]
     },
     "metadata": {},
     "execution_count": 141
    }
   ],
   "source": [
    "arr.sum()"
   ]
  },
  {
   "source": [
    "### Functions like mean and sum take an optional axis argument that computes the statistic over the given axis, resulting in an array with one fewer dimension:\n"
   ],
   "cell_type": "markdown",
   "metadata": {}
  },
  {
   "cell_type": "code",
   "execution_count": 142,
   "metadata": {},
   "outputs": [
    {
     "output_type": "execute_result",
     "data": {
      "text/plain": [
       "array([-0.28704437, -0.16460831, -0.1150107 ,  0.65734452, -0.57174809])"
      ]
     },
     "metadata": {},
     "execution_count": 142
    }
   ],
   "source": [
    "# compute mean across the columns wise\n",
    "arr.mean(axis=1)"
   ]
  },
  {
   "cell_type": "code",
   "execution_count": 143,
   "metadata": {},
   "outputs": [
    {
     "output_type": "execute_result",
     "data": {
      "text/plain": [
       "array([-3.04231338, -1.4000941 ,  1.15307684,  1.36506284])"
      ]
     },
     "metadata": {},
     "execution_count": 143
    }
   ],
   "source": [
    " # compute sum down the rows\n",
    " arr.sum(axis=0)"
   ]
  },
  {
   "source": [
    "###  `cumulative sum`: `cumsum` and `cumprod` do not aggregate, instead producing an array of the intermediate results:"
   ],
   "cell_type": "markdown",
   "metadata": {}
  },
  {
   "cell_type": "code",
   "execution_count": 144,
   "metadata": {},
   "outputs": [
    {
     "output_type": "execute_result",
     "data": {
      "text/plain": [
       "array([ 0,  1,  3,  6, 10, 15, 21, 28], dtype=int32)"
      ]
     },
     "metadata": {},
     "execution_count": 144
    }
   ],
   "source": [
    "arr = np.array([0, 1, 2, 3, 4, 5, 6, 7])\n",
    "arr.cumsum()"
   ]
  },
  {
   "source": [
    "### Multidimensional arrays - cumsum\n",
    "In multidimensional arrays, accumulation functions like cumsum return an array of the same size, but with the partial aggregates computed along the indicated axis according to each lower dimensional slice:"
   ],
   "cell_type": "markdown",
   "metadata": {}
  },
  {
   "cell_type": "code",
   "execution_count": 145,
   "metadata": {},
   "outputs": [
    {
     "output_type": "execute_result",
     "data": {
      "text/plain": [
       "array([[0, 1, 2],\n",
       "       [3, 4, 5],\n",
       "       [6, 7, 8]])"
      ]
     },
     "metadata": {},
     "execution_count": 145
    }
   ],
   "source": [
    "arr = np.array([[0, 1, 2], [3, 4, 5], [6, 7, 8]])\n",
    "arr"
   ]
  },
  {
   "cell_type": "code",
   "execution_count": 146,
   "metadata": {},
   "outputs": [
    {
     "output_type": "execute_result",
     "data": {
      "text/plain": [
       "array([[ 0,  1,  2],\n",
       "       [ 3,  5,  7],\n",
       "       [ 9, 12, 15]], dtype=int32)"
      ]
     },
     "metadata": {},
     "execution_count": 146
    }
   ],
   "source": [
    "arr.cumsum(axis=0)"
   ]
  },
  {
   "cell_type": "code",
   "execution_count": 147,
   "metadata": {},
   "outputs": [
    {
     "output_type": "execute_result",
     "data": {
      "text/plain": [
       "array([[  0,   0,   0],\n",
       "       [  3,  12,  60],\n",
       "       [  6,  42, 336]], dtype=int32)"
      ]
     },
     "metadata": {},
     "execution_count": 147
    }
   ],
   "source": [
    "arr.cumprod(axis=1)"
   ]
  },
  {
   "source": [
    "### Linear Algebra :\n",
    "Linear algebra, like matrix multiplication, decompositions, determinants, and other\n",
    "square matrix math, is an important part of any array library. Unlike some languages\n",
    "like MATLAB, multiplying two two-dimensional arrays with * is an element-wise\n",
    "product instead of a matrix dot product. Thus, there is a function dot, both an array\n",
    "method and a function in the numpy namespace, for matrix multiplication:"
   ],
   "cell_type": "markdown",
   "metadata": {}
  },
  {
   "cell_type": "code",
   "execution_count": 148,
   "metadata": {},
   "outputs": [
    {
     "output_type": "execute_result",
     "data": {
      "text/plain": [
       "(array([[1., 2., 3.],\n",
       "        [4., 5., 6.]]), array([[ 6., 23.],\n",
       "        [-1.,  7.],\n",
       "        [ 8.,  9.]]))"
      ]
     },
     "metadata": {},
     "execution_count": 148
    }
   ],
   "source": [
    "x = np.array([[1., 2., 3.], [4., 5., 6.]])\n",
    "y = np.array([[6., 23.], [-1, 7], [8, 9]])\n",
    "x,y"
   ]
  },
  {
   "cell_type": "code",
   "execution_count": 149,
   "metadata": {},
   "outputs": [
    {
     "output_type": "execute_result",
     "data": {
      "text/plain": [
       "array([[ 28.,  64.],\n",
       "       [ 67., 181.]])"
      ]
     },
     "metadata": {},
     "execution_count": 149
    }
   ],
   "source": [
    "x.dot(y)"
   ]
  },
  {
   "cell_type": "code",
   "execution_count": 150,
   "metadata": {},
   "outputs": [
    {
     "output_type": "execute_result",
     "data": {
      "text/plain": [
       "array([[ 28.,  64.],\n",
       "       [ 67., 181.]])"
      ]
     },
     "metadata": {},
     "execution_count": 150
    }
   ],
   "source": [
    "# x.dot(y) is equivalent to np.dot(x, y)\n",
    "np.dot(x, y)"
   ]
  },
  {
   "cell_type": "code",
   "execution_count": 151,
   "metadata": {},
   "outputs": [
    {
     "output_type": "execute_result",
     "data": {
      "text/plain": [
       "array([ 6., 15.])"
      ]
     },
     "metadata": {},
     "execution_count": 151
    }
   ],
   "source": [
    "np.dot(x, np.ones(3))"
   ]
  },
  {
   "cell_type": "code",
   "execution_count": 152,
   "metadata": {},
   "outputs": [
    {
     "output_type": "execute_result",
     "data": {
      "text/plain": [
       "array([ 6., 15.])"
      ]
     },
     "metadata": {},
     "execution_count": 152
    }
   ],
   "source": [
    "x @ np.ones(3)"
   ]
  },
  {
   "source": [
    "`numpy.linalg` has a standard set of matrix decompositions and things like inverse\n",
    "and determinant. These are implemented under the hood via the same industrystandard linear algebra libraries used in other languages like MATLAB and R, such as\n",
    "BLAS, LAPACK, or possibly (depending on your NumPy build) the proprietary Intel\n",
    "MKL (Math Kernel Library):"
   ],
   "cell_type": "markdown",
   "metadata": {}
  },
  {
   "cell_type": "code",
   "execution_count": 120,
   "metadata": {},
   "outputs": [],
   "source": [
    "import numpy as np\n",
    "from numpy.linalg import inv\n",
    "X = np.random.randint(1,9,(5,5))"
   ]
  },
  {
   "cell_type": "code",
   "execution_count": 109,
   "metadata": {},
   "outputs": [],
   "source": [
    "# Create Indentity Matrix\n",
    "I = X.dot(inv(X))"
   ]
  },
  {
   "cell_type": "code",
   "execution_count": 110,
   "metadata": {},
   "outputs": [
    {
     "output_type": "execute_result",
     "data": {
      "text/plain": [
       "array([[ 1., -0.,  0.,  0.,  0.],\n",
       "       [ 0.,  1.,  0.,  0.,  0.],\n",
       "       [ 0.,  0.,  1.,  0.,  0.],\n",
       "       [-0.,  0.,  0.,  1., -0.],\n",
       "       [ 0., -0.,  0.,  0.,  1.]])"
      ]
     },
     "metadata": {},
     "execution_count": 110
    }
   ],
   "source": [
    "np.rint(I)"
   ]
  },
  {
   "cell_type": "code",
   "execution_count": 122,
   "metadata": {},
   "outputs": [
    {
     "output_type": "execute_result",
     "data": {
      "text/plain": [
       "-2.0000000000000004"
      ]
     },
     "metadata": {},
     "execution_count": 122
    }
   ],
   "source": [
    "# Compute the sum of the diagonal elements\n",
    "X = np.array([[1, 2], [3, 4]])\n",
    "det(X)"
   ]
  },
  {
   "cell_type": "code",
   "execution_count": 125,
   "metadata": {},
   "outputs": [
    {
     "output_type": "execute_result",
     "data": {
      "text/plain": [
       "(array([-0.37228132,  5.37228132]), array([[-0.82456484, -0.41597356],\n",
       "        [ 0.56576746, -0.90937671]]))"
      ]
     },
     "metadata": {},
     "execution_count": 125
    }
   ],
   "source": [
    "np.linalg.eig(X)"
   ]
  },
  {
   "source": [
    "## Pseudorandom Number Generation\n",
    "The `numpy.random` module supplements the built-in Python random with functions\n",
    "for efficiently generating whole arrays of sample values from many kinds of `probability distributions`. For example, you can get a 4 × 4 array of samples from the standard normal distribution using normal:"
   ],
   "cell_type": "markdown",
   "metadata": {}
  },
  {
   "cell_type": "code",
   "execution_count": 126,
   "metadata": {},
   "outputs": [
    {
     "output_type": "execute_result",
     "data": {
      "text/plain": [
       "array([[ 0.03774141, -0.57007687, -0.98354474,  0.13486432],\n",
       "       [-1.05253876,  0.23608913, -0.02523531, -1.41356584],\n",
       "       [ 1.05964718, -0.13903457, -1.08660981, -1.7209577 ],\n",
       "       [-1.61398093,  0.43529017, -0.21884503,  0.17589118]])"
      ]
     },
     "metadata": {},
     "execution_count": 126
    }
   ],
   "source": [
    "samples = np.random.normal(size=(4, 4))\n",
    "samples"
   ]
  },
  {
   "cell_type": "code",
   "execution_count": 127,
   "metadata": {},
   "outputs": [],
   "source": [
    "from random import normalvariate\n",
    "N = 1000000"
   ]
  },
  {
   "cell_type": "code",
   "execution_count": 128,
   "metadata": {},
   "outputs": [
    {
     "output_type": "stream",
     "name": "stdout",
     "text": [
      "2.01 s ± 60.3 ms per loop (mean ± std. dev. of 7 runs, 1 loop each)\n"
     ]
    }
   ],
   "source": [
    "%timeit samples = [normalvariate(0, 1) for _ in range(N)]"
   ]
  },
  {
   "cell_type": "code",
   "execution_count": 129,
   "metadata": {},
   "outputs": [
    {
     "output_type": "stream",
     "name": "stdout",
     "text": [
      "67.3 ms ± 885 µs per loop (mean ± std. dev. of 7 runs, 10 loops each)\n"
     ]
    }
   ],
   "source": [
    "%timeit np.random.normal(size=N)"
   ]
  },
  {
   "source": [
    "We say that these are `pseudorandom numbers` because they are generated by an algorithm with deterministic behavior based on the seed of the random number generator. You can change NumPy’s random number generation seed using `np.random.seed`:"
   ],
   "cell_type": "markdown",
   "metadata": {}
  },
  {
   "cell_type": "code",
   "execution_count": 130,
   "metadata": {},
   "outputs": [],
   "source": [
    "np.random.seed(1234)"
   ]
  },
  {
   "source": [
    "### The data generation functions in numpy.random use a global random seed. To avoid global state, you can use `numpy.random.RandomState` to create a random number generator isolated from others:"
   ],
   "cell_type": "markdown",
   "metadata": {}
  },
  {
   "cell_type": "code",
   "execution_count": 132,
   "metadata": {},
   "outputs": [
    {
     "output_type": "execute_result",
     "data": {
      "text/plain": [
       "array([ 0.47143516, -1.19097569,  1.43270697, -0.3126519 , -0.72058873,\n",
       "        0.88716294,  0.85958841, -0.6365235 ,  0.01569637, -2.24268495])"
      ]
     },
     "metadata": {},
     "execution_count": 132
    }
   ],
   "source": [
    "rng = np.random.RandomState(1234)\n",
    "rng.randn(10)"
   ]
  },
  {
   "cell_type": "code",
   "execution_count": 134,
   "metadata": {},
   "outputs": [
    {
     "output_type": "execute_result",
     "data": {
      "text/plain": [
       "array([-1.0856306 ,  0.99734545,  0.2829785 , -1.50629471, -0.57860025,\n",
       "        1.65143654, -2.42667924, -0.42891263,  1.26593626, -0.8667404 ])"
      ]
     },
     "metadata": {},
     "execution_count": 134
    }
   ],
   "source": [
    "rng = np.random.RandomState(123)\n",
    "rng.randn(10)"
   ]
  },
  {
   "cell_type": "code",
   "execution_count": null,
   "metadata": {},
   "outputs": [],
   "source": []
  }
 ]
}