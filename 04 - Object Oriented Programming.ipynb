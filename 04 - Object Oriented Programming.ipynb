{
 "metadata": {
  "language_info": {
   "codemirror_mode": {
    "name": "ipython",
    "version": 3
   },
   "file_extension": ".py",
   "mimetype": "text/x-python",
   "name": "python",
   "nbconvert_exporter": "python",
   "pygments_lexer": "ipython3",
   "version": "3.7.4"
  },
  "orig_nbformat": 2,
  "kernelspec": {
   "name": "python3",
   "display_name": "Python 3.7.4 64-bit ('base': conda)"
  },
  "interpreter": {
   "hash": "7dae6437c12b1d87f00e0e10a4bd22be66a3b8ec05fb1161d95372f28c39fa9e"
  }
 },
 "nbformat": 4,
 "nbformat_minor": 2,
 "cells": [
  {
   "source": [
    "## What Is Object-Oriented Programming in Python?\n",
    "Object-oriented programming is a programming paradigm that provides a means of structuring programs so that properties and behaviors are bundled into individual **objects**.\n",
    "\n",
    "For instance, an object could represent a person with **`properties`** like a name, age, and address and **`behaviors`** such as walking, talking, breathing, and running. Or it could represent an email with properties like a recipient list, subject, and body and behaviors like adding attachments and sending.\n",
    "\n",
    "Put another way, object-oriented programming is an approach for modeling concrete, real-world things, like cars, as well as relations between things, like companies and employees, students and teachers, and so on. OOP models real-world entities as software objects that have some data associated with them and can perform certain functions.\n",
    "\n",
    "Another common programming paradigm is `procedural programming`, which structures a program like a recipe in that it provides a `set of steps`, in the form of functions and code blocks, that flow sequentially in order to complete a task.\n",
    "\n",
    "The key takeaway is that objects are at the center of object-oriented programming in Python, not only representing the data, as in procedural programming, but in the overall structure of the program as well."
   ],
   "cell_type": "markdown",
   "metadata": {}
  },
  {
   "source": [
    "## Classes vs Instances\n",
    "**`Classes`** are used to create user-defined data structures. Classes define functions called methods, which identify the behaviors and actions that an object created from the class can perform with its data.\n",
    "\n",
    "A `class` is a `blueprint` for how something should be defined. It doesn’t actually contain any data. The Dog class specifies that a name and an age are necessary for defining a dog, but it doesn’t contain the name or age of any specific dog.\n",
    "\n",
    "While the class is the blueprint, an **`instance`** is an object that is built from a class and contains real data. An instance of the Dog class is not a blueprint anymore. It’s an actual dog with a name, like Miles, who’s four years old.\n",
    "____\n",
    "Put another way, a class is like a form or questionnaire. An instance is like a form that has been filled out with information. Just like many people can fill out the same form with their own unique information, many instances can be created from a single class.`\n",
    "____"
   ],
   "cell_type": "markdown",
   "metadata": {}
  },
  {
   "source": [
    "## How to Define a Class:\n",
    "All class definitions start with the **class** keyword, which is followed by the name of the class and a colon. Any code that is indented below the class definition is considered part of the class’s body.\n",
    "### Here’s an example of a Dog class:\n",
    "```\n",
    "class Dog:\n",
    "    pass\n",
    "```\n",
    "Defining some properties that all Dog objects should have. There are a number of properties that we can choose from, including name, age, coat color, and breed. To keep things simple, we’ll just use name and age.\n",
    "***\n",
    "The properties that all Dog objects must have are defined in a method called `__init__()`. Every time a new Dog object is created, `__init__()` sets the initial state of the object by assigning the values of the object’s properties. That is, `__init__()` initializes each new instance of the class.\n",
    "***\n",
    "You can give `__init__()` any number of parameters, but the first parameter will always be a variable called **`self`**. When a new class instance is created, the instance is automatically passed to the self parameter in `__init__()` so that new attributes can be defined on the object.\n",
    "\n",
    "### Let’s update the Dog class with an `__init__()` method that creates .name and .age attributes:\n",
    "```\n",
    "class Dog:\n",
    "    def __init__(self, name, age):\n",
    "        self.name = name\n",
    "        self.age = age\n",
    "```\n",
    "### In the body of `__init__()`, there are two statements using the self variable:\n",
    "1. self.name = name creates an attribute called name and assigns to it the value of the name parameter.\n",
    "2. self.age = age creates an attribute called age and assigns to it the value of the age parameter.\n",
    "\n",
    "Attributes created in `__init__()` are called **`instance attributes`**. An instance attribute’s value is specific to a particular instance of the class. All Dog objects have a name and an age, but the values for the name and age attributes will vary depending on the Dog instance.\n",
    "\n",
    "On the other hand, **`class attributes`** are attributes that have the same value for all class instances. You can define a class attribute by assigning a value to a variable name outside of `__init__()`. For example, the following Dog class has a class attribute called species with the value \"Canis familiaris\":\n",
    "```\n",
    "class Dog:\n",
    "    # Class attribute\n",
    "    species = \"Canis familiaris\"\n",
    "\n",
    "    def __init__(self, name, age):\n",
    "        self.name = name\n",
    "        self.age = age\n",
    "```"
   ],
   "cell_type": "markdown",
   "metadata": {}
  },
  {
   "cell_type": "code",
   "execution_count": 1,
   "metadata": {},
   "outputs": [
    {
     "output_type": "execute_result",
     "data": {
      "text/plain": [
       "'Canis familiaris'"
      ]
     },
     "metadata": {},
     "execution_count": 1
    }
   ],
   "source": [
    "class Dog:\n",
    "    species = \"Canis familiaris\"\n",
    "jhony = Dog()\n",
    "jhony.species"
   ]
  },
  {
   "cell_type": "code",
   "execution_count": 2,
   "metadata": {},
   "outputs": [],
   "source": [
    "# Creating a new class\n",
    "class Dog:\n",
    "    # Class attribute\n",
    "    species = \"Canis familiaris\"\n",
    "\n",
    "    def __init__(self, name, age):\n",
    "        self.name = name\n",
    "        self.age = age"
   ]
  },
  {
   "cell_type": "code",
   "execution_count": 3,
   "metadata": {},
   "outputs": [
    {
     "output_type": "execute_result",
     "data": {
      "text/plain": [
       "__main__.Dog"
      ]
     },
     "metadata": {},
     "execution_count": 3
    }
   ],
   "source": [
    "# Creating A Dog\n",
    "snowy = Dog('Snowy',6)\n",
    "type(snowy)"
   ]
  },
  {
   "cell_type": "code",
   "execution_count": 5,
   "metadata": {},
   "outputs": [
    {
     "output_type": "execute_result",
     "data": {
      "text/plain": [
       "8"
      ]
     },
     "metadata": {},
     "execution_count": 5
    }
   ],
   "source": [
    "husky = Dog(\"Piku\",8)\n",
    "husky.age"
   ]
  },
  {
   "cell_type": "code",
   "execution_count": 7,
   "metadata": {},
   "outputs": [
    {
     "output_type": "stream",
     "name": "stdout",
     "text": [
      "Canis familiaris\nSnowy\n6\n"
     ]
    }
   ],
   "source": [
    "# Show class attributes\n",
    "print(snowy.species)\n",
    "# Show instance attributes\n",
    "print(snowy.name)\n",
    "print(snowy.age)"
   ]
  },
  {
   "cell_type": "code",
   "execution_count": 8,
   "metadata": {},
   "outputs": [
    {
     "output_type": "stream",
     "name": "stdout",
     "text": [
      "Jacky\n8\n"
     ]
    }
   ],
   "source": [
    "jacky = Dog('Jacky',8)\n",
    "print(jacky.name)\n",
    "print(jacky.age)"
   ]
  },
  {
   "source": [
    "## Instance Methods\n",
    "**`Instance methods`** are functions that are defined inside a class and can only be called from an instance of that class. \n",
    "\n",
    "```\n",
    "class Dog:\n",
    "    species = \"Canis familiaris\"\n",
    "\n",
    "    def __init__(self, name, age):\n",
    "        self.name = name\n",
    "        self.age = age\n",
    "\n",
    "    # Instance method\n",
    "    def description(self):\n",
    "        return f\"{self.name} is {self.age} years old\"\n",
    "\n",
    "    # Another instance method\n",
    "    def speak(self, sound):\n",
    "        return f\"{self.name} says {sound}\"\n",
    "```\n",
    "### This Dog class has two instance methods:\n",
    "1. .description() returns a string displaying the name and age of the dog.\n",
    "2. .speak() has one parameter called sound and returns a string containing the dog’s name and the sound the dog makes.\n",
    "\n",
    "**`Just like .__init__(), an instance method’s first parameter is always self`**."
   ],
   "cell_type": "markdown",
   "metadata": {}
  },
  {
   "cell_type": "code",
   "execution_count": null,
   "metadata": {},
   "outputs": [],
   "source": []
  },
  {
   "cell_type": "code",
   "execution_count": 12,
   "metadata": {},
   "outputs": [],
   "source": [
    "# Instanse Method\n",
    "class Dog:\n",
    "    species = \"Canis familiaris\"\n",
    "\n",
    "    def __init__(self, name, age):\n",
    "        self.name = name\n",
    "        self.age = age\n",
    "\n",
    "    # Instance method\n",
    "    def description(self):\n",
    "        return f\"{self.name} is {self.age} years old.\"\n",
    "\n",
    "    # Another instance method\n",
    "    def speak(self, sound):\n",
    "        return f\"{self.name} says {sound}\""
   ]
  },
  {
   "cell_type": "code",
   "execution_count": 13,
   "metadata": {},
   "outputs": [
    {
     "output_type": "stream",
     "name": "stdout",
     "text": [
      "Snowy is 6 years old.\nSnowy says Woof Woof\n"
     ]
    }
   ],
   "source": [
    "# Creating A new version of Dog\n",
    "snowy = Dog('Snowy',6)\n",
    "print(snowy.description())\n",
    "print(snowy.speak(\"Woof Woof\"))"
   ]
  },
  {
   "cell_type": "code",
   "execution_count": 14,
   "metadata": {},
   "outputs": [
    {
     "output_type": "stream",
     "name": "stdout",
     "text": [
      "Snowy says Bow Bow\n"
     ]
    }
   ],
   "source": [
    "# Lets new way to speak\n",
    "print(snowy.speak(\"Bow Bow\"))"
   ]
  },
  {
   "source": [
    "### Class\n",
    "User defined objects are created using the <code>class</code> keyword. The class is a blueprint that defines the nature of a future object. From classes we can construct instances. An instance is a specific object created from a particular class. For example, above we created the object <code>lst</code> which was an instance of a list object. \n",
    "\n",
    "- An **attribute** is a characteristic of an object.\n",
    "- A **method** is an operation we can perform with the object."
   ],
   "cell_type": "markdown",
   "metadata": {}
  },
  {
   "cell_type": "code",
   "execution_count": 6,
   "metadata": {},
   "outputs": [],
   "source": [
    "# Define a class for Circle\n",
    "class Circle:\n",
    "    pi = 3.14\n",
    "\n",
    "    # Circle gets instantiated with a radius (default is 1)\n",
    "    def __init__(self, radius=1):\n",
    "        self.radius = radius \n",
    "        self.area = radius * radius * Circle.pi\n",
    "        self.perimeter = 2 * self.pi * radius \n",
    "\n",
    "    # Method for resetting Radius\n",
    "    def setRadius(self, new_radius):\n",
    "        self.radius = new_radius\n",
    "        self.area = new_radius * new_radius * self.pi\n",
    "        self.perimeter = 2 * self.pi * self.radius\n"
   ]
  },
  {
   "cell_type": "code",
   "execution_count": 7,
   "metadata": {},
   "outputs": [
    {
     "output_type": "stream",
     "name": "stdout",
     "text": [
      "Radius is:  1\nArea is:  3.14\nPerimeter is:  6.28\n"
     ]
    }
   ],
   "source": [
    "# Create circle instanse\n",
    "c = Circle(5)\n",
    "\n",
    "print('Radius is: ',c.radius)\n",
    "print('Area is: ',c.area)\n",
    "print('Perimeter is: ',c.perimeter)"
   ]
  },
  {
   "cell_type": "code",
   "execution_count": 20,
   "metadata": {},
   "outputs": [
    {
     "output_type": "stream",
     "name": "stdout",
     "text": [
      "Radius is:  7\nArea is:  153.86\nPerimeter is:  43.96\n"
     ]
    }
   ],
   "source": [
    "# Change the redius\n",
    "c.setRadius(7)\n",
    "\n",
    "print('Radius is: ',c.radius)\n",
    "print('Area is: ',c.area)\n",
    "print('Perimeter is: ',c.perimeter)"
   ]
  },
  {
   "source": [
    "## Inheritance\n",
    "\n",
    "Inheritance is a way to form new classes using classes that have already been defined. The newly formed classes are called derived classes, the classes that we derive from are called base classes. Important benefits of inheritance are code reuse and reduction of complexity of a program. The derived classes (descendants) override or extend the functionality of base classes (ancestors)"
   ],
   "cell_type": "markdown",
   "metadata": {}
  },
  {
   "cell_type": "code",
   "execution_count": 21,
   "metadata": {},
   "outputs": [],
   "source": [
    "# Ancestors Animal Class\n",
    "class Animal:\n",
    "    def __init__(self):\n",
    "        print(\"Animal created\")\n",
    "\n",
    "    def whoAmI(self):\n",
    "        print(\"Animal\")\n",
    "\n",
    "    def eat(self):\n",
    "        print(\"Eating\")\n",
    "\n",
    "# Derived Class\n",
    "class Dog(Animal):\n",
    "    def __init__(self):\n",
    "        Animal.__init__(self)\n",
    "        print(\"Dog created\")\n",
    "    # old method updated\n",
    "    def whoAmI(self):\n",
    "        print(\"Dog\")\n",
    "    # new method added\n",
    "    def bark(self):\n",
    "        print(\"Woof!\")"
   ]
  },
  {
   "cell_type": "code",
   "execution_count": 24,
   "metadata": {},
   "outputs": [
    {
     "output_type": "stream",
     "name": "stdout",
     "text": [
      "Animal created\nDog created\n"
     ]
    }
   ],
   "source": [
    "snowy = Dog()"
   ]
  },
  {
   "cell_type": "code",
   "execution_count": 27,
   "metadata": {},
   "outputs": [
    {
     "output_type": "stream",
     "name": "stdout",
     "text": [
      "Dog\nEating\nWoof!\n"
     ]
    }
   ],
   "source": [
    "snowy.whoAmI()\n",
    "snowy.eat()\n",
    "snowy.bark()"
   ]
  },
  {
   "cell_type": "code",
   "execution_count": null,
   "metadata": {},
   "outputs": [],
   "source": [
    "### HR System\n",
    "The HR system needs to process payroll for the company’s employees, but there are different types of employees depending on how their payroll is calculated."
   ]
  },
  {
   "cell_type": "code",
   "execution_count": 33,
   "metadata": {},
   "outputs": [],
   "source": [
    "class PayrollSystem:\n",
    "    def calculate_payroll(self, employees):\n",
    "        print('Calculating Payroll')\n",
    "        print('===================')\n",
    "        for employee in employees:\n",
    "            print(f'Payroll for: {employee.id} - {employee.name}')\n",
    "            print(f'- Check amount: {employee.calculate_payroll()}')\n",
    "            print('')"
   ]
  },
  {
   "source": [
    "The PayrollSystem implements a .calculate_payroll() method that takes a collection of employees and prints their id, name, and check amount using the .calculate_payroll() method exposed on each employee object.\n",
    "### Now, you implement a base class Employee that handles the common interface for every employee type:"
   ],
   "cell_type": "markdown",
   "metadata": {}
  },
  {
   "cell_type": "code",
   "execution_count": 26,
   "metadata": {},
   "outputs": [],
   "source": [
    "class Employee:\n",
    "    def __init__(self, id, name):\n",
    "        self.id = id\n",
    "        self.name = name"
   ]
  },
  {
   "source": [
    "Employee is the base class for all employee types. It is constructed with an id and a name. What you are saying is that every Employee must have an id assigned as well as a name.\n",
    "\n",
    "The HR system requires that every Employee processed must provide a `.calculate_payroll()` interface that returns the weekly salary for the employee. The implementation of that interface differs depending on the type of Employee.\n",
    "\n",
    "For example, administrative workers have a fixed salary, so every week they get paid the same amount:"
   ],
   "cell_type": "markdown",
   "metadata": {}
  },
  {
   "cell_type": "code",
   "execution_count": 27,
   "metadata": {},
   "outputs": [],
   "source": [
    "class SalaryEmployee(Employee):\n",
    "    def __init__(self, id, name, weekly_salary):\n",
    "        # Super Class is Employee\n",
    "        # Employee.__init__(id, name)\n",
    "        super().__init__(id, name)\n",
    "        self.weekly_salary = weekly_salary\n",
    "\n",
    "    def calculate_payroll(self):\n",
    "        return self.weekly_salary"
   ]
  },
  {
   "source": [
    "You create a `derived class SalaryEmployee that inherits Employee`. The class is initialized with the id and name required by the base class, and you use `super()` to initialize the members of the base class. \n",
    "\n",
    "SalaryEmployee also requires a weekly_salary initialization parameter that represents the amount the employee makes per week.\n",
    "\n",
    "The class provides the required `.calculate_payroll()` method used by the HR system. The implementation just returns the amount stored in weekly_salary.\n",
    "\n",
    "### The company also employs manufacturing workers that are paid by the hour, so you add an HourlyEmployee to the HR system:\n",
    "\n"
   ],
   "cell_type": "markdown",
   "metadata": {}
  },
  {
   "cell_type": "code",
   "execution_count": 28,
   "metadata": {},
   "outputs": [],
   "source": [
    "class HourlyEmployee(Employee):\n",
    "    def __init__(self, id, name, hours_worked, hour_rate):\n",
    "        super().__init__(id, name)\n",
    "        self.hours_worked = hours_worked\n",
    "        self.hour_rate = hour_rate\n",
    "\n",
    "    def calculate_payroll(self):\n",
    "        return self.hours_worked * self.hour_rate"
   ]
  },
  {
   "source": [
    "The HourlyEmployee class is initialized with id and name, like the base class, plus the hours_worked and the hour_rate required to calculate the payroll. The `.calculate_payroll()` method is implemented by returning the hours worked times the hour rate.\n",
    "\n",
    "#### Finally, the company employs sales associates that are paid through a fixed salary plus a commission based on their sales, so you create a CommissionEmployee class:"
   ],
   "cell_type": "markdown",
   "metadata": {}
  },
  {
   "cell_type": "code",
   "execution_count": 31,
   "metadata": {},
   "outputs": [],
   "source": [
    "class CommissionEmployee(SalaryEmployee):\n",
    "    def __init__(self, id, name, weekly_salary, commission):\n",
    "        super().__init__(id, name, weekly_salary)\n",
    "        self.commission = commission\n",
    "\n",
    "    def calculate_payroll(self):\n",
    "        fixed = super().calculate_payroll()\n",
    "        return fixed + self.commission"
   ]
  },
  {
   "source": [
    "You derive CommissionEmployee from SalaryEmployee because both classes have a weekly_salary to consider. At the same time, CommissionEmployee is initialized with a commission value that is based on the sales for the employee.\n",
    "\n",
    ".calculate_payroll() leverages the implementation of the base class to retrieve the fixed salary and adds the commission value.\n",
    "\n",
    "Since CommissionEmployee derives from SalaryEmployee, you have access to the weekly_salary property directly, and you could’ve implemented .calculate_payroll() using the value of that property.\n",
    "\n",
    "The problem with accessing the property directly is that if the implementation of `SalaryEmployee.calculate_payroll()` changes, then you’ll have to also change the implementation of `CommissionEmployee.calculate_payroll()`. It’s better to rely on the already implemented method in the base class and extend the functionality as needed.\n",
    "\n",
    "### You created your first class hierarchy for the system. The UML diagram of the classes looks like this:\n",
    "![UBM diagram of employee](https://files.realpython.com/media/ic-initial-employee-inheritance.b5f1e65cb8d1.jpg)\n",
    "\n",
    "The diagram shows the inheritance hierarchy of the classes. The derived classes implement the IPayrollCalculator interface, which is required by the PayrollSystem. The PayrollSystem.calculate_payroll() implementation requires that the employee objects passed contain an id, name, and calculate_payroll() implementation.\n",
    "\n",
    "Interfaces are represented similarly to classes with the word interface above the interface name. Interface names are usually prefixed with a capital I.\n",
    "\n",
    "The application creates its employees and passes them to the payroll system to process payroll:\n",
    "\n",
    "The diagram shows the inheritance hierarchy of the classes. The derived classes implement the IPayrollCalculator interface, which is required by the PayrollSystem. The `PayrollSystem.calculate_payroll()` implementation requires that the employee objects passed contain an id, name, and `calculate_payroll()` implementation.\n",
    "\n",
    "Interfaces are represented similarly to classes with the word interface above the interface name. Interface names are usually prefixed with a capital I.\n",
    "\n",
    "#### The application creates its employees and passes them to the payroll system to process payroll:\n",
    "\n"
   ],
   "cell_type": "markdown",
   "metadata": {}
  },
  {
   "cell_type": "code",
   "execution_count": 34,
   "metadata": {},
   "outputs": [
    {
     "output_type": "stream",
     "name": "stdout",
     "text": [
      "Calculating Payroll\n===================\nPayroll for: 1 - Dev D\n- Check amount: 1500\n\nPayroll for: 2 - Road Side Romeo\n- Check amount: 600\n\nPayroll for: 3 - Jack Son\n- Check amount: 1250\n\n"
     ]
    }
   ],
   "source": [
    "\n",
    "salary_employee = SalaryEmployee(1, 'Dev D', 1500)\n",
    "hourly_employee = HourlyEmployee(2, 'Road Side Romeo', 40, 15)\n",
    "commission_employee = CommissionEmployee(3, 'Jack Son', 1000, 250)\n",
    "payroll_system = PayrollSystem()\n",
    "payroll_system.calculate_payroll([\n",
    "    salary_employee,\n",
    "    hourly_employee,\n",
    "    commission_employee\n",
    "])"
   ]
  },
  {
   "source": [
    "## Special Methods\n",
    "Finally let's go over special methods. Classes in Python can implement certain operations with special method names. These methods are not actually called directly but by Python specific language syntax. \n",
    "\n",
    "### For example let's create a Book class:"
   ],
   "cell_type": "markdown",
   "metadata": {}
  },
  {
   "cell_type": "code",
   "execution_count": 39,
   "metadata": {},
   "outputs": [],
   "source": [
    "class Book:\n",
    "    def __init__(self, title, author, pages):\n",
    "        print(\"A book is created\")\n",
    "        self.title = title\n",
    "        self.author = author\n",
    "        self.pages = pages\n",
    "\n",
    "    def __str__(self):\n",
    "        return \"Title: %s, author: %s, pages: %s\" %(self.title, self.author, self.pages)\n",
    "\n",
    "    def __len__(self):\n",
    "        return self.pages\n",
    "\n",
    "    def __del__(self):\n",
    "        print(\"A book is destroyed\")"
   ]
  },
  {
   "cell_type": "code",
   "execution_count": 40,
   "metadata": {},
   "outputs": [
    {
     "output_type": "stream",
     "name": "stdout",
     "text": [
      "A book is created\nTitle: Python Rocks!, author: Jose Portilla, pages: 159\n159\nA book is destroyed\n"
     ]
    }
   ],
   "source": [
    "book = Book(\"Python Rocks!\", \"Jose Portilla\", 159)\n",
    "\n",
    "#Special Methods\n",
    "print(book)\n",
    "print(len(book))\n",
    "del book"
   ]
  },
  {
   "source": [
    "## Polymorphism\n",
    "\n",
    "In Python, *`polymorphism`* refers to the way in which different object classes can share the same method name, and those methods can be called from the same place even though a variety of different objects might be passed in. The best way to explain this is by example:"
   ],
   "cell_type": "markdown",
   "metadata": {}
  },
  {
   "cell_type": "code",
   "execution_count": 41,
   "metadata": {},
   "outputs": [
    {
     "output_type": "stream",
     "name": "stdout",
     "text": [
      "Niko says Woof!\nFelix says Meow!\n"
     ]
    }
   ],
   "source": [
    "class Dog:\n",
    "    def __init__(self, name):\n",
    "        self.name = name\n",
    "\n",
    "    def speak(self):\n",
    "        return self.name+' says Woof!'\n",
    "    \n",
    "class Cat:\n",
    "    def __init__(self, name):\n",
    "        self.name = name\n",
    "\n",
    "    def speak(self):\n",
    "        return self.name+' says Meow!' \n",
    "    \n",
    "niko = Dog('Niko')\n",
    "felix = Cat('Felix')\n",
    "\n",
    "print(niko.speak())\n",
    "print(felix.speak())"
   ]
  },
  {
   "cell_type": "code",
   "execution_count": 42,
   "metadata": {},
   "outputs": [
    {
     "output_type": "stream",
     "name": "stdout",
     "text": [
      "Niko says Woof!\nFelix says Meow!\n"
     ]
    }
   ],
   "source": [
    "for pet in [niko,felix]:\n",
    "    print(pet.speak())"
   ]
  }
 ]
}